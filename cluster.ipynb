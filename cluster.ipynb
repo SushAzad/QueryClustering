{
 "cells": [
  {
   "cell_type": "code",
   "execution_count": 44,
   "metadata": {},
   "outputs": [],
   "source": [
    "import scipy\n",
    "from scipy import sparse\n",
    "import numpy as np \n",
    "import sklearn \n",
    "from sklearn.cluster import KMeans\n",
    "from sklearn.cluster import MeanShift\n",
    "from sklearn.cluster import SpectralClustering\n",
    "from sklearn.cluster import AgglomerativeClustering\n",
    "from sklearn.metrics import silhouette_score\n",
    "from sklearn import metrics\n",
    "\n",
    "import matplotlib.pyplot as plt\n",
    "\n",
    "import sys\n",
    "import pickle\n",
    "\n",
    "\n",
    "import crud_operations as co"
   ]
  },
  {
   "cell_type": "markdown",
   "metadata": {},
   "source": [
    "## Get pl_queries from db\n"
   ]
  },
  {
   "cell_type": "code",
   "execution_count": 2,
   "metadata": {
    "scrolled": true
   },
   "outputs": [
    {
     "name": "stdout",
     "output_type": "stream",
     "text": [
      "1418\n"
     ]
    }
   ],
   "source": [
    "def processQueries():\n",
    "    db = co.MySQLDB('pl_queries')\n",
    "    \n",
    "    queries = {}\n",
    "    res = db.readAllQueries()\n",
    "    for q in res:\n",
    "        queries[int(q[0])] = [q[2], q[3]]\n",
    "    return queries\n",
    "\n",
    "queries = processQueries()\n",
    "\n",
    "query_text=[queries[x][1] for x in queries]\n",
    "print(len(queries))"
   ]
  },
  {
   "cell_type": "markdown",
   "metadata": {},
   "source": [
    "## Definitions "
   ]
  },
  {
   "cell_type": "code",
   "execution_count": 112,
   "metadata": {},
   "outputs": [],
   "source": [
    "# given data, return list of clusters \n",
    "def kmeans(data, NUM_CLUSTERS):\n",
    "    km = KMeans(n_clusters=NUM_CLUSTERS)\n",
    "    km.fit(data)\n",
    "\n",
    "    clusters = km.labels_.tolist()\n",
    "    x = np.asarray(clusters)\n",
    "    \n",
    "    # testing bincount \n",
    "    # can compare to q_dic to see questions distribution \n",
    "    nc=get_num_clusters(x)\n",
    "    print(\"Distribution of clusters: \" + str(len(nc)))\n",
    "    print(nc)\n",
    "    \n",
    "    return x\n",
    "\n",
    "def mean_shift(data):\n",
    "    clustering = MeanShift().fit(data)\n",
    "    \n",
    "    x=clustering.labels_\n",
    "    nc=get_num_clusters(x)\n",
    "    print(\"Distribution of clusters: \" + str(len(nc)))\n",
    "    print(nc)\n",
    "    \n",
    "    \n",
    "    \n",
    "#     num_clusters=len(temp)\n",
    "#     plt.title(\"Number of queries in each cluster\")\n",
    "#     plt.xlabel(\"Cluster Id\")\n",
    "#     plt.bar(np.arange(num_clusters),np.bincount(clustering.labels_))\n",
    "    \n",
    "    return x\n",
    "\n",
    "def agglom(data, dist, link):\n",
    "    # FIX: CURRENT VERSION OF SKLEARN DOESNT ALLOW FOR NONE CLUSTERS \n",
    "    # because distance_threshold isn't an attribute...???\n",
    "    clustering = AgglomerativeClustering(n_clusters=None, distance_threshold=dist, linkage=link).fit(data)\n",
    "    x=clustering.labels_\n",
    "    nc=get_num_clusters(x)\n",
    "    print(\"Distribution of clusters: \" + str(len(nc)))\n",
    "    print(nc)\n",
    "    \n",
    "    return x"
   ]
  },
  {
   "cell_type": "markdown",
   "metadata": {},
   "source": [
    "### Utils"
   ]
  },
  {
   "cell_type": "code",
   "execution_count": 4,
   "metadata": {},
   "outputs": [],
   "source": [
    "# given a variantID, get all queries and embeddings\n",
    "# for that ID \n",
    "\n",
    "def get_clustering_input(emb):\n",
    "    data=[]\n",
    "    qids=[]\n",
    "\n",
    "    for key in emb:\n",
    "        qids.append(key)\n",
    "        data.append(emb[key])\n",
    "    return data, qids\n",
    "\n",
    "def get_num_clusters(clusters):\n",
    "    counter={}\n",
    "    for i in clusters:\n",
    "        if i in counter: \n",
    "            counter[i]+=1\n",
    "        else:\n",
    "            counter[i] = 1\n",
    "    return counter\n",
    "\n",
    "def get_question_queries(queries, variant, emb):\n",
    "    variant_qids=[]\n",
    "    for q in queries:\n",
    "        if queries[q][0] == variant:\n",
    "            variant_qids.append(q)\n",
    "            \n",
    "    subset_embs={}\n",
    "    for e in emb:\n",
    "        if e in variant_qids:\n",
    "            subset_embs[e]=emb[e]\n",
    "            \n",
    "    data, qids=get_clustering_input(subset_embs)\n",
    "    \n",
    "    return data, qids\n",
    "\n",
    "def get_ari(x, labels):\n",
    "    ari = metrics.adjusted_rand_score(labels, x) \n",
    "    print(\"ARI index: \" + str(ari))"
   ]
  },
  {
   "cell_type": "markdown",
   "metadata": {},
   "source": [
    "analysis for paper"
   ]
  },
  {
   "cell_type": "code",
   "execution_count": 5,
   "metadata": {},
   "outputs": [
    {
     "name": "stdout",
     "output_type": "stream",
     "text": [
      "natural join 157\n"
     ]
    }
   ],
   "source": [
    "keywords = [\"group by\", \"natural join\"]\n",
    "\n",
    "count=0\n",
    "word=\"natural join\"\n",
    "for q in query_text:\n",
    "#     words=q.split(\" \")\n",
    "#     sels=0\n",
    "#     for w in words:\n",
    "#         if \"select\" in w.lower():\n",
    "#             sels+=1\n",
    "#     if sels>2:\n",
    "#         count+=1     \n",
    "    if \"group by\" in q.lower() and \"having\" in q.lower():\n",
    "        count+=1\n",
    "print(word, count)\n",
    "        "
   ]
  },
  {
   "cell_type": "markdown",
   "metadata": {},
   "source": [
    "# Clustering "
   ]
  },
  {
   "cell_type": "code",
   "execution_count": 6,
   "metadata": {},
   "outputs": [],
   "source": [
    "# number of queries per Q \n",
    "variant_counts={}\n",
    "for key in queries:\n",
    "    variant=queries[key][0]\n",
    "    if variant in variant_counts:\n",
    "        variant_counts[variant]+=1\n",
    "    else:\n",
    "        variant_counts[variant]=1"
   ]
  },
  {
   "cell_type": "markdown",
   "metadata": {},
   "source": [
    "It looks like mean shift clustering gave us the best results for clustering by questionId. The accuracy of that method is easier to track becuase we had the labels (questionIDs). For the next section, results will be based on qualitative results--i.e., how closely do the queries within each cluster resemble eachother? \n",
    "\n",
    "## Clustering by question ID\n",
    "\n",
    "1. Define functions \n",
    "2. Cluster \n",
    "3. View clusters \n",
    "4. Print JSON \n",
    "5. Additional Analysis"
   ]
  },
  {
   "cell_type": "markdown",
   "metadata": {},
   "source": [
    "### 1. Define functions"
   ]
  },
  {
   "cell_type": "code",
   "execution_count": 8,
   "metadata": {},
   "outputs": [],
   "source": [
    "# get rid of all questions with less than 8 queries...\n",
    "all_variants=[x for x in variant_counts if variant_counts[x] >= 8]"
   ]
  },
  {
   "cell_type": "code",
   "execution_count": 113,
   "metadata": {},
   "outputs": [],
   "source": [
    "def get_all_clusters(name, n_clusters=6, dist=0.35, link='ward'):\n",
    "\n",
    "    # variant --> [query]\n",
    "    all_labels={}\n",
    "    \n",
    "    # variant --> [cluster assignments]\n",
    "    all_clusters={}\n",
    "    \n",
    "    \n",
    "    for v in all_variants: \n",
    "        data,qids=get_question_queries(queries, v, emb)\n",
    "        all_labels[v] = qids\n",
    "        \n",
    "        print(\"Question: \" + str(v) +\", \"+str(len(all_labels[v])) + \" queries.\")\n",
    "        clustering=\"\"\n",
    "        if name ==\"kmeans\": \n",
    "            clustering=kmeans(data, n_clusters)\n",
    "        elif name==\"mean_shift\":\n",
    "            clustering=mean_shift(data)\n",
    "        elif name==\"agglomerative\":\n",
    "            clustering=agglom(data, dist, link)\n",
    "            \n",
    "        try:\n",
    "            score = silhouette_score(data, clustering)\n",
    "            print(\"Silhouette score: %0.3f\" %score)\n",
    "        except: \n",
    "            print(\"Silhouette score: N/A. Only one cluster predicted\")\n",
    "        \n",
    "        print(\"\\n\")\n",
    "        all_clusters[v] = clustering\n",
    "        \n",
    "    return all_labels, all_clusters"
   ]
  },
  {
   "cell_type": "code",
   "execution_count": 104,
   "metadata": {},
   "outputs": [],
   "source": [
    "'''\n",
    "    Agglomerative: you can specify \"sensitivity\" by increasing or decreasing the distance threshold! \n",
    "    Default: 0.4 \n",
    "'''\n",
    "\n",
    "\n",
    "#     ward minimizes the variance of the clusters being merged.\n",
    "#     average uses the average of the distances of each observation of the two sets.\n",
    "#     complete or maximum linkage uses the maximum distances between all observations of the two sets.\n",
    "#     single uses the minimum of the distances between all observations of the two sets.\n",
    "\n",
    "def get_agglom(dist=0.35, link='ward'):\n",
    "    # variant --> [query]\n",
    "    all_labels={}\n",
    "    \n",
    "    # variant --> [cluster assignments]\n",
    "    all_clusters={}\n",
    "    \n",
    "    \n",
    "    for v in all_variants: \n",
    "        data,qids=get_question_queries(queries, v, emb)\n",
    "        all_labels[v] = qids\n",
    "        \n",
    "        print(\"Question: \" + str(v) +\", \"+str(len(all_labels[v])) + \" queries.\")\n",
    "\n",
    "        agg = AgglomerativeClustering(n_clusters=None, distance_threshold=dist, linkage=link).fit(data)\n",
    "        clustering=agg.labels_\n",
    "        try:\n",
    "            score = silhouette_score(data, clustering)\n",
    "            print(\"Silhouette score: %0.3f\" %score)\n",
    "#             print(\"Geeks : % 2d, Portal : % 5.2f\" %(1, 05.333))  \n",
    "        except: \n",
    "            print(\"Silhouette score: N/A. Only one cluster predicted\")\n",
    "        nc=get_num_clusters(clustering)\n",
    "        print(\"Number of clusters: \" + str(len(nc)) + \"\\n\")\n",
    "        all_clusters[v] = clustering\n",
    "        \n",
    "    return all_labels, all_clusters\n"
   ]
  },
  {
   "cell_type": "code",
   "execution_count": 114,
   "metadata": {
    "scrolled": true
   },
   "outputs": [],
   "source": [
    "# labs,clusts=get_agglom(dist=0.25, link='complete')"
   ]
  },
  {
   "cell_type": "code",
   "execution_count": 11,
   "metadata": {},
   "outputs": [],
   "source": [
    "def print_clusters(variant, output_file_name):\n",
    "    \n",
    "    clustering=all_clusters[variant]\n",
    "    qids=all_labels[variant]\n",
    "    nc=get_num_clusters(clustering)\n",
    "    \n",
    "    with open(output_file_name+'_'+str(variant)+'.tsv', 'w') as outf:\n",
    "        for i in sorted(nc):\n",
    "            outf.write(\"\\n\\n\\n######################################################################\\n\")\n",
    "            outf.write(\"# Cluster: \" + str(i) + \"         \\n\")\n",
    "            outf.write(\"######################################################################\\n\\n\")\n",
    "            for idx, c in enumerate(clustering):\n",
    "                if c==i:\n",
    "                    outf.write(str(queries[qids[idx]][0]) + \"\\n\")\n",
    "                    outf.write(queries[qids[idx]][1])\n",
    "                    outf.write(\"\\n\\n\")"
   ]
  },
  {
   "cell_type": "markdown",
   "metadata": {},
   "source": [
    "### 2. Doing the actual clustering "
   ]
  },
  {
   "cell_type": "code",
   "execution_count": 120,
   "metadata": {},
   "outputs": [],
   "source": [
    "file_keywords = \"KeywordizedQueryEmbeddingsSkipGram.pickle\"\n",
    "file_raw= \"RawQueryEmbeddingsSkipGram.pickle\""
   ]
  },
  {
   "cell_type": "code",
   "execution_count": 118,
   "metadata": {
    "scrolled": true
   },
   "outputs": [
    {
     "name": "stdout",
     "output_type": "stream",
     "text": [
      "Question: 4388082, 45 queries.\n",
      "Distribution of clusters: 5\n",
      "{0: 21, 1: 8, 4: 6, 2: 5, 3: 5}\n",
      "Silhouette score: 0.458\n",
      "\n",
      "\n",
      "Question: 4017605, 17 queries.\n",
      "Distribution of clusters: 1\n",
      "{0: 17}\n",
      "Silhouette score: N/A. Only one cluster predicted\n",
      "\n",
      "\n",
      "Question: 3902467, 33 queries.\n",
      "Distribution of clusters: 5\n",
      "{2: 10, 0: 11, 3: 6, 1: 2, 4: 4}\n",
      "Silhouette score: 0.494\n",
      "\n",
      "\n",
      "Question: 3902466, 37 queries.\n",
      "Distribution of clusters: 5\n",
      "{1: 11, 0: 17, 4: 3, 3: 3, 2: 3}\n",
      "Silhouette score: 0.535\n",
      "\n",
      "\n",
      "Question: 3893280, 186 queries.\n",
      "Distribution of clusters: 7\n",
      "{6: 32, 5: 20, 2: 34, 1: 21, 4: 10, 0: 45, 3: 24}\n",
      "Silhouette score: 0.349\n",
      "\n",
      "\n",
      "Question: 3893287, 149 queries.\n",
      "Distribution of clusters: 7\n",
      "{4: 10, 0: 37, 1: 41, 2: 25, 3: 11, 5: 21, 6: 4}\n",
      "Silhouette score: 0.251\n",
      "\n",
      "\n",
      "Question: 4014112, 25 queries.\n",
      "Distribution of clusters: 2\n",
      "{1: 4, 0: 21}\n",
      "Silhouette score: 0.533\n",
      "\n",
      "\n",
      "Question: 3893281, 188 queries.\n",
      "Distribution of clusters: 14\n",
      "{0: 37, 2: 15, 1: 14, 5: 26, 9: 16, 13: 9, 7: 3, 10: 11, 4: 13, 12: 18, 6: 9, 3: 12, 11: 4, 8: 1}\n",
      "Silhouette score: 0.292\n",
      "\n",
      "\n",
      "Question: 3893288, 157 queries.\n",
      "Distribution of clusters: 8\n",
      "{5: 31, 1: 30, 0: 28, 6: 16, 4: 17, 2: 22, 3: 12, 7: 1}\n",
      "Silhouette score: 0.257\n",
      "\n",
      "\n",
      "Question: 4014114, 8 queries.\n",
      "Distribution of clusters: 2\n",
      "{0: 6, 1: 2}\n",
      "Silhouette score: 0.618\n",
      "\n",
      "\n",
      "Question: 4017607, 18 queries.\n",
      "Distribution of clusters: 3\n",
      "{1: 10, 0: 5, 2: 3}\n",
      "Silhouette score: 0.590\n",
      "\n",
      "\n",
      "Question: 3689952, 41 queries.\n",
      "Distribution of clusters: 7\n",
      "{6: 14, 4: 3, 3: 7, 0: 7, 5: 4, 2: 3, 1: 3}\n",
      "Silhouette score: 0.731\n",
      "\n",
      "\n",
      "Question: 3902464, 48 queries.\n",
      "Distribution of clusters: 4\n",
      "{2: 14, 0: 20, 1: 3, 3: 11}\n",
      "Silhouette score: 0.449\n",
      "\n",
      "\n",
      "Question: 3902462, 58 queries.\n",
      "Distribution of clusters: 6\n",
      "{0: 25, 5: 2, 2: 19, 1: 4, 3: 7, 4: 1}\n",
      "Silhouette score: 0.428\n",
      "\n",
      "\n",
      "Question: 3902465, 36 queries.\n",
      "Distribution of clusters: 4\n",
      "{3: 12, 1: 11, 2: 8, 0: 5}\n",
      "Silhouette score: 0.599\n",
      "\n",
      "\n",
      "Question: 3893282, 199 queries.\n",
      "Distribution of clusters: 15\n",
      "{2: 24, 3: 38, 14: 17, 1: 17, 0: 34, 11: 7, 12: 5, 5: 5, 4: 8, 10: 9, 9: 6, 8: 6, 6: 12, 13: 2, 7: 9}\n",
      "Silhouette score: 0.468\n",
      "\n",
      "\n",
      "Question: 3893285, 168 queries.\n",
      "Distribution of clusters: 14\n",
      "{1: 25, 5: 16, 12: 15, 0: 7, 6: 34, 9: 14, 4: 6, 7: 21, 8: 10, 2: 10, 13: 2, 11: 3, 10: 2, 3: 3}\n",
      "Silhouette score: 0.445\n",
      "\n",
      "\n"
     ]
    }
   ],
   "source": [
    "NUM_CLUSTERS = 6\n",
    "emb=pickle.load(open(file_keywords, \"rb\" ))\n",
    "\n",
    "'''\n",
    "    example of input: \n",
    "    - kmeans (default: n_clusters=6)\n",
    "    - mean_shift (no parameters)\n",
    "    - agglomerative (default: dist=0.35, link='ward')\n",
    "        ex: get_all_clusters('agglomerative', dist=0.25, link='complete')\n",
    "'''\n",
    "all_labels, all_clusters=get_all_clusters('agglomerative', dist=0.25)"
   ]
  },
  {
   "cell_type": "markdown",
   "metadata": {},
   "source": [
    "### 3. View cluster results"
   ]
  },
  {
   "cell_type": "code",
   "execution_count": 145,
   "metadata": {},
   "outputs": [],
   "source": [
    "def view_clusters(clusters, labels, cluster=0):\n",
    "    print(\"Num clusters: \" + str(len(get_num_clusters(clusters))))\n",
    "    for idx, i in enumerate(clusters):\n",
    "        if i==cluster:\n",
    "            print(queries[labels[idx]])\n",
    "            print(\"\\n\")"
   ]
  },
  {
   "cell_type": "code",
   "execution_count": 146,
   "metadata": {},
   "outputs": [
    {
     "name": "stdout",
     "output_type": "stream",
     "text": [
      "41\n"
     ]
    }
   ],
   "source": [
    "variant=3689952\n",
    "clusters=all_clusters[variant]\n",
    "labels=all_labels[variant]\n",
    "print(len(clusters))"
   ]
  },
  {
   "cell_type": "code",
   "execution_count": 149,
   "metadata": {
    "scrolled": true
   },
   "outputs": [
    {
     "name": "stdout",
     "output_type": "stream",
     "text": [
      "Num clusters: 7\n",
      "[3689952, 'select *\\nfrom Cafe\\nright join Customer on Cafe.name = Customer.name']\n",
      "\n",
      "\n",
      "[3689952, 'SELECT * FROM Cafe c\\nLEFT OUTER JOIN Frequents f\\nON c.name = f.cafe']\n",
      "\n",
      "\n",
      "[3689952, 'select *\\nfrom Likes L join Sells S on L.drink = S.drink']\n",
      "\n",
      "\n"
     ]
    }
   ],
   "source": [
    "view_clusters(clusters, labels, 2)"
   ]
  },
  {
   "cell_type": "markdown",
   "metadata": {},
   "source": [
    "### 4. Save to JSON"
   ]
  },
  {
   "cell_type": "code",
   "execution_count": 140,
   "metadata": {},
   "outputs": [],
   "source": [
    "import json"
   ]
  },
  {
   "cell_type": "code",
   "execution_count": 142,
   "metadata": {},
   "outputs": [],
   "source": [
    "json_queries={}\n",
    "for idx, v in enumerate(all_labels):\n",
    "    qids=all_labels[v]\n",
    "    clusters=all_clusters[v]\n",
    "    v_str=str(v)\n",
    "    json_queries[v_str]={}\n",
    "    for jdx, qid in enumerate(qids):\n",
    "        cluster=str(clusters[jdx])\n",
    "        if cluster not in json_queries[v_str]:\n",
    "            json_queries[v_str][cluster] = [{\n",
    "                'queryNum': str(qid),\n",
    "                'query': queries[qid]\n",
    "            }]\n",
    "        else:\n",
    "            json_queries[v_str][cluster].append({\n",
    "                'queryNum': str(qid),\n",
    "                'query': queries[qid]\n",
    "            })\n",
    "        \n",
    "#         json_queries[v_str].append(\n",
    "#         {\n",
    "#             'queryNum': str(qid),\n",
    "#             'cluster': str(clusters[jdx]),\n",
    "#             'query': queries[qid]\n",
    "#         })"
   ]
  },
  {
   "cell_type": "code",
   "execution_count": 143,
   "metadata": {},
   "outputs": [],
   "source": [
    "with open('agglomerative_0.25_ward_keyword_skipgram_clusters.json', 'w') as outfile:\n",
    "    json.dump(json_queries, outfile)"
   ]
  },
  {
   "cell_type": "code",
   "execution_count": 16,
   "metadata": {},
   "outputs": [],
   "source": [
    "range_n_clusters=[2,3,4,5,6,7,8,9,10,11,12]\n",
    "data,qids=get_question_queries(queries, 3893280, emb)"
   ]
  },
  {
   "cell_type": "code",
   "execution_count": null,
   "metadata": {},
   "outputs": [],
   "source": []
  },
  {
   "cell_type": "markdown",
   "metadata": {},
   "source": [
    "## Playground. Messy data. Stay out! "
   ]
  },
  {
   "cell_type": "code",
   "execution_count": null,
   "metadata": {},
   "outputs": [],
   "source": [
    "from scipy.cluster.hierarchy import dendrogram, linkage\n",
    "data,qids=get_question_queries(queries, 3689952, emb)\n",
    "Z = linkage(data, 'ward')\n",
    "fig = plt.figure(figsize=(25, 10))\n",
    "dn = dendrogram(Z)"
   ]
  },
  {
   "cell_type": "code",
   "execution_count": null,
   "metadata": {},
   "outputs": [],
   "source": [
    "from scipy.cluster import fcluster\n",
    "from scipy.cluster.hierarchy import dendrogram, linkage\n",
    "X = [[i] for i in [2, 8, 0, 4, 1, 9, 9, 0]]\n",
    "Z = linkage(data, 'ward')\n",
    "dn = dendrogram(Z)"
   ]
  },
  {
   "cell_type": "markdown",
   "metadata": {},
   "source": [
    "### Silhouette Analysis"
   ]
  },
  {
   "cell_type": "code",
   "execution_count": 243,
   "metadata": {},
   "outputs": [],
   "source": [
    "range_n_clusters=[2,3,4,5,6,7,8,9,10,11,12]\n",
    "data,qids=get_question_queries(queries, 3893280, emb)"
   ]
  },
  {
   "cell_type": "code",
   "execution_count": 220,
   "metadata": {},
   "outputs": [
    {
     "name": "stdout",
     "output_type": "stream",
     "text": [
      "For n_clusters = 2, silhouette score is 0.4523311380240621)\n",
      "For n_clusters = 3, silhouette score is 0.5106188275303531)\n",
      "For n_clusters = 4, silhouette score is 0.48458719961988295)\n",
      "For n_clusters = 5, silhouette score is 0.5166606761414749)\n",
      "For n_clusters = 6, silhouette score is 0.5393908845222941)\n",
      "For n_clusters = 7, silhouette score is 0.5717891871697548)\n",
      "For n_clusters = 8, silhouette score is 0.5661057368920179)\n",
      "For n_clusters = 9, silhouette score is 0.5848817108509619)\n",
      "For n_clusters = 10, silhouette score is 0.5673771874928392)\n",
      "For n_clusters = 11, silhouette score is 0.5628455788378577)\n",
      "For n_clusters = 12, silhouette score is 0.566825927998546)\n"
     ]
    }
   ],
   "source": [
    "for n_clusters in range_n_clusters:\n",
    "    clusterer = KMeans(n_clusters=n_clusters)\n",
    "    preds = clusterer.fit_predict(data)\n",
    "    centers = clusterer.cluster_centers_\n",
    "\n",
    "    score = silhouette_score(data, preds)\n",
    "    print(\"For n_clusters = {}, silhouette score is {})\".format(n_clusters, score))"
   ]
  },
  {
   "cell_type": "code",
   "execution_count": 221,
   "metadata": {},
   "outputs": [],
   "source": [
    "clusterer = KMeans(n_clusters=9)\n",
    "preds = clusterer.fit_predict(data)"
   ]
  },
  {
   "cell_type": "code",
   "execution_count": 224,
   "metadata": {},
   "outputs": [],
   "source": [
    "variant=3902466\n",
    "labels=all_labels[variant]"
   ]
  },
  {
   "cell_type": "code",
   "execution_count": 226,
   "metadata": {
    "scrolled": true
   },
   "outputs": [
    {
     "name": "stdout",
     "output_type": "stream",
     "text": [
      "98 [3902466, 'SELECT *\\nFROM Employee\\nWHERE Employee.salary >\\n(SELECT minSalary\\nFROM Salary_Grade\\nWHERE Salary_Grade.grade = 12) AND Employee.salary < (SELECT maxSalary\\nFROM Salary_Grade\\nWHERE Salary_Grade.grade = 13) AND Employee.deptID = (SELECT deptID FROM Department WHERE deptLocation = \"London\")']\n",
      "\n",
      "\n",
      "103 [3902466, \"SELECT *\\nFROM Employee\\nWHERE deptID = (SELECT deptID FROM Department WHERE deptLocation = 'London')\\nAND salary >= (SELECT minSalary FROM Salary_Grade WHERE grade = 12) AND salary <= (SELECT maxSalary FROM Salary_Grade WHERE grade = 13)\"]\n",
      "\n",
      "\n",
      "109 [3902466, \"SELECT E.*\\nFROM Employee E\\nWHERE (E.salary <= (SELECT maxSalary from Salary_Grade where grade = 13) AND E.salary >= (SELECT minSalary from Salary_Grade where grade = 12)) AND (E.deptID in (SELECT deptID FROM Department WHERE deptLocation = 'London'));\"]\n",
      "\n",
      "\n",
      "114 [3902466, \"SELECT Employee.*\\nFROM (SELECT * \\n      FROM Employee\\n      WHERE Employee.deptID in (SELECT Department.deptID FROM Department WHERE Department.deptLocation = 'London')) as Employee, Salary_Grade\\nWHERE \\n    (Employee.salary >= Salary_Grade.minSalary and Employee.salary <= Salary_Grade.maxSalary and (Salary_Grade.grade = 12 or Salary_Grade.grade = 13))\\n\"]\n",
      "\n",
      "\n",
      "115 [3902466, \"SELECT *\\nFROM Employee\\nWHERE deptID IN (SELECT deptID FROM Department WHERE deptLocation = 'London') AND salary >= (SELECT minSalary FROM Salary_Grade WHERE grade = 12) AND salary <= (SELECT maxSalary FROM Salary_Grade where grade = 13);\\n\"]\n",
      "\n",
      "\n",
      "116 [3902466, \"SELECT *\\nFROM Employee\\nWHERE Employee.Salary >\\n       (SELECT Salary_Grade.minSalary\\n       FROM Salary_Grade\\n       WHERE Salary_Grade.grade = 12) AND\\n       Employee.Salary <\\n       (SELECT Salary_Grade.maxSalary\\n       FROM Salary_Grade\\n       WHERE Salary_Grade.grade = 13) AND\\n       'London' =\\n       (SELECT Department.deptLocation\\n        FROM Department\\n        WHERE Department.deptID = Employee.deptID)\"]\n",
      "\n",
      "\n",
      "120 [3902466, 'SELECT e.empID, e.empName, e.jobTitle, e.managerID, e.hireDate, e.salary, e.comission, e.deptID\\nFROM Employee e JOIN Department d ON (e.deptID = d.deptID)\\nWHERE\\n    d.deptLocation = \"London\"\\n\\n    AND e.salary >= (\\n    SELECT minSalary\\n    FROM Salary_Grade\\n    WHERE grade = 12\\n)\\n\\n    AND e.salary <= (\\n    SELECT maxSalary\\n    FROM Salary_Grade\\n    WHERE grade = 13\\n)']\n",
      "\n",
      "\n",
      "127 [3902466, \"SELECT *\\nFROM Employee\\nWHERE salary BETWEEN (SELECT minSalary FROM Salary_Grade WHERE grade = 12)\\n             AND\\n             (SELECT maxSalary FROM Salary_Grade WHERE grade = 13)\\n      AND deptID IN (SELECT deptID FROM Department WHERE deptLocation = 'London')\"]\n",
      "\n",
      "\n",
      "132 [3902466, 'SELECT *\\nFROM Employee\\nWHERE deptID IN (\\n    SELECT deptID\\n    FROM Department\\n    WHERE deptLocation = \"London\"\\n) AND salary >= (\\n    SELECT minSalary\\n    FROM Salary_Grade\\n    WHERE grade = 12\\n) AND salary <= (\\n    SELECT maxSalary\\n    FROM Salary_Grade\\n    WHERE grade = 13\\n);']\n",
      "\n",
      "\n"
     ]
    }
   ],
   "source": [
    "for idx, i in enumerate(preds):\n",
    "    if i==2:\n",
    "        print(labels[idx],queries[labels[idx]])\n",
    "        print(\"\\n\")"
   ]
  },
  {
   "cell_type": "code",
   "execution_count": 175,
   "metadata": {},
   "outputs": [
    {
     "name": "stdout",
     "output_type": "stream",
     "text": [
      "48 [4017605, 'Select d.deptName, d.deptLocation, Count(e.empID) as empCNT\\nfrom Department d Left outer join Employee e On (d.deptID = e.deptID)\\ngroup by  d.deptID\\norder by empCNT, d.deptName DESC']\n",
      "\n",
      "\n",
      "51 [4017605, 'SELECT d.deptName, d.deptLocation, COUNT(e.empID) as empCNT\\nFROM Department d \\nLEFT OUTER JOIN Employee e ON d.deptID = e.deptID\\nGROUP BY d.deptId\\nORDER BY empCNT, d.deptName DESC;']\n",
      "\n",
      "\n",
      "56 [4017605, 'SELECT d.deptName, d.deptLocation, COUNT(empID) as empCnt\\nFROM Department d LEFT OUTER JOIN Employee e ON (d.deptID = e.deptID)\\nGROUP BY deptName, deptLocation\\nORDER BY empCnt, deptName DESC']\n",
      "\n",
      "\n",
      "58 [4017605, 'SELECT d.deptName, d. deptLocation, COUNT(e.empID) as empIDCount\\nFrom Department d LEFT Outer Join Employee e ON (d.deptID = e.deptID)\\nGROUP BY d.deptID\\nORDER BY empIDCount, d.deptName DESC']\n",
      "\n",
      "\n",
      "60 [4017605, 'SELECT d.deptName, d.deptLocation, COUNT(e.empID) AS cnt\\nFROM Department d LEFT OUTER JOIN Employee e ON d.deptID = e.deptID\\nGROUP BY d.deptID\\nORDER BY cnt, d.deptName DESC']\n",
      "\n",
      "\n",
      "63 [4017605, 'SELECT d.deptName, d.deptLocation, COUNT(e.empID) AS empCnt\\nFROM Department d LEFT OUTER JOIN Employee e ON (d.deptID = e.deptID)\\nGROUP BY d.deptID\\nORDER BY empCnt, d.deptName DESC;']\n",
      "\n",
      "\n"
     ]
    }
   ],
   "source": [
    "for idx, i in enumerate(preds):\n",
    "    if i==0:\n",
    "        print(labels[idx], queries[labels[idx]])\n",
    "        print(\"\\n\")"
   ]
  },
  {
   "cell_type": "markdown",
   "metadata": {},
   "source": [
    "# Archive\n",
    "\n",
    "Don't look in this section! It probably doesn't contain what you are looking for"
   ]
  },
  {
   "cell_type": "code",
   "execution_count": null,
   "metadata": {},
   "outputs": [],
   "source": [
    "'''\n",
    "parameters\n",
    "    name: name of clustering algorithm; \"kmeans\", \"mean_shift\", or \"agglomerative\"\n",
    "    variant: question id (select from variant_id array)\n",
    "    NUM_CLUSTERS: for kmeans and agglomerative clustering, the number of clusters is required \n",
    "    \n",
    "output:\n",
    "    .tsv file will be created with each cluster followed by queries in that cluster\n",
    "    clusteirng array (each index represents the cluster of that query)\n",
    "    \n",
    "data:\n",
    "    the data is all queries obtained from the DB \n",
    "    unfortunately, yes, queries and emb are global variables. \n",
    "    i mean, we can just add it as a parameter..but then the same parameters are passed\n",
    "        back and forth for all the functions so... it ain't perfect but its aso\n",
    "\n",
    "'''\n",
    "\n",
    "\n",
    "def get_clusters(name, variant, NUM_CLUSTERS):\n",
    "\n",
    "    data,qids=get_question_queries(queries, variant, emb)\n",
    "    \n",
    "    clustering=\"\"\n",
    "    if name ==\"kmeans\": \n",
    "        clustering=kmeans(data, NUM_CLUSTERS)\n",
    "    elif name==\"mean_shift\":\n",
    "        clustering=mean_shift(data)\n",
    "    elif name==\"agglomerative\":\n",
    "        clustering=agglom(data, NUM_CLUSTERS)\n",
    "        \n",
    "    \n",
    "    nc=get_num_clusters(clustering)\n",
    "    \n",
    "    with open(name+'_skipgram_output_raw_'+str(variant)+'.tsv', 'w') as outf:\n",
    "        for i in sorted(nc):\n",
    "            outf.write(\"\\n\\n\\n######################################################################\\n\")\n",
    "            outf.write(\"# Cluster: \" + str(i) + \"         \\n\")\n",
    "            outf.write(\"######################################################################\\n\\n\")\n",
    "            for idx, c in enumerate(clustering):\n",
    "                if c==i:\n",
    "                    outf.write(str(queries[qids[idx]][0]) + \"\\n\")\n",
    "                    outf.write(queries[qids[idx]][1])\n",
    "                    outf.write(\"\\n\\n\")\n",
    "    return clustering"
   ]
  },
  {
   "cell_type": "markdown",
   "metadata": {},
   "source": [
    "## Clustering by ALL queries\n",
    "### Kmeans \n",
    "\n",
    "Let's see if embeddings can cluster the set of ALL queries, by their questionId\n"
   ]
  },
  {
   "cell_type": "code",
   "execution_count": 9,
   "metadata": {},
   "outputs": [
    {
     "name": "stdout",
     "output_type": "stream",
     "text": [
      "Distribution of clusters: \n",
      "{17: 108, 4: 58, 12: 81, 18: 24, 8: 156, 3: 96, 15: 27, 11: 56, 5: 69, 14: 65, 10: 129, 6: 72, 0: 75, 9: 94, 7: 47, 2: 80, 13: 111, 1: 65, 16: 5}\n"
     ]
    }
   ],
   "source": [
    "kmeans_clusters = kmeans(data, NUM_CLUSTERS)"
   ]
  },
  {
   "cell_type": "code",
   "execution_count": 10,
   "metadata": {},
   "outputs": [
    {
     "name": "stdout",
     "output_type": "stream",
     "text": [
      "ARI index: 0.26985051931680215\n"
     ]
    }
   ],
   "source": [
    "get_ari(kmeans_clusters, labels)"
   ]
  },
  {
   "cell_type": "code",
   "execution_count": 25,
   "metadata": {},
   "outputs": [
    {
     "data": {
      "text/plain": [
       "<BarContainer object of 19 artists>"
      ]
     },
     "execution_count": 25,
     "metadata": {},
     "output_type": "execute_result"
    },
    {
     "data": {
      "image/png": "[encoded data removed]",
      "text/plain": [
       "<Figure size 432x288 with 1 Axes>"
      ]
     },
     "metadata": {
      "needs_background": "light"
     },
     "output_type": "display_data"
    }
   ],
   "source": [
    "# bincount counts the number of occurences of each number in the array\n",
    "# i.e., bincount[0] is the # of times 0 occurs \n",
    "#       bincount[1] is the # of times 1 occurs \n",
    "\n",
    "plt.title(\"Number of queries in each cluster\")\n",
    "plt.xlabel(\"Cluster Id\")\n",
    "plt.bar(np.arange(NUM_CLUSTERS),np.bincount(kmeans_clusters))"
   ]
  },
  {
   "cell_type": "markdown",
   "metadata": {},
   "source": [
    "### View KMeans results:\n",
    "- Change \"i\" to the cluster number \n",
    "- All the queries belonging to that cluster will be printed"
   ]
  },
  {
   "cell_type": "code",
   "execution_count": 26,
   "metadata": {},
   "outputs": [
    {
     "data": {
      "text/plain": [
       "19"
      ]
     },
     "execution_count": 26,
     "metadata": {},
     "output_type": "execute_result"
    }
   ],
   "source": [
    "NUM_CLUSTERS"
   ]
  },
  {
   "cell_type": "code",
   "execution_count": 27,
   "metadata": {
    "scrolled": true
   },
   "outputs": [
    {
     "name": "stdout",
     "output_type": "stream",
     "text": [
      "[3893287, 'select c1.FirstName, c1.LastName, count(distinct p2.PurchaseId)\\nfrom Customers c1 natural join Purchases p1, Purchases p2,\\n    (select p3.ProductId, min(p3.Price) as cn from Purchases p3 group by p3.ProductId) as tmp\\nwhere p1.ProductId = tmp.ProductId and p1.price = tmp.cn and p2.CustomerId = p1.CustomerId\\ngroup by p1.CustomerId\\norder by p1.CustomerId desc;']\n",
      "\n",
      "\n",
      "[3893287, 'select FirstName,LastName,count(*)\\nfrom Customers natural join Purchases\\nwhere CustomerId in\\n    (select CustomerId\\n    from Customers natural join Purchases as total\\n    where Price = \\n                (\\n                select min(Price) # lowest price for that product\\n                from Purchases\\n                where ProductId = total.ProductId\\n                )\\n    group by CustomerId\\n    )\\ngroup by CustomerId\\norder by CustomerId desc']\n",
      "\n",
      "\n",
      "[3893287, 'SELECT cust.FirstName, cust.LastName, PurchaseCount.numPurchases\\nFROM Customers cust, (SELECT CustomerId, COUNT(*) as numPurchases FROM Purchases GROUP BY CustomerId) AS PurchaseCount\\nWHERE cust.CustomerId = PurchaseCount.CustomerId\\nAND cust.CustomerId IN (SELECT CustomerId\\n                        FROM Customers\\n                        WHERE CustomerId IN (SELECT A.CustomerId\\n                                            FROM Purchases A, (SELECT MIN(Price) AS MinPrice FROM Purchases GROUP BY ProductId) AS B\\n                                            WHERE A.Price = B.MinPrice)\\n                        ORDER BY CustomerId DESC)\\nORDER BY cust.CustomerId DESC']\n",
      "\n",
      "\n",
      "[3893287, 'select cu.FirstName, cu.LastName, purchaseAmountMapping.purchaseAmount\\nfrom Customers cu, \\n(select CustomerId, Count(*) as purchaseAmount \\nfrom Purchases\\nwhere CustomerId in \\n(Select c.CustomerId  from Customers c inner join Purchases p \\non c.CustomerId = p.CustomerId\\nwhere\\nprice in (select Min(Price) from Purchases \\nGroup by ProductId) \\nGroup by c.CustomerId\\norder by c.CustomerId desc)\\ngroup by CustomerId) purchaseAmountMapping\\nwhere cu.CustomerId = purchaseAmountMapping.CustomerId\\norder by cu.CustomerId desc\\n']\n",
      "\n",
      "\n",
      "[3893287, 'SELECT FirstName, LastName, COUNT(*)\\nFROM Customers NATURAL JOIN Purchases\\nGROUP BY FirstName, LastName, CustomerId\\nHAVING CustomerId IN (\\nSELECT CustomerId\\nFROM Purchases P1\\nWHERE Price <= ALL(\\nSELECT price\\nFROM Purchases P2\\nWHERE P1.ProductId = P2.ProductId)\\n)\\nORDER BY CustomerId DESC\\n']\n",
      "\n",
      "\n",
      "[3893287, 'Select x.FirstName, x.LastName, count(x.CustomerId)\\nfrom\\n    (Select g.FirstName, g.LastName, g.CustomerId, count(p1.ProductId) as counts\\n    from \\n        (Select cx.CustomerId, cx.FirstName, cx.LastName\\n        From (Customers cx JOIN Purchases px on cx.CustomerId=px.CustomerId)\\n        Where px.Price < ALL (Select Price \\n                         from Purchases p3 \\n                         where p3.ProductId = px.ProductId and \\n                               px.CustomerId <> p3.CustomerId)\\n        ) as g JOIN\\n        Purchases p1 on g.CustomerId=p1.CustomerId\\n    group by p1.PurchaseId, g.CustomerId) as x\\ngroup by x.CustomerId\\norder by x.CustomerId DESC\\n\\n']\n",
      "\n",
      "\n",
      "[3893287, 'SELECT M.FirstName, M.LastName, COUNT(M.CustomerId) AS CountNum \\nFROM (\\n       SELECT C.CustomerId, C.FirstName, C.LastName \\n       FROM Customers C  INNER JOIN (\\n                         SELECT pur.CustomerId\\n                         FROM Purchases pur JOIN (\\n                                 SELECT ProductId, MIN(Price) AS MINPRICE\\n                                 FROM Purchases \\n                                 GROUP BY ProductId) AS MINT\\n                                 ON pur.ProductId = MINT.ProductId AND pur.Price = MINT.MINPRICE\\n                         GROUP BY pur.CustomerId) AS T\\n                         ON C.CustomerId = T.CustomerId) AS M\\nLEFT JOIN Purchases \\nON M.CustomerId = Purchases.CustomerId\\nGROUP BY M.CustomerId, M.FirstName, M.LastName \\nORDER BY M.CustomerId DESC;']\n",
      "\n",
      "\n",
      "[3893287, 'SELECT FirstName, LastName, (SELECT COUNT(Pi.ProductId)\\n                                FROM Purchases Pi\\n                                WHERE C.CustomerId = Pi.CustomerId)\\nFROM Customers C JOIN Purchases P ON C.CustomerId = P.CustomerId\\nWHERE Price IN (\\n    SELECT MIN(Price)\\n    FROM Purchases\\n    GROUP BY ProductId\\n    )\\nGROUP BY P.CustomerId\\nORDER BY P.CustomerId DESC;']\n",
      "\n",
      "\n",
      "[3893287, 'select c.FirstName, c.LastName, count(p.PurchaseId)\\nfrom Customers c join Purchases p\\non c.CustomerId = p.CustomerId\\nwhere c.CustomerId in \\n(\\nselect p3.CustomerId \\nfrom Purchases p3 join (select p2.ProductId, min(p2.Price) as minPrice from Purchases p2 group by p2. ProductId) as temp\\non p3.ProductId = temp.ProductId\\nwhere p3.Price = temp.minPrice\\n\\n)\\ngroup by c.CustomerId\\norder by c.CustomerId desc']\n",
      "\n",
      "\n",
      "[3893287, 'SELECT Customers.FirstName, Customers.LastName, COUNT(Purchases.PurchaseId)\\nFROM \\n(SELECT Customers.CustomerId\\n    FROM Customers\\n    JOIN Purchases ON Purchases.CustomerId = Customers.CustomerId\\n    JOIN (SELECT Products.ProductId, MIN(Purchases.Price) AS Price\\n        FROM Purchases\\n        JOIN Products ON Products.ProductId = Purchases.ProductId\\n        GROUP BY Products.ProductName, Products.ProductId) AS cheapest\\n        ON cheapest.ProductId = Purchases.ProductId\\n    WHERE cheapest.Price = Purchases.Price\\n    GROUP BY Customers.CustomerId) AS c\\nJOIN Customers ON Customers.CustomerId = c.CustomerId\\nJOIN Purchases ON c.CustomerId = Purchases.CustomerId\\nGROUP BY Customers.FirstName, Customers.LastName, Customers.CustomerId\\nORDER BY Customers.CustomerId DESC']\n",
      "\n",
      "\n",
      "[3893287, 'SELECT L.FirstName, L.LastName, R.CartSize\\nFROM\\n    Customers as L,\\n    (\\n    SELECT CustomerId, COUNT(CustomerId) as CartSize\\n    FROM Purchases\\n    WHERE CustomerId IN (\\n        SELECT CustomerId\\n        FROM Purchases as P,\\n            (\\n            SELECT ProductId, MIN(Price) as Price\\n            FROM Purchases\\n            GROUP BY ProductId\\n            ) as P_Min\\n        WHERE P.ProductId = P_Min.ProductId AND P.Price = P_Min.Price\\n    )\\n    GROUP BY CustomerId\\n    ) as R\\nWHERE\\n    L.CustomerId = R.CustomerId\\nORDER BY L.CustomerId DESC']\n",
      "\n",
      "\n",
      "[3893287, 'SELECT FirstName, LastName, TotalPurchases\\nFROM (SELECT DISTINCT Customers.CustomerId, FirstName, LastName, TotalPurchases\\n      FROM Customers,\\n           Purchases,\\n           (SELECT ProductId, MIN(Price) AS LowestPrice FROM Purchases GROUP BY ProductId) AS LowestPrices,\\n           (SELECT CustomerId, COUNT(PurchaseId) AS TotalPurchases FROM Purchases GROUP BY CustomerId ORDER BY CustomerId DESC) AS CustomerReceipt\\n      WHERE Customers.CustomerId = Purchases.CustomerId AND\\n           Purchases.ProductId = LowestPrices.ProductId AND\\n           Purchases.Price = LowestPrices.LowestPrice AND\\n           CustomerReceipt.CustomerId = Customers.CustomerId\\n      ORDER BY Customers.CustomerId DESC\\n     ) AS ordered_table;\\n           \\n    ']\n",
      "\n",
      "\n",
      "[3893287, 'SELECT t1.FirstName, t1.LastName, COUNT(p2.PurchaseId)\\nFROM\\n(SELECT Customers.FirstName as FirstName, Customers.LastName as LastName, Customers.CustomerId\\nFROM Customers\\nINNER JOIN Purchases p\\nON Customers.CustomerId = p.CustomerId\\nINNER JOIN Products\\nON Products.ProductId = p.ProductId\\nINNER JOIN Brands\\nON Brands.BrandName = Products.BrandName\\nWHERE p.Price <= (SELECT MIN(Price) FROM Purchases INNER JOIN Products ON Products.ProductId = Purchases.ProductId WHERE p.ProductId = Purchases.ProductId)\\nGROUP BY Customers.CustomerId\\nORDER BY Customers.CustomerId DESC) as t1\\nINNER JOIN Purchases as p2\\nON p2.CustomerId = t1.CustomerId\\nGROUP BY t1.CustomerId\\nORDER BY t1.CustomerId DESC\\n\\n']\n",
      "\n",
      "\n",
      "[3893287, 'SELECT re.FirstName, re.LastName, COUNT(pr.PurchaseId)\\nFROM \\n(SELECT DISTINCT c.FirstName, c.LastName, c.CustomerId\\nFROM Customers c JOIN  Purchases p ON c.CustomerId = p.CustomerId\\nWHERE p.Price IN (SELECT MIN(Price) FROM Purchases GROUP BY ProductId)\\n) re JOIN Purchases pr ON re.CustomerId = pr.CustomerId\\n\\nGROUP BY re.CustomerId\\nORDER BY re.CustomerId DESC\\n\\n\\n\\n\\n']\n",
      "\n",
      "\n",
      "[3893287, 'SELECT FirstName, LastName, COUNT(Purchases.Price) FROM  Purchases JOIN Customers ON Purchases.CustomerId = Customers.CustomerId\\nWHERE Customers.CustomerId IN (SELECT Purchases.CustomerId FROM Purchases WHERE Price IN (SELECT MIN(PRICE) FROM Purchases GROUP BY Purchases.ProductId) GROUP BY CustomerId)\\nGROUP BY Purchases.CustomerId\\nORDER BY Purchases.CustomerId DESC;']\n",
      "\n",
      "\n",
      "[3893287, 'SELECT FirstName, LastName, NumPurchases\\nFROM (\\n    SELECT CustomerId, FirstName, LastName, COUNT(PurchaseId) AS NumPurchases\\n    FROM Customers\\n    NATURAL JOIN Purchases\\n    WHERE CustomerId IN\\n    (\\n        SELECT CustomerId\\n        FROM Customers\\n        NATURAL JOIN Purchases\\n        WHERE (ProductId, Price) IN (\\n            SELECT ProductId, MIN(Price) AS MinPrice\\n            FROM Purchases\\n            GROUP BY ProductId\\n        )\\n    )\\n    GROUP BY CustomerId, FirstName, LastName\\n    ORDER BY CustomerId DESC, FirstName, LastName\\n) AS sub']\n",
      "\n",
      "\n",
      "[3893287, 'Select ca.FirstName, ca.LastName, d.pprice\\nfrom Customers ca\\ninner join\\n(Select count(Purchases.PurchaseID) as pprice, Purchases.CustomerId\\nfrom Purchases\\ninner join \\n(Select DISTINCT c.CustomerID, c.FirstName, c.LastName\\nfrom Customers c\\ninner join (Select *\\n    from Purchases as pu\\n    inner join (Select p.ProductID as pTable, MIN(p.Price) as minprice\\n    from Purchases p\\n    group by pTable) as a\\nwhere pu.ProductID = a.pTable AND pu.Price = a.minprice) as b\\nwhere c.CustomerID = b.CustomerID) as fintable\\nwhere Purchases.CustomerID = fintable.CustomerID\\nGroup By Purchases.CustomerID) as d\\nwhere  ca.CustomerID = d.CustomerID\\norder by ca.CustomerID DESC']\n",
      "\n",
      "\n",
      "[3893287, 'Select cc.FirstName, cc.LastName, nameWithCount.theCounter\\nFrom Customers cc, (Select pu.CustomerId, Count(pu.CustomerId) as theCounter\\n    From Purchases pu , (SELECT Distinct a.CustomerId\\n        FROM Purchases a JOIN ( \\n            SELECT ProductId, MIN(Price) minPrice\\n            FROM Purchases\\n            GROUP BY ProductId \\n            ) minPriceTable \\n        ON a.ProductId = minPriceTable.ProductId AND a.Price = minPriceTable.minPrice\\n        Order by a.CustomerId desc) minBuyers\\n    Where pu.CustomerId = minBuyers.CustomerId\\n    Group By pu.CustomerId\\n    Order By pu.CustomerId desc) nameWithCount\\nWhere cc.CustomerId = nameWithCount.CustomerId\\nOrder By cc.CustomerId desc']\n",
      "\n",
      "\n",
      "[3893287, 'SELECT output.FirstName, output.LastName, COUNT(*)\\n\\t\\tFROM (SELECT DISTINCT Customers.FirstName, Customers.LastName, Customers.CustomerId\\n\\t\\t\\tFROM Purchases p\\n\\t\\t\\tINNER JOIN Customers ON p.CustomerId=Customers.CustomerId\\n\\t\\t\\tINNER JOIN Products ON p.ProductID = Products.ProductID\\n\\t\\t\\tINNER JOIN Brands ON Products.BrandName = Brands.BrandName\\n\\t\\t\\tWHERE (p.Price, p.ProductId) IN (SELECT MIN(Price), ProductId FROM Purchases GROUP BY ProductId)\\n\\t\\t\\tORDER BY Customers.CustomerId DESC) as output\\n\\t\\tLEFT JOIN Purchases \\n\\t\\tON Purchases.CustomerId = output.CustomerId\\n\\t\\tGROUP BY output.CustomerId\\n\\t\\tORDER BY output.CustomerId DESC']\n",
      "\n",
      "\n",
      "[3893287, 'SELECT a.FirstName, a.LastName, a.TotalPurchases\\nFROM\\n(SELECT c.FirstName, c.LastName, COUNT(*) AS TotalPurchases, c.CustomerId\\nFROM (\\n    SELECT DISTINCT CustomerId\\n    FROM Purchases p\\n    JOIN (\\n        SELECT MIN(PRICE) AS minPrice, ProductId\\n        FROM Purchases\\n        GROUP BY ProductId\\n        )mins \\n    ON p.ProductId = mins.ProductId\\n    AND p.Price = mins.minPrice\\n) minPeeps\\nJOIN Customers c ON minPeeps.CustomerId = c.CustomerId\\nJOIN Purchases p ON minPeeps.CustomerId = p.CustomerId\\n\\nGROUP BY c.FirstName, c.LastName, c.CustomerId\\nORDER BY c.CustomerId DESC)\\na;']\n",
      "\n",
      "\n",
      "[3893287, 'select c1.FirstName, c1.LastName, count(*) from  Purchases p1\\njoin Customers c1 on c1.CustomerId = p1.CustomerId \\nwhere c1.CustomerId in\\n(select p.CustomerId \\nfrom Purchases p \\njoin \\n(select min(Purchases.Price) as min_price, Purchases.ProductId as min_id\\nfrom Purchases\\ngroup by min_id) min_table\\non min_table.min_id = p.ProductId\\nwhere p.Price=min_table.min_price\\n)\\ngroup by p1.CustomerId\\norder by c1.CustomerId DESC']\n",
      "\n",
      "\n",
      "[3893287, 'select c.FirstName, c.LastName, a.total_number from Customers c join (select CustomerId ,count(1) as total_number from Purchases p where CustomerId in (select CustomerId from Purchases p join (select p.ProductId, min(Price) as min_price from Purchases p group by p.ProductId) b on p.ProductId = b.ProductId where p.Price = b.min_price) group by CustomerId) a on c.CustomerId = a.CustomerId order by c.CustomerId desc\\n\\n\\n']\n",
      "\n",
      "\n",
      "[3893287, 'select p4.FirstName, p4.LastName, count(p4.CustomerId) as count from (\\n    select Customers.CustomerId, Customers.FirstName, Customers.LastName from Customers join (select p1.CustomerId from Purchases p1 join (\\n            select ProductId, min(Price) as min from Purchases group by ProductId\\n        ) as p2 on p1.ProductId = p2.ProductId and p1.Price = p2.min group by p1.CustomerId) as p3 on Customers.CustomerId = p3.CustomerId\\n    ) as p4 left join Purchases on p4.CustomerId = Purchases.CustomerId group by p4.CustomerId, p4.FirstName, p4.LastName order by p4.CustomerId DESC ;']\n",
      "\n",
      "\n",
      "[3893287, \"SELECT Customers.FirstName, Customers.LastName, COUNT(Purchases.CustomerId)\\nFROM Customers\\nNATURAL JOIN Purchases\\nWHERE Purchases.CustomerId IN (\\n    SELECT Purchases.CustomerId       #grabs customer who bought it at this price note: this wouldn't work if there were 2 products that has the same price? \\n    FROM Purchases \\n    WHERE Purchases.Price IN ( #checks lowest price\\n        SELECT MIN(Purchases.Price)\\n        FROM Purchases\\n        GROUP BY Purchases.ProductId\\n        )\\n    )\\n    GROUP BY Purchases.CustomerId\\n    ORDER BY CustomerId DESC\"]\n",
      "\n",
      "\n",
      "[3893287, 'SElECT C.FirstName, C.LastName, (SELECT COUNT(*) FROM Purchases WHERE CustomerId = C.CustomerId)\\nFROM Customers C\\nJOIN Purchases P ON (P.CustomerId = C.CustomerId)\\nJOIN (SELECT P.ProductId, MIN(P.PRICE) as MPRICE FROM Purchases P GROUP BY P.ProductId) Pu ON (Pu.ProductId = P.ProductId AND Pu.MPRICE = P.PRICE)\\nGROUP BY C.CustomerId\\nORDER BY C.CustomerId DESC ']\n",
      "\n",
      "\n",
      "[3893287, 'SELECT FirstName, LastName, COUNT(PurchaseId)\\nFROM Purchases NATURAL JOIN Customers \\nWHERE FirstName IN\\n(SELECT FirstName FROM Purchases NATURAL JOIN Customers\\nWHERE Purchases.Price IN (SELECT MIN(Price) FROM Purchases GROUP BY ProductId)\\nGROUP BY CustomerId)\\nGROUP BY CustomerId\\nORDER BY MIN(CustomerId) DESC']\n",
      "\n",
      "\n",
      "[3893287, 'SELECT C.FirstName, C.LastName, COUNT(P.PurchaseId)\\nFROM Customers C, Purchases P, \\n    (SELECT DISTINCT C.CustomerId\\n    FROM Customers C, Purchases P, (SELECT MIN(Price) AS Price FROM Purchases GROUP BY ProductId) AS MINP\\n    WHERE C.CustomerId = P.CustomerId \\n    AND P.Price = MINP.Price) AS MINC\\nWHERE C.CustomerId = MINC.CustomerId AND P.CustomerId = C.CustomerId\\nGROUP BY C.CustomerId\\nORDER BY C.CustomerId DESC']\n",
      "\n",
      "\n",
      "[3893287, 'select FirstName, LastName, c from \\n(select CustomerId, count(CustomerId) as c from Purchases\\nwhere Purchases.CustomerId in\\n(select CustomerId from Purchases\\ninner join (select ProductId, min(Price) as minPrice from Purchases group by productId) as M\\non Purchases.ProductId = M.ProductId and Purchases.Price = M.minPrice)\\ngroup by CustomerId) as O\\nleft join\\nCustomers on Customers.CustomerId = O.CustomerId\\norder by Customers.CustomerId desc']\n",
      "\n",
      "\n",
      "[3893287, 'SELECT FirstName AS f, LastName AS l, (SELECT COUNT(PurchaseId) FROM Purchases p JOIN Customers cus ON p.CustomerId = cus.CustomerId WHERE cus.FirstName = f AND cus.LastName = l GROUP BY p.CustomerId)\\nFROM Purchases pur JOIN Customers cus ON pur.CustomerId = cus.CustomerId\\nWHERE pur.Price IN (SELECT MIN(pu.Price) FROM Purchases pu GROUP BY pu.ProductId) \\nGROUP BY pur.CustomerId\\nORDER BY pur.CustomerId DESC;']\n",
      "\n",
      "\n",
      "[3893287, 'SELECT Customers.FirstName, Customers.LastName, COUNT(Purchases.PurchaseId)\\nFROM Customers\\nJOIN Purchases ON Customers.CustomerId = Purchases.CustomerId\\nWHERE Customers.CustomerId in \\n(\\n    SELECT Customers.CustomerId\\n    FROM Customers\\n    JOIN Purchases ON Customers.CustomerId = Purchases.CustomerId\\n    WHERE Purchases.Price = (SELECT MIN(Price) FROM Purchases pur WHERE Purchases.ProductId = pur.ProductId)\\n    GROUP BY Customers.CustomerId\\n)\\nGROUP BY Customers.CustomerId\\nORDER BY Customers.CustomerId DESC']\n",
      "\n",
      "\n",
      "[3893287, 'SELECT FirstName, LastName,\\n        (SELECT COUNT(*) FROM Purchases AS P WHERE P.CustomerId = Purchases.CustomerId)\\n    FROM Customers NATURAL JOIN Purchases\\n    WHERE (Price, ProductId) IN (\\n        SELECT MIN(Price), ProductId FROM Purchases\\n            GROUP BY ProductId\\n    )\\n    GROUP BY CustomerId\\n    ORDER BY CustomerId DESC']\n",
      "\n",
      "\n",
      "[3893287, 'SELECT bigsub.fir, bigsub.las, bigsub.ctt\\nFROM\\n(SELECT DISTINCT cus.FirstName as fir, cus.LastName as las, cus.CustomerId, ctr.ct as ctt\\nFROM Purchases pur1\\nJOIN (SELECT pur.ProductId, MIN(Price) as pri FROM Purchases pur\\nGROUP BY pur.ProductId) as pur2 on pur1.ProductId = pur2.ProductId AND pur1.Price = pur2.pri\\nJOIN Customers as cus on pur1.CustomerId = cus.CustomerId\\nJOIN (SELECT CustomerId, COUNT(*) as ct\\nFROM Purchases\\nGROUP BY CustomerId) as ctr on cus.CustomerId = ctr.CustomerId\\nORDER BY cus.CustomerId DESC) as bigsub;']\n",
      "\n",
      "\n",
      "[3893287, 'select c.FirstName, c.LastName, count(*) \\nfrom Customers as c JOIN Purchases as p ON c.CustomerId = p.CustomerId\\nGroup By c.FirstName, c.LastName,c.CustomerId\\nHAVING c.CustomerId IN(SELECT p1.CustomerId From Purchases p1 where p1.Price <= ALL(select p2.Price From Purchases p2 where p1.ProductId = p2.ProductId))\\nOrder By c.CustomerId DESC']\n",
      "\n",
      "\n",
      "[3893287, 'SELECT FirstName, LastName, total_purchase\\nFROM Customers NATURAL JOIN (SELECT CustomerId, count(PurchaseId) as total_purchase FROM Customers NATURAL JOIN Purchases GROUP BY CustomerId) AS Purchase_Table\\nWHERE CustomerId in (SELECT DISTINCT CustomerId FROM Purchases NATURAL JOIN (SELECT ProductId, MIN(Price) as Min_Price FROM Purchases GROUP BY ProductId) AS MIN_PRICE_TABLE WHERE Price = Min_Price)\\nORDER BY CustomerId DESC;']\n",
      "\n",
      "\n",
      "[3893287, \"SELECT c.FirstName, c.LastName, COUNT(pc4.PurchaseId)\\nFROM (\\n    SELECT DISTINCT pc1.CustomerId  # Get distinct customer IDs so they're not counted more than once in above query\\n    FROM Purchases pc1\\n    WHERE pc1.Price < ALL(\\n        SELECT pc2.Price\\n        FROM Purchases pc2\\n        WHERE pc1.ProductId = pc2.ProductId  # Same product\\n        AND pc1.PurchaseId <> pc2.PurchaseId  # Diff purchase\\n    )\\n) AS pc3\\nNATURAL JOIN Customers c\\nNATURAL JOIN Purchases pc4\\nGROUP BY c.CustomerId\\nORDER BY pc4.CustomerId DESC\\n\\n# Why doesn't below query WORK? Is it because I'm performing a JOIN after a GROUP BY?\\n# SELECT DISTINCT c.FirstName, c.LastName, COUNT(pc4.PurchaseId)\\n# FROM (\\n#     SELECT pc1.ProductId, MIN(pc1.Price) AS minPrice\\n#     FROM Purchases pc1\\n#     GROUP BY pc1.ProductId\\n#     JOIN Purchases pc2\\n#     ON pc1.ProductId = pc2.ProductId\\n#     AND minPrice = pc2.Price\\n# ) AS pc3\\n# NATURAL JOIN Customers c\\n# NATURAL JOIN Purchases pc4\\n# GROUP BY c.CustomerId\\n# ORDER BY pc4.CustomerId DESC\"]\n",
      "\n",
      "\n",
      "[3893287, 'SELECT cus.FirstName, cus.LastName, COUNT(pur.PurchaseId)\\nFROM Purchases pur NATURAL JOIN Customers cus\\nWHERE CustomerId = ANY( SELECT CustomerId \\n                        FROM Purchases NATURAL JOIN (SELECT ProductId, MIN(Price) minPrice\\n                                                     FROM Purchases \\n                                                     GROUP BY ProductId) minPriceProduct\\n                        WHERE Price = minPrice\\n                        )\\nGROUP BY CustomerId\\nORDER BY CustomerId DESC']\n",
      "\n",
      "\n",
      "[3893287, 'select C.FirstName, C.LastName, count(P.PurchaseId)\\nfrom Customers as C left join Purchases as P on C.CustomerId = P.CustomerId\\nwhere C.CustomerId in (select CustomerId from Purchases,\\n(select ProductId, min(Price) as Price from Purchases group by ProductId) as minPrice\\nwhere Purchases.ProductId = minPrice.ProductId and Purchases.Price = minPrice.Price)\\ngroup by C.customerId\\norder by C.CustomerId DESC']\n",
      "\n",
      "\n",
      "[3893287, 'SELECT c.FirstName, c.LastName, COUNT(*)\\nFROM Customers c\\nNATURAL JOIN Purchases p1\\nWHERE c.CustomerId IN(\\n    SELECT DISTINCT p2.CustomerId\\n    FROM Purchases p2 NATURAL JOIN\\n        (SELECT p3.ProductId, MIN(p3.Price) AS minimum\\n         FROM Purchases p3 NATURAL JOIN Products\\n         GROUP BY ProductId) AS temp\\n    WHERE p2.Price=temp.minimum\\n)\\nGROUP BY c.CustomerId\\nORDER BY c.CustomerId DESC;']\n",
      "\n",
      "\n",
      "[3893287, 'SELECT FirstName, LastName, Num\\nFROM\\n    (SELECT DISTINCT PB.CustomerId, FirstName, LastName, NumPurchasesByCustomer.Num\\n    FROM Purchases PB RIGHT JOIN \\n        (SELECT C.CustomerId, C.FirstName, C.LastName, COUNT(*) as Num\\n        FROM Customers C RIGHT JOIN Purchases P\\n        ON C.CustomerId = P.CustomerId\\n        GROUP BY C.CustomerId) AS NumPurchasesByCustomer ON NumPurchasesByCustomer.CustomerId = PB.CustomerId\\n    WHERE PB.Price IN\\n        (SELECT MIN(PC.Price)\\n        FROM Purchases PC\\n        GROUP BY PC.ProductId)\\n    ORDER BY PB.CustomerId DESC) AS Final']\n",
      "\n",
      "\n",
      "[3893287, 'SELECT O.FirstName, O.LastName, O.cnt\\nFROM (\\nSELECT DISTINCT\\n    C.FirstName, C.LastName, p.cnt, C.CustomerId\\nFROM\\n    Customers C\\n    JOIN\\n    (\\n        SELECT C.CustomerId, count(*) as cnt\\n        FROM \\n            Customers C\\n            JOIN\\n            Purchases P\\n                on C.CustomerId = P.CustomerId\\n        GROUP by\\n            C.CustomerId\\n    ) as p \\n        on C.CustomerId = p.CustomerId\\nWHERE\\n    C.CustomerId IN (\\n        SELECT CustomerId\\n        FROM\\n            Purchases P \\n            JOIN (\\n                SELECT ProductId, MIN(Price) as MinPrice\\n                FROM Purchases\\n                GROUP by ProductId\\n            ) as m\\n                on P.ProductId = m.ProductId\\n        WHERE\\n            P.Price = m.MinPrice\\n    )\\nORDER by C.CustomerId DESC\\n) as O\\n']\n",
      "\n",
      "\n",
      "[3893287, 'SELECT FirstName, LastName, COUNT(Purchases.CustomerId)\\nFROM Customers JOIN Purchases ON Customers.CustomerId = Purchases.CustomerId\\nWHERE Purchases.CustomerId IN\\n    (SELECT CustomerId\\n    FROM Purchases\\n    WHERE Price IN \\n        (SELECT Min(Purchases.Price)\\n        FROM Purchases\\n        GROUP BY Purchases.ProductId))\\nGROUP BY Purchases.CustomerId\\nORDER BY Purchases.CustomerId DESC\\n']\n",
      "\n",
      "\n",
      "[3893287, 'SELECT Customers.FirstName, Customers.LastName, COUNT(Purchases.PurchaseId)\\nFROM Customers \\nJOIN Purchases ON Customers.CustomerId = Purchases.CustomerId\\nWHERE Customers.CustomerId in\\n(\\nSELECT Customers.CustomerId\\nFROM Customers\\nJOIN Purchases ON Customers.CustomerId = Purchases.CustomerId\\nWHERE Purchases.Price = (\\n    SELECT MIN(Price)\\n    FROM Purchases P\\n    WHERE Purchases.ProductId = P.ProductId\\n)\\nGROUP BY Customers.CustomerId\\n) \\nGROUP BY Customers.CustomerId\\nORDER BY Customers.CustomerId DESC;\\n']\n",
      "\n",
      "\n",
      "[3893287, 'Select a.Firstname,a.LastName, Count(CustomerId)\\nFrom Customers a Natural Join Purchases b\\nwhere a.CustomerId in(\\n    select c.CustomerId\\n    From Purchases c natural join (\\n    select d.ProductId, MIN(d.Price) as lowest_price\\n    From Purchases d, Products e\\n    where d.ProductId = e.ProductId\\n    group by d.ProductId\\n    ) as sub_qu\\n    where c.Price = sub_qu.lowest_price\\n)\\nGroup by a.CustomerId\\nOrder by a.CustomerId DESC']\n",
      "\n",
      "\n",
      "[3893287, 'select firstname, lastname, count(purchaseid)\\nfrom Customers c, Purchases p1\\nwhere c.customerid=p1.customerid \\n  and c.customerid in \\n  (select customerid from (select p2.customerid\\n  from (select productid, min(price) as min_price from Purchases group by productid) as t \\n        join Purchases p2 on t.productid=p2.productid \\n        where p2.price=min_price\\n        group by customerid) as temp)\\ngroup by c.customerid\\norder by c.customerid desc']\n",
      "\n",
      "\n",
      "[3893287, 'select Customers.FirstName, Customers.LastName, count(Purchases.PurchaseId)\\nfrom (\\n  select Customers.CustomerId\\n  from Customers\\n  join Purchases on Customers.CustomerId = Purchases.CustomerId\\n  join (\\n    select Products.ProductId, min(Purchases.Price) as Price\\n    from Purchases\\n    join Products on Products.ProductId = Purchases.ProductId\\n    group by Products.ProductName, Products.ProductId\\n  ) as lowest_price\\n  on lowest_price.ProductId = Purchases.ProductId\\n  where lowest_price.Price = Purchases.Price\\n  group by Customers.CustomerId\\n) as processed\\njoin Purchases on processed.CustomerId = Purchases.CustomerId\\njoin Customers on processed.CustomerId = Customers.CustomerId\\ngroup by Customers.FirstName, Customers.LastName, Customers.CustomerId\\norder by Customers.CustomerId desc']\n",
      "\n",
      "\n",
      "[3893287, 'SELECT c.FirstName, c.LastName, COUNT(*)\\nFROM Customers c JOIN Purchases p ON (c.CustomerId = p.CustomerId)\\nWHERE c.CustomerId IN (\\n    -- Select the customer ID that corresponds to the minimum price for a product\\n    SELECT CustomerId \\n    FROM Purchases pr\\n    WHERE pr.Price = (\\n        -- Select the minimum price for a given product ID\\n        SELECT MIN(Price)\\n        FROM Purchases\\n        GROUP BY ProductId\\n        HAVING ProductId = pr.ProductId\\n    )\\n)\\nGROUP BY c.FirstName, c.LastName, c.CustomerId\\nORDER BY c.CustomerId DESC\\n']\n",
      "\n",
      "\n",
      "[3893287, 'SELECT FirstName, LastName, count(*)\\nFROM (SELECT DISTINCT CustomerId\\n      FROM (SELECT min(Price) AS LP, ProductId\\n            FROM Purchases \\n            GROUP BY ProductId) AS F inner join Purchases P on F.LP = P.Price and F.ProductId = P.ProductId\\n      ) AS TEMP inner join Purchases C on C.CustomerId = TEMP.CustomerId INNER JOIN Customers G ON G.CustomerId = C.CustomerId\\nGROUP BY C.CustomerId\\nORDER BY C.CustomerId DESC;\\n']\n",
      "\n",
      "\n",
      "[3893287, 'select FirstName, LastName, totalPurchases from (select FirstName, LastName, CustomerId, count(*) as totalPurchases from Purchases p natural join Customers c group by CustomerId) as sub natural join Purchases p where p.Price = (select min(pp.Price) from Purchases pp where pp.ProductId = p.ProductId) group by FirstName, LastName, totalPurchases order by min(sub.CustomerId) desc']\n",
      "\n",
      "\n",
      "[3893287, 'SELECT FirstName, LastName, count1\\nFROM \\n    (SELECT DISTINCT c.FirstName, c.LastName, cnt.count1, c.CustomerId\\n    FROM Customers c, (SELECT CustomerId, COUNT(CustomerId) as count1 FROM Purchases GROUP BY CustomerId) AS cnt,\\n     (SELECT * FROM Purchases WHERE PRICE IN \\n            (SELECT MIN(Price) FROM Purchases GROUP BY ProductId)\\n     ) AS mins\\n    WHERE c.CustomerId = mins.CustomerId AND cnt.CustomerId = c.CustomerId) AS total\\nORDER BY CustomerId DESC\\n']\n",
      "\n",
      "\n",
      "[3893287, 'select FirstName, LastName, count(*)\\nfrom Customers natural join Purchases\\nwhere CustomerId in \\n(select c.CustomerId\\n            from Purchases pp natural join Customers c, \\n                                        (select p.ProductId,min(p.price) as price\\n                                        from Purchases p\\n                                        group by p.ProductId\\n                                        ) as min_price\\n            where pp.price = min_price.price and pp.ProductId = min_price.ProductId\\n) \\ngroup by CustomerId\\norder by CustomerId desc\\n\\n\\n-- natural join (\\n--                                             select CustomerId, count(*) as cnt\\n--                                             from Purchases\\n--                                             group by CustomerId\\n--                                         ) as temp\\n-- order by CustomerId desc']\n",
      "\n",
      "\n",
      "[3893287, 'SELECT FirstName, LastName, COUNT(PurchaseId)\\nFROM Purchases NATURAL JOIN Customers\\nGROUP BY CustomerId\\nHAVING CustomerId IN (SELECT CustomerId\\n                      FROM Purchases p1\\n                      WHERE p1.Price <= ALL(SELECT p2.Price\\n                                         FROM Purchases p2\\n                                         WHERE p2.ProductId = p1.ProductId))\\nORDER BY CustomerId DESC\\n']\n",
      "\n",
      "\n",
      "[3893287, 'Select c.FirstName, c.LastName, temp2.d\\nFrom Customers c, Purchases p, \\n(select MIN(Price) p, productID pi From Purchases group by productID)\\nas temp,\\n(select c2.customerid cid, count(p2.PurchaseId) d from Customers c2, Purchases p2 \\nwhere c2.customerid = p2.customerid group by c2.customerid)\\nas temp2\\nWhere c.customerID = p.customerID and p.price = temp.p and temp.pi = p.productID and temp2.cid = c.customerid\\ngroup by c.FirstName, c.LastName, c.CustomerID\\norder by c.CustomerID desc;']\n",
      "\n",
      "\n",
      "[3893287, 'SELECT\\n  FirstName,\\n  LastName,\\n  cnt\\nFROM\\n  Purchases p\\n  LEFT JOIN (\\n    SELECT\\n      ProductId,\\n      MIN(Price) min_price\\n    FROM\\n      Purchases\\n    GROUP BY\\n      ProductId\\n  ) t ON p.ProductId = t.ProductId\\n  INNER JOIN (\\n    SELECT COUNT(*) cnt, CustomerId\\n    FROM Purchases\\n    GROUP BY CustomerId\\n  ) thing ON p.CustomerId=thing.CustomerId\\n  AND p.Price = t.min_price\\n  INNER JOIN Customers c ON p.CustomerId=c.CustomerId\\n  GROUP BY c.CustomerId\\n  ORDER BY c.CustomerId DESC;']\n",
      "\n",
      "\n",
      "[3893287, 'SELECT FirstName, LastName, num\\nFROM\\n(SELECT DISTINCT p1.CustomerId, FirstName, LastName, NumPurchases.num\\nFROM Purchases p1 LEFT JOIN (\\n    SELECT c1.CustomerId, c1.FirstName, c1.LastName, COUNT(*) AS num \\n    FROM Customers c1 LEFT JOIN Purchases p3 ON c1.CustomerId = p3.CustomerId\\n    GROUP BY c1.CustomerId\\n) as NumPurchases ON p1.CustomerId = NumPurchases.CustomerId\\nWHERE p1.price in(\\n    SELECT MIN(p2.price)\\n    FROM Purchases p2\\n    GROUP BY p2.productId\\n)\\nORDER BY p1.CustomerId DESC) as BestCustomers\\n']\n",
      "\n",
      "\n",
      "[3893287, 'SELECT c.FirstName, c.LastName, COUNT(c.FirstName)\\nFROM Customers c LEFT JOIN Purchases z \\nON c.CustomerId = z.CustomerId\\nWHERE c.CustomerId IN\\n    (SELECT p.CustomerId\\n    FROM Purchases p\\n      INNER JOIN\\n      (\\n        SELECT ProductId, MIN(Price) MinPrice\\n        FROM Purchases\\n        GROUP BY ProductId\\n      ) p2\\n      ON p.ProductId = p2.ProductId\\n    WHERE p2.MinPrice = p.Price)\\nGROUP BY c.CustomerId\\nORDER BY c.CustomerId DESC\\n']\n",
      "\n",
      "\n",
      "[3893287, 'SELECT FirstName, LastName, LOL.Z\\nFROM Customers, (SELECT CustomerId, COUNT(CustomerId) Z\\nFROM (SELECT *\\nFROM Purchases\\nWHERE CustomerId = ANY(SELECT DISTINCT CustomerId ZZ\\nFROM Purchases P, (SELECT ProductId, MIN(Price) PP\\nFROM Purchases\\nGROUP BY ProductId) as T\\nWHERE P.ProductId = T.productId and P.Price = T.PP)) as ZZZ\\nGROUP BY(CustomerId)) as LOL\\nWHERE Customers.CustomerId = LOL.CustomerId\\nORDER BY LOL.CustomerId DESC\\n\\n']\n",
      "\n",
      "\n",
      "[3893287, 'SELECT x1.FirstName,x1.LastName,COUNT(*)\\nFROM Customers x1 NATURAL JOIN Purchases x2\\nWHERE x1.CustomerId IN (\\n                        SELECT DISTINCT CustomerId\\n                        FROM Purchases NATURAL JOIN (SELECT ProductId,MIN(Price) AS MinPrice\\n                                                     FROM Purchases NATURAL JOIN Products\\n                                                     GROUP BY ProductId) AS table1\\n                        WHERE Price = table1.MinPrice\\n)\\nGROUP BY x1.CustomerId\\nORDER BY x1.CustomerId DESC\\n\\n\\n']\n",
      "\n",
      "\n",
      "[3893287, 'SELECT C.FirstName, C.LastName, B.times\\nFROM Customers C\\nJOIN (SELECT CustomerId, COUNT(*) AS times\\n     FROM Purchases\\n     GROUP BY CustomerId)\\n     AS B ON B.CustomerId = C.CustomerId\\nWHERE C.CustomerId IN\\n      (SELECT C.CustomerId\\n      FROM Customers C\\n      JOIN Purchases P ON P.CustomerId = C.CustomerId\\n      JOIN (SELECT ProductId, MIN(Price) AS MinP\\n           FROM Purchases\\n           GROUP BY ProductId)\\n           AS P2 ON P.ProductId = P2.ProductId\\n      WHERE P.Price = P2.MinP)\\nORDER BY C.CustomerId DESC']\n",
      "\n",
      "\n",
      "[3893287, 'SELECT FirstName, LastName, totalPurchases\\nFROM (SELECT cust.FirstName, cust.Lastname, cust.CustomerID, COUNT(pu.PurchaseId) AS totalPurchases \\n      FROM Customers cust JOIN Purchases pu ON cust.CustomerId = pu.CustomerId\\n      WHERE cust.CustomerID IN (SELECT pu1.CustomerId\\n                                FROM Purchases pu1 \\n                                WHERE (pu1.ProductId, pu1.Price) IN (SELECT pu2.ProductId, MIN(pu2.Price) AS minPrice\\n                                                                    FROM Purchases pu2\\n                                                                    GROUP BY pu2.ProductId))\\n      GROUP BY cust.CustomerId) AS T\\nORDER BY CustomerId DESC']\n",
      "\n",
      "\n",
      "[3893287, 'select FirstName, LastName, count(*) \\nfrom Customers natural join Purchases\\nwhere CustomerId in (\\n    select distinct CustomerId\\n    from Purchases natural join (\\n        select ProductId, min(Price) as Price\\n        from Purchases\\n        group by ProductId\\n    ) t1\\n)\\ngroup by CustomerId\\norder by CustomerId desc;']\n",
      "\n",
      "\n",
      "[3893287, 'SELECT FirstName,LastName,numPurchases\\nFROM(\\nSELECT DISTINCT FirstName,LastName,numPurchases,temp.CustomerId \\nFROM (SELECT C.CustomerId, C.FirstName,C.LastName,Count(P.PurchaseId) as numPurchases\\nFROM Customers C inner join Purchases P on C.CustomerId = P.CustomerId \\nGROUP BY C.CustomerId ORDER BY C.CustomerId DESC) temp,Purchases p1\\nWHERE temp.CustomerId = p1.CustomerId and p1.Price <= ALL(SELECT Price FROM Purchases p2 WHERE p2.ProductId = p1.ProductId)) as temp2\\nORDER BY CustomerId DESC']\n",
      "\n",
      "\n",
      "[3893287, 'SELECT FirstName, LastName, res.number\\nFROM Customers\\nJOIN\\n(SELECT  COUNT(CustomerId) as number, CustomerId\\nFROM Purchases\\nWHERE CustomerId IN (\\nSELECT CustomerId\\nFROM Purchases\\nJOIN\\n(SELECT ProductId, MIN(Price) as MinPrice\\nFROM Purchases\\nGROUP BY ProductId) AS mt\\nWHERE Purchases.ProductId = mt.ProductId AND Purchases.Price = mt.MinPrice\\nGROUP BY CustomerId)\\nGROUP BY CustomerId) AS res\\nON Customers.CustomerId = res.CustomerId\\nORDER BY Customers.CustomerId DESC;']\n",
      "\n",
      "\n",
      "[3893287, 'SELECT Customers.FirstName, Customers.LastName, Count(Purchases.PurchaseId)\\nFROM Customers, Purchases,\\n    (SELECT DISTINCT CustomerId\\n    FROM Purchases,\\n        (SELECT MIN(Price) as Mprice, ProductId\\n        FROM Purchases\\n        GROUP BY ProductId) as MinPriceTable\\n    WHERE Purchases.ProductId = MinPriceTable.ProductId and Purchases.Price = MinPriceTable.Mprice) as PoorPeople\\nWHERE Customers.CustomerId = PoorPeople.CustomerId and Purchases.CustomerId = Customers.CustomerId\\nGROUP BY PoorPeople.CustomerId\\nORDER BY PoorPeople.CustomerId DESC \\n        ']\n",
      "\n",
      "\n",
      "[3893287, 'SELECT FirstName, LastName, c\\nFROM Customers NATURAL JOIN (SELECT CustomerId, COUNT(*) as c FROM Purchases NATURAL JOIN (SELECT CustomerId FROM Purchases p NATURAL JOIN (SELECT ProductId p0, MIN(Price) as m from Purchases GROUP BY ProductId) as temp WHERE p.Price=m GROUP BY CustomerId) as temp2 GROUP BY CustomerId) as temp3\\nORDER BY CustomerId DESC\\n\\n']\n",
      "\n",
      "\n",
      "[3893287, 'SELECT a.FirstName, a.LastName, a.t\\nFROM (SELECT DISTINCT c.CustomerId, c.FirstName, c.LastName, Totals.TotalPurchases AS t\\nFROM Purchases AS o\\n    INNER JOIN (\\n        SELECT ProductId, MIN(Price) AS MinPrice FROM Purchases GROUP BY ProductId\\n    ) AS i ON o.Price=i.MinPrice\\n    INNER JOIN Customers AS c\\n        ON c.CustomerId=o.CustomerId\\n    INNER JOIN (\\n        SELECT CustomerId, COUNT(*) as TotalPurchases FROM Purchases GROUP BY CustomerId\\n    ) as Totals ON Totals.CustomerId=c.CustomerId\\n) AS a\\nORDER BY a.CustomerId DESC']\n",
      "\n",
      "\n",
      "[3893287, 'SELECT DISTINCT FirstName, LastName, countCustomers\\nFROM (\\n    SELECT *\\n    FROM Customers\\n    ORDER BY CustomerId DESC\\n) AS c\\nJOIN (\\n    SELECT rp.CustomerId, count(rp.PurchaseId) AS countCustomers\\n    FROM Purchases rp\\n    WHERE rp.CustomerId = ANY (\\n        SELECT pur.CustomerId\\n        FROM Purchases pur\\n        JOIN (\\n            SELECT pp.ProductId AS ProductId, MIN(pp.Price) AS minPrice\\n            FROM Purchases pp\\n            GROUP BY ProductId\\n        ) AS minPro\\n        ON minPro.ProductId = pur.ProductId\\n        WHERE pur.Price = minPro.minPrice\\n    )\\n    GROUP BY rp.CustomerId\\n    ORDER BY rp.CustomerId DESC\\n) AS p\\nON c.CustomerId = p.CustomerId']\n",
      "\n",
      "\n",
      "[3893287, 'select Customers.FirstName, Customers.LastName, Fre.Frequency\\nfrom Customers, (select CustomerId, Count(*) as Frequency\\n      from Customers natural join Purchases\\n       group by CustomerId) as Fre\\nwhere Customers.CustomerId in (select Purchases.CustomerId\\n                               from (select ProductId, min(Price) as lowest\\n                                     from Customers natural join Purchases\\n                                      group by ProductId) as price_table, Purchases\\n                                      where Purchases.ProductId = price_table.ProductId and Purchases.Price = price_table.lowest)\\n                                      and Customers.CustomerId = Fre.CustomerId\\norder by Customers.CustomerId DESC\\n\\n\\n\\n']\n",
      "\n",
      "\n",
      "[4014112, 'SELECT deptName, deptLocation, total_employee\\nFROM Department NATURAL JOIN (SELECT deptID, count(empID) as total_employee FROM Department NATURAL JOIN Employee GROUP BY deptID) AS E1\\nWHERE total_employee = (SELECT MAX(total_employee) FROM (SELECT count(empID) as total_employee FROM Department NATURAL JOIN Employee GROUP BY deptID) AS E2);']\n",
      "\n",
      "\n",
      "[4014112, 'SELECT d.deptName, d.deptLocation, COUNT(e.empID)\\nFROM Employee e NATURAL JOIN Department d\\nGROUP BY d.deptID\\nHAVING COUNT(e.empID) >= ALL (SELECT new.c FROM (SELECT d2.deptID, COUNT(e2.empID) AS c\\n                                        FROM Employee e2 NATURAL JOIN Department d2\\n                                        GROUP BY d2.deptID) AS new)']\n",
      "\n",
      "\n",
      "[3689952, 'SELECT customer, drink, Min(price)\\nFROM Likes NATURAL JOIN Sells\\nGROUP BY customer, drink']\n",
      "\n",
      "\n",
      "[3893282, 'SELECT S.FirstName, S.LastName\\nFROM Enrollments as E \\nINNER JOIN Students as S on S.NetId = E.NetId\\nINNER JOIN Courses as C on E.CRN = C.CRN\\nWHERE S.Department <> C.Department\\nGROUP BY S.NetId']\n",
      "\n",
      "\n",
      "[3893282, 'SELECT DISTINCT t.fn as FirstName, t.ln as LastName\\nFROM\\n(SELECT s.FirstName as fn, s.LastName as ln, s.Department as dpt, e.CRN as crrn\\nFROM Students s JOIN Enrollments e on s.NetId = e.NetId) as t JOIN Courses c ON t.crrn = c.CRN\\nWHERE t.dpt <> c.Department\\n']\n",
      "\n",
      "\n",
      "[3893285, 'Select g.name, count(g.p2id)-1\\nfrom \\n    (\\n        Select p2.ProductName as name, p1.ProductId as p1id, p2.ProductId as p2id\\n        from Products p1, Products p2\\n        WHERE (p1.BrandName=p2.BrandName AND p1.YearReleased < p2.YearReleased) or p1.ProductId = p2.ProductId\\n    )as g\\ngroup by g.p2id\\norder by g.name ASC\\n\\n']\n",
      "\n",
      "\n",
      "[3893285, 'Select Products.ProductName, Coalesce(counts,0)\\nFrom Products Left Join (Select  p.ProductName, count(p.ProductName) as counts\\nfrom Products p , Products a where p.BrandName = a.BrandName and  p.YearReleased > a.YearReleased\\nGroup By p.ProductName) as q on q.ProductName = Products.ProductName\\nOrder by Products.ProductName;']\n",
      "\n",
      "\n",
      "[3893285, 'SELECT p3.ProductName, coalesce(temp.num, 0)\\nFROM(SELECT p1.ProductName, COUNT(p2.ProductName) AS num\\nFROM Products p1, Products p2\\nWHERE p1.BrandName = p2.BrandName and p1.YearReleased > p2.YearReleased \\nGROUP BY p1.ProductName) AS temp RIGHT OUTER JOIN Products p3 ON temp.ProductName = p3.ProductName\\nORDER BY p3.ProductName\\n\\n']\n",
      "\n",
      "\n",
      "[3893285, 'Select p1.ProductName, (Select Count(*) from Products as p2 where p2.YearReleased < p1.YearReleased and p1.BrandName = p2.BrandName) as p3 \\nfrom Products as p1\\norder by p1.ProductName ASC']\n",
      "\n",
      "\n",
      "[3893285, 'SELECT Products.ProductName, IFNULL(numbers.freq, 0)\\nFROM Products \\nLEFT JOIN (SELECT final.ProductName, COUNT(*) as freq\\nFROM (\\nSELECT Products.ProductName\\n\\tFROM \\n\\t\\t(SELECT Products.BrandName as bn1, Products.ProductName as pn1, Products.YearReleased as yr1, x.ProductName, x.YearReleased\\n\\t\\tFROM \\n\\t\\t\\t(SELECT * FROM Products) as x, Products\\n\\t\\tWHERE Products.YearReleased > x.YearReleased AND Products.BrandName = x.BrandName\\n\\t) as fin, Products\\n\\tWHERE Products.ProductName = fin.pn1\\n) as final\\nGROUP BY final.ProductName ) as numbers\\nON numbers.ProductName = Products.ProductName\\nORDER BY Products.ProductName']\n",
      "\n",
      "\n",
      "[3893285, 'select new_table.ProductName, COALESCE(old_table.sum, 0 )\\nfrom\\n(select C.ProductId,C.ProductName from Products C) new_table\\nleft outer join \\n(select A.ProductId, count(*) as sum\\nfrom\\nProducts A, Products B\\nwhere A.YearReleased>B.YearReleased and A.BrandName=B.BrandName\\ngroup by A.ProductId) old_table\\n\\non new_table.ProductId=old_table.ProductId\\norder by new_table.ProductName\\n']\n",
      "\n",
      "\n",
      "[3893285, 'SELECT ProductName, COALESCE(temp.cnt, 0)\\nFROM Products\\nLEFT JOIN (\\n    SELECT prod1.ProductName as name, count(prod2.ProductName) as cnt\\n    FROM Products prod1, Products prod2\\n    WHERE prod1.YearReleased > prod2.YearReleased\\n    AND prod1.BrandName = prod2.BrandName\\n    GROUP BY prod1.ProductName\\n) as temp\\nON temp.name = Products.ProductName\\nORDER BY ProductName']\n",
      "\n",
      "\n",
      "[3893285, 'SELECT ProductName, COALESCE(c, 0)\\nFROM Products\\nLEFT JOIN (\\n        SELECT p1.ProductName AS Prod1, COUNT(p1.ProductId) AS c\\n        FROM Products p1, Products p2\\n        WHERE p2.YearReleased < p1.YearReleased\\n        AND p1.BrandName = p2.BrandName\\n        GROUP BY Prod1\\n    ) AS inner_table ON Products.ProductName = inner_table.Prod1\\nORDER BY ProductName ASC\\n']\n",
      "\n",
      "\n",
      "[3893285, 'select p3.ProductName, coalesce ( tb1.ct,0) from (select p1.ProductName, count(p2.ProductName) as ct from Products p1, Products p2 where p2.BrandName = p1.Brandname and p2.YearReleased < p1.YearReleased group by p1.ProductName) as tb1 right outer join Products p3 on tb1.ProductName = p3.ProductName order by p3.ProductName asc']\n",
      "\n",
      "\n",
      "[3893285, 'SELECT Products.ProductName, COALESCE(op, 0)\\nFROM Products\\nLEFT JOIN (\\n    SELECT now.ProductName as help1, COUNT(old.ProductId) as op\\n    FROM Products now, Products old\\n    WHERE now.BrandName = old.BrandName AND now.YearReleased > old.YearReleased GROUP BY now.ProductName\\n    ) AS gg ON Products.ProductName = gg.help1\\nORDER BY ProductName\\n\\n\\n\\n']\n",
      "\n",
      "\n",
      "[3893285, 'SELECT ProductName, COALESCE(c, 0)\\nFROM Products\\nLEFT JOIN (\\n        SELECT p1.ProductName AS Prod1, COUNT(p1.ProductId) AS c\\n        FROM Products p1, Products p2\\n        WHERE p2.YearReleased < p1.YearReleased\\n        AND p1.BrandName = p2.BrandName\\n        GROUP BY Prod1\\n    ) AS inner_table ON Products.ProductName = inner_table.Prod1\\nORDER BY ProductName ASC\\n']\n",
      "\n",
      "\n",
      "[3893285, 'SELECT ProductName, COALESCE(ct, 0)\\nFROM Products P\\nLEFT JOIN (\\n    SELECT P1.ProductName AS prodName, COUNT(P1.ProductId) AS ct\\n    FROM Products P1, Products P2\\n    WHERE P2.YearReleased < P1.YearReleased AND P1.BrandName = P2.BrandName\\n    GROUP BY prodName\\n) AS prevProd ON P.ProductName = prevProd.prodName\\nORDER BY ProductName ASC']\n",
      "\n",
      "\n",
      "[3893285, 'select p.ProductName, (select count(p2.YearReleased) from Products p2 where p.YearReleased > p2.YearReleased and p.BrandName = p2.BrandName) \\nfrom Products p \\norder by p.productName\\n-- having p.YearReleased > p2.YearReleased;\\n-- where p.YearReleased < b.YearEstablished\\n-- group by p.ProductName\\n;']\n",
      "\n",
      "\n",
      "[3893285, 'SELECT p1Name, COUNT(p2Name)\\nFROM (SELECT P1.ProductName AS p1Name, P2.ProductName AS p2Name\\n    FROM Products P1\\n    LEFT JOIN Products P2 ON P1.YearReleased > P2.YearReleased\\n        AND P1.BrandName = P2.BrandName) AS productInfo\\nGROUP BY p1Name;']\n",
      "\n",
      "\n",
      "[3893285, 'SELECT p3.ProductName, IFNULL(Num, 0)\\nFROM Products as p3 LEFT JOIN\\n(SELECT p2.ProductName as name, count(*) AS Num\\nFROM Products as p1, Products as p2\\nWHERE p1.BrandName = p2.BrandName AND p1.YearReleased < p2.YearReleased\\nGROUP BY p2.ProductName) AS NumProducts\\nON p3.ProductName = NumProducts.name\\nORDER BY p3.ProductName']\n",
      "\n",
      "\n",
      "[3893285, 'SELECT P3.ProductName, coalesce(temp.pre, 0)\\nFROM (SELECT P1.ProductName, COUNT(P2.ProductName) AS pre\\nFROM Products P1, Products P2\\nWHERE P1.BrandName = P2.BrandName and P1.YearReleased > P2.YearReleased\\nGROUP BY P1.ProductName) AS temp RIGHT OUTER JOIN Products P3 ON temp.ProductName = P3.ProductName\\nORDER BY P3.ProductName']\n",
      "\n",
      "\n",
      "[3893285, 'SELECT Products.ProductName, COALESCE(amount, 0)\\nFROM Products\\nLEFT JOIN (\\n        SELECT curr.ProductName AS name, COUNT(curr.ProductId) AS amount\\n        FROM Products curr, Products pre\\n        WHERE curr.BrandName = pre.BrandName AND curr.YearReleased > pre.YearReleased\\n        GROUP BY name\\n    ) AS my_temp ON Products.ProductName = my_temp.name\\nORDER BY ProductName;']\n",
      "\n",
      "\n",
      "[3893285, 'Select ProductName, count(earlier)\\nFROM Products oriP\\nLEFT JOIN (\\n    SELECT pp.ProductID AS earlier, pp.BrandName AS bn, pp.YearReleased AS yr\\n    FROM Products pp\\n) AS p\\nON p.bn = oriP.BrandName AND p.yr < oriP.YearReleased\\nGROUP BY ProductName, ProductId, BrandName, YearReleased']\n",
      "\n",
      "\n"
     ]
    }
   ],
   "source": [
    "for idx, i in enumerate(kmeans_clusters):\n",
    "    if i==2:\n",
    "        print(queries[qids[idx]])\n",
    "        print(\"\\n\")"
   ]
  },
  {
   "cell_type": "code",
   "execution_count": 28,
   "metadata": {},
   "outputs": [
    {
     "name": "stdout",
     "output_type": "stream",
     "text": [
      "ARI index: 0.262447996710778\n"
     ]
    }
   ],
   "source": [
    "get_ari(kmeans_clusters, labels)"
   ]
  },
  {
   "cell_type": "markdown",
   "metadata": {},
   "source": [
    "## Mean shift clustering \n",
    "\n",
    "This is useful if we don't know the number of clusters that a dataset should have (i.e., we have unlabeled data). \n",
    "Mean shift clustering will automatically choose a number of clusters\n",
    "\n"
   ]
  },
  {
   "cell_type": "code",
   "execution_count": 29,
   "metadata": {},
   "outputs": [],
   "source": []
  },
  {
   "cell_type": "code",
   "execution_count": 172,
   "metadata": {},
   "outputs": [
    {
     "data": {
      "image/png": "[encoded data removed]",
      "text/plain": [
       "<Figure size 432x288 with 1 Axes>"
      ]
     },
     "metadata": {
      "needs_background": "light"
     },
     "output_type": "display_data"
    }
   ],
   "source": [
    "ms_clustering = mean_shift(data)"
   ]
  },
  {
   "cell_type": "code",
   "execution_count": 173,
   "metadata": {},
   "outputs": [
    {
     "name": "stdout",
     "output_type": "stream",
     "text": [
      "ARI index: 0.07493886532438242\n"
     ]
    }
   ],
   "source": [
    "get_ari(ms_clustering, labels)"
   ]
  },
  {
   "cell_type": "markdown",
   "metadata": {},
   "source": [
    "## Agglomerative Clustering \n",
    "\n",
    "Hierarchical approach. Also good when we don't have a set # of clusters. Aggolmerative means each sample starts in its own cluster, and recursively merges with neighbors depending on a distance/linkage method. \n",
    "\n",
    "Types of linkages that we can experiment with (stolen from sklearn): \n",
    "- *Ward* minimizes the sum of squared differences within all clusters. It is a variance-minimizing approach and in this sense is similar to the k-means objective function but tackled with an agglomerative hierarchical approach.\n",
    "- *Maximum* or complete linkage minimizes the maximum distance between observations of pairs of clusters.\n",
    "- *Average* linkage minimizes the average of the distances between all observations of pairs of clusters.\n",
    "- *Single* linkage minimizes the distance between the closest observations of pairs of clusters."
   ]
  },
  {
   "cell_type": "code",
   "execution_count": 30,
   "metadata": {},
   "outputs": [],
   "source": []
  },
  {
   "cell_type": "code",
   "execution_count": 54,
   "metadata": {},
   "outputs": [
    {
     "data": {
      "text/plain": [
       "<BarContainer object of 19 artists>"
      ]
     },
     "execution_count": 54,
     "metadata": {},
     "output_type": "execute_result"
    },
    {
     "data": {
      "image/png": "[encoded data removed]",
      "text/plain": [
       "<Figure size 432x288 with 1 Axes>"
      ]
     },
     "metadata": {
      "needs_background": "light"
     },
     "output_type": "display_data"
    }
   ],
   "source": [
    "plt.title(\"Number of queries in each cluster\")\n",
    "plt.xlabel(\"Cluster Id\")\n",
    "plt.bar(np.arange(NUM_CLUSTERS),np.bincount(clustering.labels_))"
   ]
  },
  {
   "cell_type": "code",
   "execution_count": 175,
   "metadata": {},
   "outputs": [
    {
     "name": "stdout",
     "output_type": "stream",
     "text": [
      "ARI index: 0.30110115899309287\n"
     ]
    }
   ],
   "source": [
    "ari = metrics.adjusted_rand_score(labels, clustering.labels_) \n",
    "print(\"ARI index: \" + str(ari))"
   ]
  },
  {
   "cell_type": "code",
   "execution_count": null,
   "metadata": {},
   "outputs": [],
   "source": []
  },
  {
   "cell_type": "code",
   "execution_count": null,
   "metadata": {},
   "outputs": [],
   "source": []
  },
  {
   "cell_type": "code",
   "execution_count": null,
   "metadata": {},
   "outputs": [],
   "source": []
  },
  {
   "cell_type": "code",
   "execution_count": null,
   "metadata": {},
   "outputs": [],
   "source": []
  },
  {
   "cell_type": "code",
   "execution_count": null,
   "metadata": {},
   "outputs": [],
   "source": []
  },
  {
   "cell_type": "code",
   "execution_count": null,
   "metadata": {},
   "outputs": [],
   "source": []
  },
  {
   "cell_type": "code",
   "execution_count": null,
   "metadata": {},
   "outputs": [],
   "source": [
    "## old code for spectral clustering and ari index if we have labels \n",
    "\n",
    "sp = SpectralClustering(n_clusters=NUM_CLUSTERS,\n",
    "        assign_labels=\"discretize\",\n",
    "        random_state=0)\n",
    "sp.fit(data)\n",
    "\n",
    "\n",
    "ari = metrics.adjusted_rand_score(labels, clusters) \n",
    "print(\"ARI index: \" + str(ari))\n",
    "print(\"\\n\\n\")\n",
    "\n",
    "# labels = zip(readme_docs, clusters)\n",
    "# np.save(\"pickles/\"+pickle_label+\"_labels\", labels, allow_pickle=True, fix_imports=True)"
   ]
  }
 ],
 "metadata": {
  "kernelspec": {
   "display_name": "Python 3",
   "language": "python",
   "name": "python3"
  },
  "language_info": {
   "codemirror_mode": {
    "name": "ipython",
    "version": 3
   },
   "file_extension": ".py",
   "mimetype": "text/x-python",
   "name": "python",
   "nbconvert_exporter": "python",
   "pygments_lexer": "ipython3",
   "version": "3.7.5"
  }
 },
 "nbformat": 4,
 "nbformat_minor": 2
}
