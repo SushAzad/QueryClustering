{
 "cells": [
  {
   "cell_type": "code",
   "execution_count": 48,
   "metadata": {},
   "outputs": [],
   "source": [
    "import scipy\n",
    "from scipy import sparse\n",
    "import numpy as np \n",
    "import sklearn \n",
    "from sklearn.cluster import KMeans\n",
    "from sklearn.cluster import MeanShift\n",
    "from sklearn.cluster import SpectralClustering\n",
    "from sklearn import metrics\n",
    "\n",
    "import matplotlib.pyplot as plt\n",
    "\n",
    "import sys\n",
    "import pickle"
   ]
  },
  {
   "cell_type": "markdown",
   "metadata": {},
   "source": [
    "## Get pl_queries from db"
   ]
  },
  {
   "cell_type": "code",
   "execution_count": 2,
   "metadata": {},
   "outputs": [
    {
     "data": {
      "text/plain": [
       "1418"
      ]
     },
     "execution_count": 2,
     "metadata": {},
     "output_type": "execute_result"
    }
   ],
   "source": [
    "# get data from SQL \n",
    "import pymysql\n",
    "import configparser\n",
    "\n",
    "queries={}\n",
    "\n",
    "# print cursor function\n",
    "def pc(cursor):\n",
    "\tfor x in cursor:\n",
    "\t\tprint(x)\n",
    "\n",
    "# reads the config file\n",
    "config = configparser.ConfigParser()\n",
    "config.read(\"config.ini\")\n",
    "\n",
    "conn = pymysql.connect(\n",
    "\thost = config.get(\"Database\", \"mysql_ip\"),\n",
    "\tuser = config.get(\"Database\", \"mysql_user\"),\n",
    "\tpasswd = config.get(\"Database\", \"mysql_pw\"))\n",
    "\n",
    "mycursor = conn.cursor()\n",
    "\n",
    "mycursor.execute(\"Use pl_queries\")\n",
    "mycursor.execute(\"SELECT * FROM Queries\")\n",
    "# conn.commit()"
   ]
  },
  {
   "cell_type": "code",
   "execution_count": 3,
   "metadata": {},
   "outputs": [],
   "source": [
    "for tup in mycursor:\n",
    "    # queryId --> [variantId, queryText]\n",
    "    queries[tup[0]] = [tup[2], tup[3]]"
   ]
  },
  {
   "cell_type": "code",
   "execution_count": 4,
   "metadata": {},
   "outputs": [],
   "source": [
    "query_text=[queries[x][1] for x in queries]"
   ]
  },
  {
   "cell_type": "code",
   "execution_count": 5,
   "metadata": {},
   "outputs": [
    {
     "data": {
      "text/plain": [
       "1418"
      ]
     },
     "execution_count": 5,
     "metadata": {},
     "output_type": "execute_result"
    }
   ],
   "source": [
    "len(queries)"
   ]
  },
  {
   "cell_type": "markdown",
   "metadata": {},
   "source": [
    "analysis for paper"
   ]
  },
  {
   "cell_type": "code",
   "execution_count": 6,
   "metadata": {},
   "outputs": [
    {
     "name": "stdout",
     "output_type": "stream",
     "text": [
      "natural join 157\n"
     ]
    }
   ],
   "source": [
    "keywords = [\"group by\", \"natural join\"]\n",
    "\n",
    "count=0\n",
    "word=\"natural join\"\n",
    "for q in query_text:\n",
    "#     words=q.split(\" \")\n",
    "#     sels=0\n",
    "#     for w in words:\n",
    "#         if \"select\" in w.lower():\n",
    "#             sels+=1\n",
    "#     if sels>2:\n",
    "#         count+=1     \n",
    "    if \"group by\" in q.lower() and \"having\" in q.lower():\n",
    "        count+=1\n",
    "print(word, count)\n",
    "        "
   ]
  },
  {
   "cell_type": "markdown",
   "metadata": {},
   "source": [
    "## Get list of all questions from db"
   ]
  },
  {
   "cell_type": "code",
   "execution_count": 7,
   "metadata": {},
   "outputs": [
    {
     "data": {
      "text/plain": [
       "1418"
      ]
     },
     "execution_count": 7,
     "metadata": {},
     "output_type": "execute_result"
    }
   ],
   "source": [
    "mycursor.execute(\"SELECT queryNum, COUNT(*) FROM Queries GROUP BY queryNum\")"
   ]
  },
  {
   "cell_type": "code",
   "execution_count": 8,
   "metadata": {},
   "outputs": [],
   "source": [
    "mycursor.execute(\"SELECT variantID FROM Queries GROUP BY variantID\")\n",
    "question_ids=[]\n",
    "for question in mycursor:\n",
    "    question_ids.append(question[0])"
   ]
  },
  {
   "cell_type": "code",
   "execution_count": 9,
   "metadata": {},
   "outputs": [
    {
     "data": {
      "text/plain": [
       "1418"
      ]
     },
     "execution_count": 9,
     "metadata": {},
     "output_type": "execute_result"
    }
   ],
   "source": [
    "len(queries)"
   ]
  },
  {
   "cell_type": "markdown",
   "metadata": {},
   "source": [
    "# Clustering "
   ]
  },
  {
   "cell_type": "code",
   "execution_count": null,
   "metadata": {},
   "outputs": [],
   "source": [
    "def get_ari(x, labels):\n",
    "    ari = metrics.adjusted_rand_score(labels, x) \n",
    "    print(\"ARI index: \" + str(ari))"
   ]
  },
  {
   "cell_type": "code",
   "execution_count": 10,
   "metadata": {},
   "outputs": [],
   "source": [
    "q_dic={}\n",
    "for key in queries:\n",
    "    variant=queries[key][0]\n",
    "    if variant in q_dic:\n",
    "        q_dic[variant]+=1\n",
    "    else:\n",
    "        q_dic[variant]=1\n",
    "        "
   ]
  },
  {
   "cell_type": "code",
   "execution_count": 144,
   "metadata": {},
   "outputs": [],
   "source": [
    "NUM_CLUSTERS = len(q_dic)\n",
    "\n",
    "file_keywords = \"KeywordizedQueryEmbeddings.pickle\"\n",
    "file_raw= \"RawQueryEmbeddings.pickle\"\n",
    "emb=pickle.load(open(file_keywords, \"rb\" ))"
   ]
  },
  {
   "cell_type": "code",
   "execution_count": 145,
   "metadata": {},
   "outputs": [],
   "source": [
    "# given embeddings,\n",
    "# return \n",
    "#   the queryNum and embeddings for associated queries \n",
    "\n",
    "def get_clustering_input(emb):\n",
    "    data=[]\n",
    "    qids=[]\n",
    "\n",
    "    for key in emb:\n",
    "        qids.append(key)\n",
    "        data.append(emb[key])\n",
    "    return data, qids"
   ]
  },
  {
   "cell_type": "code",
   "execution_count": 146,
   "metadata": {},
   "outputs": [],
   "source": [
    "data, qids=get_clustering_input(emb)"
   ]
  },
  {
   "cell_type": "code",
   "execution_count": 147,
   "metadata": {},
   "outputs": [],
   "source": [
    "## get labels (questionIds)\n",
    "labels=[]\n",
    "\n",
    "for key in qids:\n",
    "    labels.append(queries[key][0])"
   ]
  },
  {
   "cell_type": "markdown",
   "metadata": {},
   "source": [
    "## Kmeans \n",
    "\n",
    "### First, let's see if embeddings can cluster the set of ALL queries, by their questionId\n"
   ]
  },
  {
   "cell_type": "code",
   "execution_count": 148,
   "metadata": {},
   "outputs": [],
   "source": [
    "# given data, return list of clusters \n",
    "def kmeans(data, NUM_CLUSTERS):\n",
    "    km = KMeans(n_clusters=NUM_CLUSTERS)\n",
    "    km.fit(data)\n",
    "\n",
    "    clusters = km.labels_.tolist()\n",
    "    clusters = np.asarray(clusters)\n",
    "    \n",
    "    # testing bincount \n",
    "    # can compare to q_dic to see questions distribution \n",
    "    print(\"Distribution of clusters: \")\n",
    "    counter={}\n",
    "    for i in clusters:\n",
    "        if i in counter: \n",
    "            counter[i]+=1\n",
    "        else:\n",
    "            counter[i] = 1\n",
    "    print(counter)\n",
    "    \n",
    "    return clusters"
   ]
  },
  {
   "cell_type": "code",
   "execution_count": 169,
   "metadata": {},
   "outputs": [
    {
     "name": "stdout",
     "output_type": "stream",
     "text": [
      "Distribution of clusters: \n",
      "{13: 139, 2: 128, 12: 65, 18: 96, 15: 88, 0: 16, 10: 83, 7: 62, 16: 95, 9: 68, 17: 114, 5: 50, 6: 80, 3: 49, 4: 42, 11: 31, 8: 91, 1: 77, 14: 44}\n"
     ]
    }
   ],
   "source": [
    "kmeans_clusters = kmeans(data, NUM_CLUSTERS)"
   ]
  },
  {
   "cell_type": "code",
   "execution_count": 170,
   "metadata": {},
   "outputs": [
    {
     "name": "stdout",
     "output_type": "stream",
     "text": [
      "ARI index: 0.3117530789611275\n"
     ]
    }
   ],
   "source": [
    "get_ari(kmeans_clusters, labels)"
   ]
  },
  {
   "cell_type": "code",
   "execution_count": 58,
   "metadata": {},
   "outputs": [
    {
     "data": {
      "text/plain": [
       "<BarContainer object of 19 artists>"
      ]
     },
     "execution_count": 58,
     "metadata": {},
     "output_type": "execute_result"
    },
    {
     "data": {
      "image/png": "[encoded data removed]",
      "text/plain": [
       "<Figure size 432x288 with 1 Axes>"
      ]
     },
     "metadata": {
      "needs_background": "light"
     },
     "output_type": "display_data"
    }
   ],
   "source": [
    "# bincount counts the number of occurences of each number in the array\n",
    "# i.e., bincount[0] is the # of times 0 occurs \n",
    "#       bincount[1] is the # of times 1 occurs \n",
    "\n",
    "plt.title(\"Number of queries in each cluster\")\n",
    "plt.xlabel(\"Cluster Id\")\n",
    "plt.bar(np.arange(NUM_CLUSTERS),np.bincount(kmeans_clusters))"
   ]
  },
  {
   "cell_type": "markdown",
   "metadata": {},
   "source": [
    "### View KMeans results:\n",
    "- Change \"i\" to the cluster number \n",
    "- All the queries belonging to that cluster will be printed"
   ]
  },
  {
   "cell_type": "code",
   "execution_count": 59,
   "metadata": {},
   "outputs": [
    {
     "data": {
      "text/plain": [
       "19"
      ]
     },
     "execution_count": 59,
     "metadata": {},
     "output_type": "execute_result"
    }
   ],
   "source": [
    "NUM_CLUSTERS"
   ]
  },
  {
   "cell_type": "code",
   "execution_count": 39,
   "metadata": {
    "scrolled": true
   },
   "outputs": [
    {
     "name": "stdout",
     "output_type": "stream",
     "text": [
      "[3893280, 'SELECT FirstName, LastName, NetId, SUM(Credits)\\nFROM Students NATURAL JOIN Enrollments\\nGROUP BY NetId\\nHAVING SUM(Credits) > 12\\nORDER BY SUM(Credits) DESC, Firstname ASC;\\n\\n\\n']\n",
      "\n",
      "\n",
      "[3893280, 'SELECT FirstName, LastName, s.NetId, SUM(e.Credits)\\nFROM Students s\\nNATURAL JOIN Enrollments e\\nGROUP BY NetId\\nHAVING SUM(e.Credits) > 12\\nORDER BY SUM(e.Credits) DESC, FirstName ASC\\n']\n",
      "\n",
      "\n",
      "[3893280, 'SELECT FirstName, LastName, NetId, SUM(Credits)\\nFROM Students Natural Join Enrollments\\nGroup by NetId\\nHaving SUM(Credits) > 12\\nORDER by SUM(Credits) DESC, FirstName']\n",
      "\n",
      "\n",
      "[3893280, 'SELECT FirstName, LastName, Students.NetId, SUM(Credits)\\nFROM Students JOIN Enrollments ON Enrollments.NetId = Students.NetId\\nGROUP BY Students.NetId\\nHAVING SUM(Credits)>12\\nORDER BY SUM(Credits) DESC, FirstName ASC']\n",
      "\n",
      "\n",
      "[3893280, 'select FirstName, LastName, NetId, sum(Credits) \\nfrom Students as s natural join Enrollments as e \\ngroup by NetId\\nhaving sum(Credits) > 12\\norder by sum(Credits) desc, FirstName asc\\n']\n",
      "\n",
      "\n",
      "[3893280, 'SELECT FirstName, LastName, NetId, SUM(Credits)\\nFROM Enrollments NATURAL JOIN Students\\nGROUP BY NetId\\nHAVING SUM(Credits) > 12\\nORDER BY SUM(Credits) DESC, FirstName\\n']\n",
      "\n",
      "\n",
      "[3893280, 'SELECT s.FirstName, s.LastName, s.NetId, SUM(e.Credits)\\nFROM Students s Natural Join Enrollments e\\nGROUP BY e.NetId\\nHAVING SUM(e.Credits) > 12\\nOrder By SUM(e.Credits) Desc, s.NetId']\n",
      "\n",
      "\n",
      "[3893280, 'SELECT S.FirstName, S.LastName, E.NetId, SUM(E.Credits)\\nFROM Students S, Enrollments E\\nWHERE S.NetId = E.NetId\\nGROUP BY E.NetId\\nHAVING SUM(E.Credits) > 12\\nORDER BY SUM(E.Credits) DESC, S.FirstName;\\n']\n",
      "\n",
      "\n",
      "[3893280, 'SELECT \\n    Students.FirstName,\\n    Students.LastName,\\n    Students.NetId,\\n    sum(Enrollments.Credits)\\nFROM \\n    Students, Enrollments\\nWHERE \\n    Students.NetId = Enrollments.NetId\\nGROUP BY Students.FirstName, Students.LastName, Students.NetId\\n\\nHaving sum(Enrollments.Credits) > 12\\n\\nORDER BY\\n    \\n    sum(Enrollments.Credits) DESC,\\n    Students.FirstName ASC;']\n",
      "\n",
      "\n",
      "[3893280, 'select FirstName, LastName, NetID, sum(Credits)\\nfrom Students Natural Join Enrollments\\ngroup by NetId\\nhaving sum(Credits) > 12\\norder by sum(Credits) DESC, FirstName ASC']\n",
      "\n",
      "\n",
      "[3893280, 'SELECT S.FirstName, S.LastName, S.NetId, SUM(E.Credits)\\nFROM Students S JOIN Enrollments E\\nON S.NetId = E.NetId\\nGROUP BY E.NetId\\nHAVING SUM(E.Credits) > 12\\nORDER BY SUM(E.Credits) DESC, S.FirstName\\n']\n",
      "\n",
      "\n",
      "[3893280, 'SELECT Students.FirstName, Students.LastName, Students.NetId, SUM(Enrollments.Credits) FROM Students JOIN Enrollments ON Students.NetId = Enrollments.NetId GROUP BY Students.FirstName, Students.LastName, Students.NetId HAVING SUM(Enrollments.Credits) > 12 ORDER BY SUM(Enrollments.Credits) DESC, Students.FirstName ASC']\n",
      "\n",
      "\n",
      "[3893280, 'SELECT FirstName, LastName, Students.NetId, SUM(Credits)\\nFROM Students INNER JOIN Enrollments ON (Students.NetId = Enrollments.NetId)\\nGROUP BY Students.NetId\\nHAVING SUM(Credits) > 12\\nORDER BY SUM(Credits) DESC, FirstName ASC\\n\\n']\n",
      "\n",
      "\n",
      "[3893280, 'SELECT s.FirstName, s.LastName, e.NetId, sum(e.Credits) sum_creds\\nFROM Enrollments e NATURAL JOIN Students s\\nGROUP by e.NetId\\nHAVING sum(e.Credits) > 12\\nORDER by sum_creds DESC, s.firstName ASC']\n",
      "\n",
      "\n",
      "[3893280, 'SELECT S.FirstName, S.LastName, E.NetId, SUM(E.Credits)\\nFROM Enrollments E LEFT JOIN Students S\\nON E.NetId = S.NetId\\nGROUP BY NetId\\nHAVING SUM(E.Credits)>12 \\nORDER BY SUM(E.Credits) DESC, S.FirstName ;']\n",
      "\n",
      "\n",
      "[3893280, 'SELECT FirstName, LastName, NetId, SUM(Credits)\\nFROM Students NATURAL JOIN Enrollments\\nGROUP BY NetId\\nHAVING SUM(Credits) > 12\\nORDER BY SUM(Credits) DESC, FirstName']\n",
      "\n",
      "\n",
      "[3893280, 'Select Students.FirstName, Students.LastName, Students.NetId, SUM(Enrollments.Credits)\\nfrom Students, Enrollments\\nwhere Students.NetId = Enrollments.NetId\\ngroup by Students.NetId\\nhaving sum(Credits) > 12 \\norder by sum(Credits) DESC, Students.FirstName ASC\\n\\n\\n']\n",
      "\n",
      "\n",
      "[3893280, 'SELECT FirstName, LastName, NetId, SUM(Credits)\\nFROM Students NATURAL JOIN Enrollments \\nGROUP BY NetId\\nHAVING SUM(Credits)>12\\nORDER BY SUM(Credits) DESC, FirstName']\n",
      "\n",
      "\n",
      "[3893280, 'SELECT s.FirstName, s.LastName, s.NetId, SUM(e.Credits)\\nFROM Students s NATURAL JOIN Enrollments e\\nGROUP BY FirstName, LastName, NetId\\nHAVING SUM(e.Credits) > 12\\nORDER BY SUM(e.Credits) DESC, s.FirstName;']\n",
      "\n",
      "\n",
      "[3893280, 'SELECT s.FirstName, s.LastName, s.NetId, SUM(e.Credits)\\nFROM Students s\\n  JOIN Enrollments e ON s.NetId = e.NetId\\nGROUP BY NetId HAVING SUM(Credits) > 12\\nORDER BY SUM(e.Credits) DESC, s.FirstName ASC;']\n",
      "\n",
      "\n",
      "[3893280, 'SELECT FirstName,LastName,Students.NetId,SUM(credits)\\nFROM Enrollments LEFT OUTER JOIN Students\\n ON Enrollments.NetId = Students.NetId\\nGROUP BY NetId \\nHAVING SUM(Credits) > 12\\nORDER BY SUM(credits) DESC ,FirstName ASC;']\n",
      "\n",
      "\n",
      "[3893280, 'SELECT Students.FirstName, Students.LastName, Students.NetId, SUM(Enrollments.Credits) \\nFROM Students\\nNATURAL JOIN Enrollments \\nGROUP BY Students.NetId \\nHAVING SUM(Enrollments.Credits) > 12 \\nORDER BY SUM(Enrollments.Credits) DESC, Students.FirstName ASC;']\n",
      "\n",
      "\n",
      "[3893280, 'SELECT FirstName, LastName, Students.NetId, SUM(Credits)\\nFROM Students, Enrollments\\nWHERE Students.NetId = Enrollments.NetId\\nGROUP BY FirstName, LastName, Students.NetId\\nHAVING SUM(Credits) > 12\\nORDER BY SUM(Credits) DESC, FirstName']\n",
      "\n",
      "\n",
      "[3893280, 'SELECT FirstName, LastName, Students.NetId, SUM(Enrollments.Credits)\\nFROM Students, Enrollments\\nWHERE Students.NetId = Enrollments.NetId\\nGROUP BY Enrollments.NetId\\nHAVING SUM(Enrollments.Credits) > 12\\nORDER BY SUM(Enrollments.Credits) DESC, FirstName ASC;']\n",
      "\n",
      "\n",
      "[3893280, 'select \\ns.FirstName,\\ns.LastName, \\ns.NetId,\\nsum(e.Credits)\\nfrom Students s inner join Enrollments e on s.NetId=e.NetId\\ngroup by s.FirstName, s.LastName, s.NetId\\nhaving sum(e.Credits)>12\\norder by sum(e.Credits) desc, s.FirstName\\n']\n",
      "\n",
      "\n",
      "[3893280, 'SELECT Students.FirstName, Students.LastName, Enrollments.NetId, sum(Enrollments.Credits)\\nFROM Students,Enrollments \\nWHERE Students.NetId=Enrollments.NetId\\nGROUP BY Enrollments.NetId\\nHAVING sum(Enrollments.Credits)>=13\\nORDER BY sum(Enrollments.Credits) DESC, Students.FirstName']\n",
      "\n",
      "\n",
      "[3893280, 'SELECT S.FirstName, S.LastName, S.NetId, SUM(E.Credits)\\nFROM Students S LEFT OUTER JOIN Enrollments E ON S.NetId = E.NetId\\nGROUP BY S.NetId\\nHAVING SUM(E.Credits) > 12\\nORDER BY SUM(E.Credits) DESC, S.FirstNAme']\n",
      "\n",
      "\n",
      "[3893280, 'select s.FirstName, s.Lastname, s.NetId, sum(e.Credits)\\nfrom Students s\\ninner join Enrollments e\\non s.NetId = e.NetId\\ngroup by s.NetId\\nhaving sum(e.Credits) > 12\\norder by sum(e.Credits) desc, s.FirstName asc;']\n",
      "\n",
      "\n",
      "[3893280, 'select FirstName, LastName, NetId, SUM(Credits)\\nfrom Students natural join Enrollments\\ngroup by NetId\\nHaving SUM(Credits) > 12\\norder by SUM(Credits) desc, FirstName asc']\n",
      "\n",
      "\n",
      "[3893280, 'SELECT s.FirstName, s.LastName, s.NetId, SUM(e.Credits) AS credits\\nFROM Students s\\nNATURAL JOIN Enrollments e\\nGROUP BY s.NetId\\nHAVING SUM(e.Credits) > 12\\nORDER BY credits DESC, s.FirstName ASC']\n",
      "\n",
      "\n",
      "[3893280, 'SELECT S.FirstName, S.LastName, S.NetId, SUM(E.Credits) FROM Students S\\nINNER JOIN Enrollments E ON S.NetId = E.NetId\\nGROUP BY E.NetId\\nHAVING SUM(E.Credits) > 12\\nORDER BY SUM(E.Credits) DESC, FirstName\\n']\n",
      "\n",
      "\n",
      "[3893280, 'select FirstName, LastName, NetId, sum(Credits)\\nfrom Students natural join Enrollments\\ngroup by NetId\\nhaving sum(Credits)>12\\norder by sum(Credits) desc, FirstName\\n']\n",
      "\n",
      "\n",
      "[3893280, 'SELECT FirstName, LastName, NetId, SUM(Credits)\\nFROM Students A NATURAL JOIN Enrollments B\\nGROUP BY NetId\\nHAVING SUM(Credits) > 12\\nORDER BY SUM(Credits) DESC, FirstName;\\n']\n",
      "\n",
      "\n",
      "[3893280, 'SELECT FirstName, LastName, NetID, sum(Credits)\\nFROM Students NATURAL JOIN  Enrollments\\nGROUP BY NetID\\nHAVING sum(Credits)>12\\nORDER BY sum(Credits) DESC, FirstName']\n",
      "\n",
      "\n",
      "[3893280, 'select FirstName, LastName, NetId, SUM(Credits)\\nfrom Students S Natural Join Enrollments E\\ngroup by NetId\\nhaving SUM(Credits) > 12\\norder by SUM(Credits) DESC, FirstName ASC;']\n",
      "\n",
      "\n",
      "[3893280, 'SELECT s.FirstName, s.LastName, e.NetId, Sum(Credits)\\nFROM Students s, Enrollments e, Courses c\\nWHERE s.NetId=e.NetId AND e.CRN=c.CRN\\nGROUP BY e.NetID\\nHAVING Sum(Credits)>12\\nORDER BY Sum(Credits) DESC, s.FirstName;\\n\\n']\n",
      "\n",
      "\n",
      "[3893280, 'SELECT Students.FirstName, Students.LastName, Students.NetId, SUM(Enrollments.Credits)\\nFROM Students, Enrollments\\nWHERE Students.NetId = Enrollments.NetId \\nGROUP BY Students.FirstName, Students.LastName, Students.NetId\\nHAVING SUM(Enrollments.Credits) > 12\\nORDER BY SUM(Enrollments.Credits) DESC, Students.FirstName ASC']\n",
      "\n",
      "\n",
      "[3893280, 'SELECT FirstName, LastName, Students.NetId, SUM(Credits)\\nFROM Students NATURAL JOIN Enrollments\\nGROUP BY Students.NetId\\nHAVING SUM(Credits) > 12\\nORDER BY SUM(Credits) DESC, FirstName']\n",
      "\n",
      "\n",
      "[3893280, 'SELECT Students.FirstName, Students.LastName, Enrollments.NetId, SUM(Enrollments.Credits)\\nFROM Students RIGHT JOIN Enrollments\\nON Students.NetId = Enrollments.NetId\\nGROUP BY NetId\\nHAVING SUM(Enrollments.Credits) > 12\\nORDER BY SUM(Enrollments.Credits) DESC, Students.FirstName;\\n']\n",
      "\n",
      "\n",
      "[3893280, 'SELECT firstName, lastName, NetId, SUM(Credits)\\nFROM Students NATURAL JOIN Enrollments\\nGROUP BY NetID\\nHAVING SUM(Credits) > 12\\nORDER BY SUM(Credits) DESC, firstName ASC; \\n']\n",
      "\n",
      "\n",
      "[3893280, 'SELECT s.FirstName, s.LastName, s.NetId, SUM(Credits) as hours\\nFROM Students s NATURAL JOIN Enrollments e \\nGROUP BY NetId\\nHAVING SUM(Credits) > 12\\nORDER BY hours DESC, s.FirstName\\n\\n\\n\\n#Group Enrollments by netID\\n#Aggregate the credit hours for each group (netID)\\n#Return students who take more than 12 credit hours\\n\\n\\n#GROUP BY NetId\\n#HAVING SUM(Credits) > 12']\n",
      "\n",
      "\n",
      "[3893280, 'SELECT s.FirstName, s.LastName, s.NetId, SUM(e.Credits) AS \"Total Credit\"\\nFROM Students AS s, Enrollments e\\nWHERE e.NetId = s.NetId\\nGROUP BY e.NetId\\nHAVING SUM(e.Credits) > 12\\nORDER BY SUM(Credits) DESC, s.FirstName ASC;']\n",
      "\n",
      "\n",
      "[3893280, 'SELECT Students.FirstName, Students.LastName, Enrollments.NetId, SUM(Enrollments.Credits)\\nFROM Enrollments INNER JOIN Students\\nWHERE Students.NetId = Enrollments.NetId\\nGROUP BY Enrollments.NetId\\nHAVING SUM(Enrollments.Credits) > 12\\nORDER BY SUM(Enrollments.Credits) DESC, Students.FirstName ASC;']\n",
      "\n",
      "\n",
      "[3893280, 'SELECT FirstName, LastName, Students.NetId, SUM(Credits)\\nFROM Students, Enrollments\\nWHERE Students.NetId = Enrollments.NetId\\nGROUP BY FirstName, LastName, Students.NetId\\nHAVING SUM(Credits) > 12\\nORDER BY SUM(Credits) DESC, FirstName ASC']\n",
      "\n",
      "\n",
      "[3893280, 'SELECT Students.FirstName, Students.LastName, Students.NetId, SUM(Enrollments.Credits)\\nFROM Students \\nJOIN Enrollments ON Students.NetId=Enrollments.NetId\\nGROUP BY Students.NetId\\nHAVING SUM(Enrollments.Credits) > 12\\nORDER BY SUM(Enrollments.Credits) DESC, Students.FirstName ASC;\\n\\n\\n\\n\\n']\n",
      "\n",
      "\n",
      "[3893280, 'SELECT A.FirstName, A.LastName, A.NetID, SUM(B.Credits)\\nFROM Students A, Enrollments B\\nWHERE A.NetId = B.NetId\\nGroup BY B.NetId \\nHaving SUM(B.Credits)>12\\nORDER BY SUM(B.Credits) DESC, A.FirstName\\n\\n\\n\\n-- WHERE (\\n--         SELECT SUM(B.Credits)\\n--         Group BY B.NetId\\n--         Having COUNT(B.Credits)>3\\n--         )\\n    #    ORDER BY DESC)\\n#ORDER BY A.FirstName']\n",
      "\n",
      "\n",
      "[3893280, 'SELECT FirstName, LastName, S.NetId, SUM(Credits)\\nFROM Students S, Enrollments E\\nWHERE S.NetId = E.NetId\\nGROUP BY FirstName, LastName, S.NetId\\nHAVING SUM(Credits) > 12\\nORDER BY SUM(Credits) DESC, FirstName']\n",
      "\n",
      "\n",
      "[3893280, 'select FirstName, LastName, NetId, sum(Credits) as totalCredits \\nfrom Students natural join Enrollments\\ngroup by NetId\\nhaving sum(Credits) > 12\\norder by totalCredits DESC, FirstName ASC']\n",
      "\n",
      "\n",
      "[3893280, 'Select FirstName, LastName, Netid, SUM(Credits)\\nFROM Students NATURAL JOIN Enrollments\\nGROUP BY NetId\\nHAVING SUM(Credits)>12\\nORDER BY SUM(Credits) DESC, FirstName']\n",
      "\n",
      "\n",
      "[3893280, 'Select S.FirstName, S.LastName, S.NetId, SUM(E.credits) from Students S \\nJOIN Enrollments E ON S.NetId=E.NetId\\nGROUP by NetId\\nHAVING SUM(E.credits)>12\\nORDER BY SUM(E.credits) DESC, S.FirstName ASC\\n\\n']\n",
      "\n",
      "\n",
      "[3893280, 'SELECT S.FirstName, S.LastName, S.NetId, SUM(E.Credits)\\nFROM Students S, Enrollments E\\nWHERE S.NetId = E.NetId\\nGROUP BY S.FirstName, S.LastName, S.NetId\\nHAVING SUM(E.Credits) > 12\\nORDER BY SUM(E.Credits) DESC, S.FirstName']\n",
      "\n",
      "\n",
      "[3893280, 'SELECT s.FirstName, s.LastName, s.NetId, Sum(e.Credits) as totalCredits\\nFROM Students s NATURAL JOIN Enrollments e\\nGROUP BY s.NetId\\nHAVING SUM(e.Credits) > 12\\nORDER BY totalCredits DESC, s.FirstName ASC']\n",
      "\n",
      "\n",
      "[3893280, 'SELECT  FirstName, LastName, NetId, SUM(Credits) \\nFROM    Students s NATURAL JOIN Enrollments e\\nGROUP BY LastName, FirstName, NetId\\nHAVING SUM(Credits) > 12\\nORDER BY SUM(Credits) DESC, FirstName ASC;']\n",
      "\n",
      "\n",
      "[3893280, 'SELECT Students.FirstName, Students.LastName, Students.NetId, SUM(Enrollments.Credits)\\nFROM Students\\nNATURAL JOIN Enrollments\\nGROUP BY FirstName, LastName, NetId\\nHAVING SUM(Credits) > 12\\nORDER BY SUM(Credits) DESC, FirstName ASC;']\n",
      "\n",
      "\n",
      "[3893280, 'Select S.FirstName, S.LastName, S.NetId, SUM(E.Credits)\\nFROM Students S INNER JOIN Enrollments E ON S.NetId = E.NetId\\nGROUP BY NetId\\nHAVING SUM(E.Credits) > 12\\nORDER BY SUM(E.Credits) DESC, S.FirstName ASC']\n",
      "\n",
      "\n",
      "[3893280, 'select s.FirstName, s.LastName, e.NetId, sum(e.Credits) \\nfrom Students s, Enrollments e\\nwhere e.NetID = s.NetID\\ngroup by e.NetId, s.FirstName, s.LastName\\nHAVING  sum(e.Credits) > 12\\norder by sum(e.Credits) DESC, s.FirstName;\\n']\n",
      "\n",
      "\n",
      "[3893280, 'SELECT Students.FirstName, Students.LastName, Students.NetId, SUM(Credits)\\nFROM Students \\nJOIN Enrollments \\nON Students.NetId=Enrollments.NetId \\nGROUP BY Students.NetId\\nHAVING (SUM(Credits) > 12) \\nORDER BY SUM(Credits) desc, FirstName asc;\\n']\n",
      "\n",
      "\n",
      "[3893280, 'select FirstName, LastName, NetId, sum(Credits) as totalHours\\nfrom Students natural join Enrollments\\ngroup by NetId\\nhaving sum(Credits) > 12\\norder by totalHours DESC, FirstName ASC;']\n",
      "\n",
      "\n",
      "[3893280, 'SELECT FirstName, LastName, NetId, SUM(Credits) as sum\\nFROM Students NATURAL JOIN Enrollments \\nGROUP BY NetID\\nHAVING sum > 12\\nORDER BY sum DESC, FirstName ASC']\n",
      "\n",
      "\n",
      "[3893280, 'SELECT FirstName,LastName,NetId,SUM(Credits)\\nFROM Students NATURAL JOIN Enrollments \\nGROUP BY NetId\\nHAVING SUM(Credits) > 12\\nORDER BY SUM(Credits) DESC,FirstName\\n\\n']\n",
      "\n",
      "\n",
      "[3893280, 'SELECT s.FirstName, s.LastName, s.NetId, SUM(e.Credits)\\nFROM Students s JOIN Enrollments e ON s.NetId = e.NetId\\nGROUP BY s.NetId\\nHAVING SUM(e.Credits) > 12\\nORDER BY SUM(e.Credits) DESC, s.FirstName ASC']\n",
      "\n",
      "\n",
      "[3893280, 'SELECT S.FirstName, S.LastName, S.NetId, SUM(E.Credits)\\nFROM Students S, Enrollments E\\nWHERE S.NetId = E.NetId\\nGROUP BY E.NetID\\nHAVING SUM(E.Credits) > 12\\nORDER BY SUM(E.Credits) DESC, FirstName']\n",
      "\n",
      "\n",
      "[3893280, 'select s.FirstName, s.LastName, s.NetId, SUM(e.Credits)\\nfrom Students s inner join Enrollments e on s.NetId = e.NetId\\ngroup by s.FirstName, s.LastName, s.NetId having SUM(e.Credits) > 12\\norder by SUM(e.Credits) desc, s.FirstName asc']\n",
      "\n",
      "\n",
      "[3893280, 'SELECT Students.FirstName, Students.LastName, Students.NetId, SUM(Enrollments.Credits)\\nFROM Students\\nINNER JOIN Enrollments ON Students.NetId = Enrollments.NetId\\nGROUP BY Students.NetId\\nHAVING SUM(Enrollments.Credits) > 12\\nORDER BY SUM(Enrollments.Credits) DESC, Students.FirstName ASC;']\n",
      "\n",
      "\n",
      "[3893280, 'Select FirstName,LastName,Students.NetId,sum(Credits)\\nfrom Students,Enrollments \\nwhere Students.NetId = Enrollments.NetId\\ngroup by Students.NetId\\nhaving sum(Credits) > 12\\norder by sum(Credits) DESC,FirstName']\n",
      "\n",
      "\n",
      "[3893280, 'SELECT s.FirstName, s.LastName, s.NetId, SUM(e.Credits)\\nFROM Students s, Enrollments e\\nWHERE s.NetId = e.NetId\\nGROUP BY NetId\\nHAVING SUM(e.Credits) > 12\\nORDER BY SUM(e.Credits) DESC, s.FirstName\\n-- 12 < (SELECT SUM(Credits)\\n--             FROM Enrollments e, Students s\\n--             WHERE e.NetId = s.NetId)']\n",
      "\n",
      "\n",
      "[3893280, 'SELECT \\n    S.FirstName, S.LastName, S.NetId, SUM(E.Credits)\\nFROM \\n    Students AS S, \\n    Enrollments AS E\\nWHERE \\n    S.NetId = E.NetID\\nGROUP BY \\n    E.NetId  /* use Group in order to you aggreation SUM */\\nHAVING \\n    SUM(E.Credits) > 12\\nORDER BY\\n    SUM(E.Credits) DESC,\\n    S.FirstName ASC\\n    \\n    \\n\\n    ']\n",
      "\n",
      "\n",
      "[3893280, 'select s.FirstName, s.LastName, s.NetId, SUM(e.Credits) \\n    FROM Students s JOIN Enrollments e ON s.NetId = e.NetId \\n    GROUP BY e.NetId \\n    HAVING SUM(e.Credits) > 12 \\n    ORDER BY SUM(e.Credits) DESC, s.FirstName ASC;']\n",
      "\n",
      "\n",
      "[3893280, 'SELECT S.FirstName, S.LastName, S.NetId, SUM(E.Credits)\\nFROM Students S, Enrollments E\\nWHERE S.NetId = E.NetId\\nGROUP BY S.FirstName, S.LastName, S.NetId\\nHAVING SUM(E.Credits) > 12\\nORDER BY SUM(E.Credits) DESC, S.FirstName;']\n",
      "\n",
      "\n",
      "[3893280, 'SELECT s.FirstName, s.LastName, s.NetId, SUM(e.Credits)\\nFrom Students s JOIN Enrollments e ON s.NetId = e.NetId\\nGROUP BY e.NetId\\nHAVING SUM(e.Credits) > 12\\nORDER BY SUM(e.Credits) DESC, s.FirstName;']\n",
      "\n",
      "\n",
      "[3893280, 'SELECT\\n  Students.FirstName,\\n  Students.LastName,\\n  Enrollments.NetId,\\n  sum(Enrollments.Credits)\\nfrom\\n  Enrollments,\\n  Students\\nwhere Students.NetId = Enrollments.NetId\\ngroup by Enrollments.NetId\\nhaving sum(Enrollments.Credits) > 12\\norder by sum(Enrollments.Credits) desc , Students.FirstName\\n\\n']\n",
      "\n",
      "\n",
      "[3893280, 'SELECT FirstName, LastName, NetID, SUM(Credits)\\nFROM Enrollments NATURAL JOIN Students\\nGROUP BY NetId\\nHAVING SUM(Credits) > 12\\nORDER BY SUM(Credits) DESC, FirstName']\n",
      "\n",
      "\n",
      "[3893280, 'SELECT S.FirstName, S.LastName, S.NetId, SUM(E.Credits)\\nFROM Students S, Enrollments E\\nWHERE S.NetId = E.NetId\\nGROUP BY 1, 2, 3\\nHAVING SUM(E.Credits) > 12\\nORDER BY SUM(E.Credits) DESC, S.FirstName ASC;']\n",
      "\n",
      "\n"
     ]
    }
   ],
   "source": [
    "for idx, i in enumerate(kmeans_clusters):\n",
    "    if i==2:\n",
    "        print(queries[qids[idx]])\n",
    "        print(\"\\n\")"
   ]
  },
  {
   "cell_type": "code",
   "execution_count": 60,
   "metadata": {},
   "outputs": [
    {
     "name": "stdout",
     "output_type": "stream",
     "text": [
      "ARI index: 0.3165788900096926\n"
     ]
    }
   ],
   "source": [
    "get_ari(kmeans_clusters, labels)"
   ]
  },
  {
   "cell_type": "markdown",
   "metadata": {},
   "source": [
    "## Mean shift clustering \n",
    "\n",
    "This is useful if we don't know the number of clusters that a dataset should have (i.e., we have unlabeled data). \n",
    "Mean shift clustering will automatically choose a number of clusters\n",
    "\n"
   ]
  },
  {
   "cell_type": "code",
   "execution_count": 171,
   "metadata": {},
   "outputs": [],
   "source": [
    "def mean_shift(data):\n",
    "    clustering = MeanShift().fit(data)\n",
    "    \n",
    "    x=clustering.labels_\n",
    "    \n",
    "    temp={}\n",
    "    for i in x:\n",
    "        if i not in temp:\n",
    "            temp[i]=1\n",
    "\n",
    "    num_clusters=len(temp)\n",
    "    plt.title(\"Number of queries in each cluster\")\n",
    "    plt.xlabel(\"Cluster Id\")\n",
    "    plt.bar(np.arange(num_clusters),np.bincount(clustering.labels_))\n",
    "    \n",
    "    return clustering.labels_"
   ]
  },
  {
   "cell_type": "code",
   "execution_count": 172,
   "metadata": {},
   "outputs": [
    {
     "data": {
      "image/png": "[encoded data removed]",
      "text/plain": [
       "<Figure size 432x288 with 1 Axes>"
      ]
     },
     "metadata": {
      "needs_background": "light"
     },
     "output_type": "display_data"
    }
   ],
   "source": [
    "ms_clustering = mean_shift(data)"
   ]
  },
  {
   "cell_type": "code",
   "execution_count": 173,
   "metadata": {},
   "outputs": [
    {
     "name": "stdout",
     "output_type": "stream",
     "text": [
      "ARI index: 0.07493886532438242\n"
     ]
    }
   ],
   "source": [
    "get_ari(ms_clustering, labels)"
   ]
  },
  {
   "cell_type": "markdown",
   "metadata": {},
   "source": [
    "## Agglomerative Clustering \n",
    "\n",
    "Hierarchical approach. Also good when we don't have a set # of clusters. Aggolmerative means each sample starts in its own cluster, and recursively merges with neighbors depending on a distance/linkage method. \n",
    "\n",
    "Types of linkages that we can experiment with (stolen from sklearn): \n",
    "- *Ward* minimizes the sum of squared differences within all clusters. It is a variance-minimizing approach and in this sense is similar to the k-means objective function but tackled with an agglomerative hierarchical approach.\n",
    "- *Maximum* or complete linkage minimizes the maximum distance between observations of pairs of clusters.\n",
    "- *Average* linkage minimizes the average of the distances between all observations of pairs of clusters.\n",
    "- *Single* linkage minimizes the distance between the closest observations of pairs of clusters."
   ]
  },
  {
   "cell_type": "code",
   "execution_count": 174,
   "metadata": {},
   "outputs": [],
   "source": [
    "from sklearn.cluster import AgglomerativeClustering\n",
    "\n",
    "# FIX: CURRENT VERSION OF SKLEARN DOESNT ALLOW FOR NONE CLUSTERS \n",
    "# because distance_threshold isn't an attribute...???\n",
    "clustering = AgglomerativeClustering(n_clusters=NUM_CLUSTERS, linkage=\"ward\").fit(data)\n"
   ]
  },
  {
   "cell_type": "code",
   "execution_count": 54,
   "metadata": {},
   "outputs": [
    {
     "data": {
      "text/plain": [
       "<BarContainer object of 19 artists>"
      ]
     },
     "execution_count": 54,
     "metadata": {},
     "output_type": "execute_result"
    },
    {
     "data": {
      "image/png": "[encoded data removed]",
      "text/plain": [
       "<Figure size 432x288 with 1 Axes>"
      ]
     },
     "metadata": {
      "needs_background": "light"
     },
     "output_type": "display_data"
    }
   ],
   "source": [
    "plt.title(\"Number of queries in each cluster\")\n",
    "plt.xlabel(\"Cluster Id\")\n",
    "plt.bar(np.arange(NUM_CLUSTERS),np.bincount(clustering.labels_))"
   ]
  },
  {
   "cell_type": "code",
   "execution_count": 175,
   "metadata": {},
   "outputs": [
    {
     "name": "stdout",
     "output_type": "stream",
     "text": [
      "ARI index: 0.30110115899309287\n"
     ]
    }
   ],
   "source": [
    "ari = metrics.adjusted_rand_score(labels, clustering.labels_) \n",
    "print(\"ARI index: \" + str(ari))"
   ]
  },
  {
   "cell_type": "markdown",
   "metadata": {},
   "source": [
    "It looks like mean shift clustering gave us the best results for clustering by questionId. The accuracy of that method is easier to track becuase we had the labels (questionIDs). For the next section, results will be based on qualitative results--i.e., how closely do the queries within each cluster resemble eachother? \n",
    "\n",
    "## Clustering by questionID"
   ]
  },
  {
   "cell_type": "code",
   "execution_count": 179,
   "metadata": {},
   "outputs": [
    {
     "data": {
      "text/plain": [
       "{4388082: 45,\n",
       " 4388083: 1,\n",
       " 4017605: 17,\n",
       " 3902467: 33,\n",
       " 3902466: 37,\n",
       " 3893280: 186,\n",
       " 3893287: 149,\n",
       " 4014115: 4,\n",
       " 4014112: 25,\n",
       " 3893281: 188,\n",
       " 3893288: 157,\n",
       " 4014114: 8,\n",
       " 4017607: 18,\n",
       " 3689952: 41,\n",
       " 3902464: 48,\n",
       " 3902462: 58,\n",
       " 3902465: 36,\n",
       " 3893282: 199,\n",
       " 3893285: 168}"
      ]
     },
     "execution_count": 179,
     "metadata": {},
     "output_type": "execute_result"
    }
   ],
   "source": [
    "q_dic"
   ]
  },
  {
   "cell_type": "code",
   "execution_count": 193,
   "metadata": {},
   "outputs": [],
   "source": [
    "def get_num_clusters(clusters):\n",
    "    counter={}\n",
    "    for i in clusters:\n",
    "        if i in counter: \n",
    "            counter[i]+=1\n",
    "        else:\n",
    "            counter[i] = 1\n",
    "    return counter"
   ]
  },
  {
   "cell_type": "code",
   "execution_count": 182,
   "metadata": {},
   "outputs": [],
   "source": [
    "# given a variantID, get all queries and embeddings\n",
    "# for that ID \n",
    "\n",
    "def get_question_queries(variant):\n",
    "    variant_qids=[]\n",
    "    for q in queries:\n",
    "        if queries[q][0] == variant:\n",
    "            variant_qids.append(q)\n",
    "            \n",
    "    subset_embs={}\n",
    "    for e in emb:\n",
    "        if e in variant_qids:\n",
    "            subset_embs[e]=emb[e]\n",
    "            \n",
    "    data, qids=get_clustering_input(subset_embs)\n",
    "    \n",
    "    return data, qids"
   ]
  },
  {
   "cell_type": "code",
   "execution_count": 183,
   "metadata": {},
   "outputs": [],
   "source": [
    "# start with just one question \n",
    "variant=3893285\n",
    "data,qids=get_question_queries(variant)"
   ]
  },
  {
   "cell_type": "code",
   "execution_count": 185,
   "metadata": {},
   "outputs": [
    {
     "name": "stdout",
     "output_type": "stream",
     "text": [
      "Distribution of clusters: \n",
      "{2: 52, 5: 28, 1: 16, 4: 37, 0: 30, 3: 5}\n"
     ]
    }
   ],
   "source": [
    "NUM_CLUSTERS=6\n",
    "kmeans_clustering=kmeans(data, 6)"
   ]
  },
  {
   "cell_type": "code",
   "execution_count": null,
   "metadata": {},
   "outputs": [],
   "source": [
    "ms_clustering=me(data, 6)"
   ]
  },
  {
   "cell_type": "code",
   "execution_count": 192,
   "metadata": {},
   "outputs": [
    {
     "name": "stdout",
     "output_type": "stream",
     "text": [
      "[3893285, 'SELECT A.ProductName, SUM(CASE WHEN (A.YearReleased > B.YearReleased AND A.BrandName = B.BrandName)  THEN 1 ELSE 0 END)\\nFROM Products A, Products B\\nGROUP BY A.ProductName']\n",
      "\n",
      "\n",
      "[3893285, 'Select A.ProductName, Count(B.YearReleased)\\nFrom Products A left outer join Products B on A.YearReleased > B.YearReleased and A.BrandName = B.BrandName\\nGroup by A.ProductName\\n\\n-- SELECT A.FirstName, A.LastName, A.NetID, SUM(B.Credits)\\n-- FROM Students A, Enrollments B\\n-- WHERE A.NetId = B.NetId\\n-- Group BY B.NetId \\n-- Having SUM(B.Credits)>12\\n-- ORDER BY SUM(B.Credits) DESC, A.FirstName\\n']\n",
      "\n",
      "\n",
      "[3893285, 'SELECT Prod.ProductName, SUM(Prod.YearReleased > Prod1.YearReleased) FROM Products Prod\\nJOIN Products Prod1 ON Prod.BrandName = Prod1.BrandName\\nGROUP BY Prod.ProductName']\n",
      "\n",
      "\n",
      "[3893285, 'select p1.ProductName, sum(if(p2.YearReleased < p1.YearReleased, 1, 0))\\nfrom Products p1 inner join Products p2\\non p1.BrandName = p2.BrandName\\ngroup by p1.ProductName\\norder by p1.ProductName\\n']\n",
      "\n",
      "\n",
      "[3893285, 'SELECT p1.ProductName, SUM(CASE WHEN p1.YearReleased > p2.YearReleased && p1.BrandName = p2.BrandName THEN 1 ELSE 0 END)\\nFROM Products p1, Products p2\\nGROUP BY p1.ProductName']\n",
      "\n",
      "\n"
     ]
    }
   ],
   "source": [
    "for idx, i in enumerate(kmeans_clustering):\n",
    "    if i==3:\n",
    "        print(queries[qids[idx]])\n",
    "        print(\"\\n\")"
   ]
  },
  {
   "cell_type": "code",
   "execution_count": 202,
   "metadata": {},
   "outputs": [],
   "source": [
    "nc=get_num_clusters(kmeans_clustering)\n",
    "\n",
    "with open('kmeans_output_3893285.tsv', 'w') as outf:\n",
    "    for i in sorted(nc):\n",
    "        outf.write(\"\\n\\n\\n######################################################################\\n\")\n",
    "        outf.write(\"# Cluster: \" + str(i) + \"         \\n\")\n",
    "        outf.write(\"######################################################################\\n\\n\")\n",
    "        for idx, c in enumerate(kmeans_clustering):\n",
    "            if c==i:\n",
    "                outf.write(str(queries[qids[idx]][0]) + \"\\n\")\n",
    "                outf.write(queries[qids[idx]][1])\n",
    "                outf.write(\"\\n\\n\")"
   ]
  },
  {
   "cell_type": "code",
   "execution_count": null,
   "metadata": {},
   "outputs": [],
   "source": []
  },
  {
   "cell_type": "code",
   "execution_count": null,
   "metadata": {},
   "outputs": [],
   "source": []
  },
  {
   "cell_type": "code",
   "execution_count": null,
   "metadata": {},
   "outputs": [],
   "source": []
  },
  {
   "cell_type": "code",
   "execution_count": null,
   "metadata": {},
   "outputs": [],
   "source": [
    "## old code for spectral clustering and ari index if we have labels \n",
    "\n",
    "sp = SpectralClustering(n_clusters=NUM_CLUSTERS,\n",
    "        assign_labels=\"discretize\",\n",
    "        random_state=0)\n",
    "sp.fit(data)\n",
    "\n",
    "\n",
    "ari = metrics.adjusted_rand_score(labels, clusters) \n",
    "print(\"ARI index: \" + str(ari))\n",
    "print(\"\\n\\n\")\n",
    "\n",
    "# labels = zip(readme_docs, clusters)\n",
    "# np.save(\"pickles/\"+pickle_label+\"_labels\", labels, allow_pickle=True, fix_imports=True)"
   ]
  }
 ],
 "metadata": {
  "kernelspec": {
   "display_name": "Python 3",
   "language": "python",
   "name": "python3"
  },
  "language_info": {
   "codemirror_mode": {
    "name": "ipython",
    "version": 3
   },
   "file_extension": ".py",
   "mimetype": "text/x-python",
   "name": "python",
   "nbconvert_exporter": "python",
   "pygments_lexer": "ipython3",
   "version": "3.7.5"
  }
 },
 "nbformat": 4,
 "nbformat_minor": 2
}
