{
 "cells": [
  {
   "cell_type": "code",
   "execution_count": 60,
   "metadata": {},
   "outputs": [],
   "source": [
    "import scipy\n",
    "from scipy import sparse\n",
    "import numpy as np \n",
    "import sklearn \n",
    "from sklearn.cluster import KMeans\n",
    "from sklearn.cluster import SpectralClustering\n",
    "from sklearn import metrics\n",
    "\n",
    "import matplotlib.pyplot as plt\n",
    "\n",
    "import sys\n",
    "import pickle"
   ]
  },
  {
   "cell_type": "markdown",
   "metadata": {},
   "source": [
    "## Get pl_queries from db"
   ]
  },
  {
   "cell_type": "code",
   "execution_count": 45,
   "metadata": {},
   "outputs": [
    {
     "data": {
      "text/plain": [
       "1418"
      ]
     },
     "execution_count": 45,
     "metadata": {},
     "output_type": "execute_result"
    }
   ],
   "source": [
    "# get data from SQL \n",
    "import pymysql\n",
    "import configparser\n",
    "\n",
    "queries={}\n",
    "\n",
    "# print cursor function\n",
    "def pc(cursor):\n",
    "\tfor x in cursor:\n",
    "\t\tprint(x)\n",
    "\n",
    "# reads the config file\n",
    "config = configparser.ConfigParser()\n",
    "config.read(\"config.ini\")\n",
    "\n",
    "conn = pymysql.connect(\n",
    "\thost = config.get(\"Database\", \"mysql_ip\"),\n",
    "\tuser = config.get(\"Database\", \"mysql_user\"),\n",
    "\tpasswd = config.get(\"Database\", \"mysql_pw\"))\n",
    "\n",
    "mycursor = conn.cursor()\n",
    "\n",
    "mycursor.execute(\"Use pl_queries\")\n",
    "mycursor.execute(\"SELECT * FROM Queries\")\n",
    "# conn.commit()"
   ]
  },
  {
   "cell_type": "code",
   "execution_count": 48,
   "metadata": {},
   "outputs": [],
   "source": [
    "# 0: ???\n",
    "# 1: qId\n",
    "# 2: ???\n",
    "# 3: query \n",
    "\n",
    "for tup in mycursor:\n",
    "    queries[tup[1]] = tup[3]\n"
   ]
  },
  {
   "cell_type": "markdown",
   "metadata": {},
   "source": [
    "# Clustering "
   ]
  },
  {
   "cell_type": "code",
   "execution_count": 4,
   "metadata": {},
   "outputs": [],
   "source": [
    "NUM_CLUSTERS = 6\n",
    "\n",
    "file = \"FA19QueryEmbeddings.pickle\"\n",
    "emb=pickle.load(open(file, \"rb\" ))"
   ]
  },
  {
   "cell_type": "code",
   "execution_count": 7,
   "metadata": {},
   "outputs": [],
   "source": [
    "data=[]\n",
    "qids=[]\n",
    "\n",
    "for key in emb:\n",
    "    qids.append(key)\n",
    "    data.append(emb[key])"
   ]
  },
  {
   "cell_type": "markdown",
   "metadata": {},
   "source": [
    "## Kmeans "
   ]
  },
  {
   "cell_type": "code",
   "execution_count": 11,
   "metadata": {},
   "outputs": [],
   "source": [
    "km = KMeans(n_clusters=NUM_CLUSTERS)\n",
    "km.fit(data)\n",
    "\n",
    "clusters = km.labels_.tolist()\n",
    "clusters = np.asarray(clusters)"
   ]
  },
  {
   "cell_type": "code",
   "execution_count": 17,
   "metadata": {},
   "outputs": [
    {
     "data": {
      "text/plain": [
       "{2: 93, 0: 75, 4: 2, 1: 9, 3: 22, 5: 11}"
      ]
     },
     "execution_count": 17,
     "metadata": {},
     "output_type": "execute_result"
    }
   ],
   "source": [
    "# testing bincount \n",
    "counter={}\n",
    "for i in clusters:\n",
    "    if i in counter: \n",
    "        counter[i]+=1\n",
    "    else:\n",
    "        counter[i] = 1\n",
    "counter"
   ]
  },
  {
   "cell_type": "code",
   "execution_count": 59,
   "metadata": {},
   "outputs": [
    {
     "data": {
      "text/plain": [
       "<BarContainer object of 6 artists>"
      ]
     },
     "execution_count": 59,
     "metadata": {},
     "output_type": "execute_result"
    },
    {
     "data": {
      "image/png": "[encoded data removed]",
      "text/plain": [
       "<Figure size 432x288 with 1 Axes>"
      ]
     },
     "metadata": {
      "needs_background": "light"
     },
     "output_type": "display_data"
    }
   ],
   "source": [
    "# bincount counts the number of occurences of each number in the array\n",
    "# i.e., bincount[0] is the # of times 0 occurs \n",
    "#       bincount[1] is the # of times 1 occurs \n",
    "\n",
    "plt.title(\"Number of queries in each cluster\")\n",
    "plt.xlabel(\"Cluster Id\")\n",
    "plt.bar(np.arange(NUM_CLUSTERS),np.bincount(clusters))"
   ]
  },
  {
   "cell_type": "markdown",
   "metadata": {},
   "source": [
    "### View KMeans results:\n",
    "- Change \"i\" to the cluster number \n",
    "- All the queries belonging to that cluster will be printed"
   ]
  },
  {
   "cell_type": "code",
   "execution_count": 56,
   "metadata": {
    "scrolled": true
   },
   "outputs": [
    {
     "name": "stdout",
     "output_type": "stream",
     "text": [
      "SELECT DISTINCT s.FirstName, s.LastName \n",
      "FROM Students s, (SELECT * FROM Enrollments NATURAL JOIN Courses) as d\n",
      "WHERE s.NetId = d.NetId AND s.Department != d.Department;\n",
      "\n",
      "\n",
      "\n",
      "SELECT DISTINCT FirstName, LastName\n",
      "FROM \n",
      "(SELECT * \n",
      " FROM Enrollments NATURAL JOIN Courses) as temp JOIN Students\n",
      " ON Students.NetId = temp.NetId\n",
      "WHERE temp.Department != Students.Department\n",
      "\n",
      "\n",
      "SELECT FirstName, LastName\n",
      "FROM Students\n",
      "WHERE (SELECT COUNT(CRN) FROM Courses WHERE Courses.Department<>Students.Department AND CRN IN (SELECT CRN FROM Enrollments WHERE Enrollments.NetId=Students.NetId))\n",
      "\n",
      "\n",
      "SELECT DISTINCT FirstName, LastName\n",
      "FROM Students, (SELECT NetId, Department FROM Enrollments INNER JOIN Courses ON Enrollments.CRN = Courses.CRN) AS DepsOfStudents\n",
      "WHERE Students.NetId = DepsOfStudents.NetID AND Students.Department <> DepsOfStudents.Department;\n",
      "\n",
      "\n",
      "Select Distinct FirstName, LastName\n",
      "From Students,\n",
      "    (SELECT NetId, Department\n",
      "     From   Enrollments, (SELECT CRN, Department\n",
      "                          FROM Courses) as temp1\n",
      "     WHERE Enrollments.CRN LIKE temp1.CRN\n",
      "     ) as temp2\n",
      "Where Students.NetID like temp2.NetID AND Students.Department Not like temp2.Department\n",
      "\n",
      "\n",
      "select FirstName, LastName\n",
      "from Students s\n",
      "where s.NetId in\n",
      "                (select distinct s1.NetId\n",
      "                from Students s1, (select distinct e.NetId, c.CRN, c.Department\n",
      "                                    from Enrollments e join Courses c on (e.CRN=c.CRN)\n",
      "                                    order by e.NetId) as classes\n",
      "                where s1.NetId = classes.NetId and s1.Department <> classes.Department\n",
      "                )\n",
      "\n",
      "\n",
      "SELECT FirstName, LastName FROM (SELECT DISTINCT FirstName, LastName, NetId FROM Students S NATURAL JOIN Enrollments E, Courses C WHERE S.Department != C.Department ORDER BY FirstName) as temp WHERE temp.NetId in (SELECT NetId FROM(SELECT DISTINCT FirstName, LastName, NetId FROM Students S NATURAL JOIN Enrollments E, Courses C WHERE S.Department = C.Department ORDER BY FirstName) as temp2)\n",
      "\n",
      "\n",
      "SELECT DISTINCT FirstName, LastName, NetId\n",
      "FROM \n",
      "(SELECT FirstName, LastName, NetId, CRN, Department\n",
      "FROM Enrollments e NATURAL JOIN Students s\n",
      "WHERE Department = \"ECE\" AND (FirstName LIKE \"T%\" OR CRN = ANY (SELECT CRN FROM Courses WHERE Department = \"CS\"))) AS temp\n",
      "ORDER BY NetID DESC\n",
      "\n",
      "\n",
      "\n",
      "\n",
      "SELECT DISTINCT FirstName, LastName\n",
      "FROM (SELECT * FROM Students NATURAL JOIN (SELECT NetId, Department AS CourseDep FROM Enrollments NATURAL JOIN Courses) AS NetId_CourseDep WHERE Students.NetId = NetId_CourseDep.NetId) AS StuCourse\n",
      "WHERE Department <> CourseDep\n",
      "\n",
      "\n",
      "SELECT FirstName, LastName, NetId, SUM(Credits) total_credits\n",
      "FROM Students JOIN Enrollments USING(NetId)\n",
      "GROUP BY NetId\n",
      "HAVING total_credits > 12\n",
      "ORDER BY total_credits DESC, FirstName ASC\n",
      "\n",
      "\n",
      "\n",
      "SELECT FirstName, LastName\n",
      "    FROM\n",
      "    (\n",
      "        SELECT FirstName, LastName, Students.NetId as \"NetId\", Department, CRN\n",
      "        FROM Students RIGHT JOIN Enrollments ON Students.NetId = Enrollments.NetId\n",
      "    ) a\n",
      "RIGHT JOIN Courses ON a.CRN = Courses.CRN\n",
      "WHERE a.Department <> Courses.Department\n",
      "Group BY NetId\n",
      "\n",
      "\n",
      "\n"
     ]
    }
   ],
   "source": [
    "for idx, i in enumerate(clusters):\n",
    "    if i==5:\n",
    "        print(queries[qids[idx]])\n",
    "        print(\"\\n\")"
   ]
  },
  {
   "cell_type": "markdown",
   "metadata": {},
   "source": [
    "## Mean shift clustering \n",
    "\n",
    "This is useful if we don't know the number of clusters that a dataset should have (i.e., we have unlabeled data). \n",
    "Mean shift clustering will automatically choose a number of clusters"
   ]
  },
  {
   "cell_type": "code",
   "execution_count": 71,
   "metadata": {},
   "outputs": [],
   "source": [
    "from sklearn.cluster import MeanShift\n",
    "clustering = MeanShift().fit(data)"
   ]
  },
  {
   "cell_type": "code",
   "execution_count": 72,
   "metadata": {},
   "outputs": [
    {
     "data": {
      "text/plain": [
       "array([0, 0, 0, 0, 0, 0, 0, 3, 0, 0, 2, 0, 0, 0, 0, 0, 0, 0, 0, 0, 0, 2,\n",
       "       0, 0, 0, 0, 0, 0, 0, 0, 0, 1, 0, 0, 0, 0, 0, 0, 0, 0, 0, 0, 0, 0,\n",
       "       0, 1, 0, 1, 0, 0, 0, 0, 0, 0, 0, 0, 0, 0, 0, 0, 0, 0, 0, 1, 0, 0,\n",
       "       0, 1, 2, 0, 0, 1, 0, 2, 0, 0, 0, 0, 0, 1, 2, 0, 0, 1, 0, 0, 0, 0,\n",
       "       0, 1, 2, 0, 0, 0, 0, 2, 2, 1, 0, 1, 4, 0, 0, 0, 0, 2, 0, 0, 0, 0,\n",
       "       0, 0, 0, 0, 0, 0, 0, 0, 0, 0, 0, 0, 0, 0, 0, 0, 1, 0, 0, 0, 2, 2,\n",
       "       0, 0, 0, 0, 0, 0, 3, 0, 0, 0, 0, 0, 0, 0, 0, 0, 0, 0, 0, 0, 0, 0,\n",
       "       0, 2, 0, 2, 0, 0, 0, 0, 0, 0, 1, 0, 0, 0, 2, 0, 0, 2, 0, 0, 1, 2,\n",
       "       0, 2, 0, 0, 0, 0, 0, 2, 0, 0, 0, 0, 5, 0, 0, 0, 0, 0, 0, 1, 0, 0,\n",
       "       1, 0, 0, 0, 1, 0, 1, 0, 2, 1, 0, 0, 1, 1])"
      ]
     },
     "execution_count": 72,
     "metadata": {},
     "output_type": "execute_result"
    }
   ],
   "source": [
    "clustering.labels_"
   ]
  },
  {
   "cell_type": "code",
   "execution_count": 73,
   "metadata": {},
   "outputs": [
    {
     "data": {
      "text/plain": [
       "<BarContainer object of 6 artists>"
      ]
     },
     "execution_count": 73,
     "metadata": {},
     "output_type": "execute_result"
    },
    {
     "data": {
      "image/png": "[encoded data removed]",
      "text/plain": [
       "<Figure size 432x288 with 1 Axes>"
      ]
     },
     "metadata": {
      "needs_background": "light"
     },
     "output_type": "display_data"
    }
   ],
   "source": [
    "plt.title(\"Number of queries in each cluster\")\n",
    "plt.xlabel(\"Cluster Id\")\n",
    "plt.bar(np.arange(NUM_CLUSTERS),np.bincount(clustering.labels_))"
   ]
  },
  {
   "cell_type": "markdown",
   "metadata": {},
   "source": [
    "## Agglomerative Clustering \n",
    "\n",
    "Hierarchical approach. Also good when we don't have a set # of clusters. Aggolmerative means each sample starts in its own cluster, and recursively merges with neighbors depending on a distance/linkage method. \n",
    "\n",
    "Types of linkages that we can experiment with (stolen from sklearn): \n",
    "- *Ward* minimizes the sum of squared differences within all clusters. It is a variance-minimizing approach and in this sense is similar to the k-means objective function but tackled with an agglomerative hierarchical approach.\n",
    "- *Maximum* or complete linkage minimizes the maximum distance between observations of pairs of clusters.\n",
    "- *Average* linkage minimizes the average of the distances between all observations of pairs of clusters.\n",
    "- *Single* linkage minimizes the distance between the closest observations of pairs of clusters."
   ]
  },
  {
   "cell_type": "code",
   "execution_count": 85,
   "metadata": {},
   "outputs": [
    {
     "ename": "SyntaxError",
     "evalue": "positional argument follows keyword argument (<ipython-input-85-1dd5595ded70>, line 4)",
     "output_type": "error",
     "traceback": [
      "\u001b[0;36m  File \u001b[0;32m\"<ipython-input-85-1dd5595ded70>\"\u001b[0;36m, line \u001b[0;32m4\u001b[0m\n\u001b[0;31m    clustering = AgglomerativeClustering(n_clusters=NUM_CLUSTERS, linkage=\"ward\",distance_threshold).fit(data)\u001b[0m\n\u001b[0m                                                                                ^\u001b[0m\n\u001b[0;31mSyntaxError\u001b[0m\u001b[0;31m:\u001b[0m positional argument follows keyword argument\n"
     ]
    }
   ],
   "source": [
    "from sklearn.cluster import AgglomerativeClustering\n",
    "\n",
    "# FIX: CURRENT VERSION OF SKLEARN DOESNT ALLOW FOR NONE CLUSTERS \n",
    "# because distance_threshold isn't an attribute...???\n",
    "clustering = AgglomerativeClustering(n_clusters=NUM_CLUSTERS, linkage=\"ward\").fit(data)\n"
   ]
  },
  {
   "cell_type": "code",
   "execution_count": 83,
   "metadata": {},
   "outputs": [
    {
     "data": {
      "text/plain": [
       "<BarContainer object of 6 artists>"
      ]
     },
     "execution_count": 83,
     "metadata": {},
     "output_type": "execute_result"
    },
    {
     "data": {
      "image/png": "[encoded data removed]",
      "text/plain": [
       "<Figure size 432x288 with 1 Axes>"
      ]
     },
     "metadata": {
      "needs_background": "light"
     },
     "output_type": "display_data"
    }
   ],
   "source": [
    "plt.title(\"Number of queries in each cluster\")\n",
    "plt.xlabel(\"Cluster Id\")\n",
    "plt.bar(np.arange(NUM_CLUSTERS),np.bincount(clustering.labels_))"
   ]
  },
  {
   "cell_type": "code",
   "execution_count": null,
   "metadata": {},
   "outputs": [],
   "source": []
  },
  {
   "cell_type": "code",
   "execution_count": null,
   "metadata": {},
   "outputs": [],
   "source": []
  },
  {
   "cell_type": "code",
   "execution_count": null,
   "metadata": {},
   "outputs": [],
   "source": [
    "## old code for spectral clustering and ari index if we have labels \n",
    "\n",
    "sp = SpectralClustering(n_clusters=NUM_CLUSTERS,\n",
    "        assign_labels=\"discretize\",\n",
    "        random_state=0)\n",
    "sp.fit(data)\n",
    "\n",
    "\n",
    "ari = metrics.adjusted_rand_score(labels, clusters) \n",
    "print(\"ARI index: \" + str(ari))\n",
    "print(\"\\n\\n\")\n",
    "\n",
    "# labels = zip(readme_docs, clusters)\n",
    "# np.save(\"pickles/\"+pickle_label+\"_labels\", labels, allow_pickle=True, fix_imports=True)"
   ]
  }
 ],
 "metadata": {
  "kernelspec": {
   "display_name": "Python 3",
   "language": "python",
   "name": "python3"
  },
  "language_info": {
   "codemirror_mode": {
    "name": "ipython",
    "version": 3
   },
   "file_extension": ".py",
   "mimetype": "text/x-python",
   "name": "python",
   "nbconvert_exporter": "python",
   "pygments_lexer": "ipython3",
   "version": "3.7.5"
  }
 },
 "nbformat": 4,
 "nbformat_minor": 2
}
