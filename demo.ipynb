{
 "cells": [
  {
   "cell_type": "markdown",
   "metadata": {},
   "source": [
    "# Demo Notebook for CS411 Project Track 1\n",
    "\n",
    "Since we do not have an interface for this project because of our focus on the algorithm itself, we put the basic functionalities needed for Project Track 1 here as well as any additional progress we have made for our project."
   ]
  },
  {
   "cell_type": "code",
   "execution_count": 5,
   "metadata": {},
   "outputs": [],
   "source": [
    "# Import statements\n",
    "import crud_operations as co # this imports our crud operations class"
   ]
  },
  {
   "cell_type": "markdown",
   "metadata": {},
   "source": [
    "## CRUD Operations\n",
    "\n",
    "This next section shows off our basic CRUD operations. We used a script called `csv_to_db.py` that inputted all of our data (as a CSV) to the MySQL database. Below, we show off some of the different functionality that we have. To see the queries we are using, you can look at `crud_operations.py`."
   ]
  },
  {
   "cell_type": "code",
   "execution_count": 8,
   "metadata": {},
   "outputs": [],
   "source": [
    "# First, create an instance we can use that uses SampleQueries db\n",
    "db = co.MySQLDB(\"SampleQueries\")"
   ]
  },
  {
   "cell_type": "code",
   "execution_count": 12,
   "metadata": {},
   "outputs": [
    {
     "name": "stdout",
     "output_type": "stream",
     "text": [
      "This is reading the Questions in our DB:\n",
      "(1, 'Popular Name')\n",
      "(2, 'Best Performer')\n",
      "(3, 'Course Enrollment')\n",
      "(4, 'test question insert')\n",
      "(5, 'test question insert')\n",
      "(6, 'test question insert')\n",
      "(7, 'test question insert')\n",
      "(8, 'test question insert')\n",
      "(9, 'test question insert')\n",
      "(10, 'test question insert')\n",
      "(11, 'test question insert')\n",
      "(12, 'test question insert')\n"
     ]
    }
   ],
   "source": [
    "# Read current database state\n",
    "print(\"This is reading the Questions in our DB:\")\n",
    "for entry in db.read_all_questions():\n",
    "    print(entry)"
   ]
  },
  {
   "cell_type": "code",
   "execution_count": 15,
   "metadata": {},
   "outputs": [
    {
     "name": "stdout",
     "output_type": "stream",
     "text": [
      "This is reading the Queries in our DB:\n",
      "(1, 1, 'SELECT Firstname FROM Students WHERE Department=\"Statistics\" AND LastName LIKE \\'A%\\' ORDER BY FirstName DESC')\n",
      "(2, 1, '\\nSELECT Firstname\\nFROM Students\\nWHERE Department=\"Statistics\" AND LastName LIKE \\'A%\\'\\nORDER BY FirstName\\n')\n",
      "(3, 2, \" Select NetId from Students NATURAL JOIN Enrollments where (CRN, Score) in (Select E.CRN, max(Score) From Enrollments E, Courses C Where E.CRN = C.CRN and C.Department = 'CS' Group By E.CRN) AND Students.Department <> 'CS'\")\n",
      "(4, 2, \" Select NetID from Enrollments where [CRN, Score] in (Select E.CRN, max(Score) From Enrollments E, Courses C Where E.CRN = C.CRN and C.Department = 'CS' Group By E.CRN))\")\n",
      "(5, 2, \"Select temp.CRN, max(temp.Score) from (Select CRN, NetId, Score From Enrollments E NATURAL JOIN Courses C Where C.Department = 'CS') as temp, Students as S Where S.Department <> 'CS'and S.NetId=temp.NetId GROUP BY temp.CRN\")\n",
      "(6, 2, \"Select NetId from (Select NetID, CRN, Score from Enrollments where CRN in (Select CRN from Courses where Department = 'CS') ) as temp Where temp.Score = max(temp.Score)\")\n",
      "(7, 2, \"\\nSelect E.NetId, CRN, E.Score \\nfrom Enrollments E NATURAL JOIN Courses C,\\nWhere C.Department = 'CS' \")\n",
      "(8, 1, 'this is a test insert')\n",
      "(9, 1, 'this is a test insert')\n",
      "(10, 1, 'this is a test insert')\n",
      "(11, 0, 'SELECT s.FirstName FROM Students s  WHERE s.LastName LIKE \"A%\"  AND s.Department=\"Statistics\" ORDER BY s.FirstName desc')\n",
      "(12, 1, 'SELECT Firstname FROM Students WHERE Department=\"Statistics\" AND LastName LIKE \\'A%\\' ORDER BY FirstName DESC')\n",
      "(13, 2, 'SELECT small.NetId FROM ( SELECT c.CRN, MAX(e.Score) as hi_score         FROM Enrollments e, Courses c, Students s         WHERE e.NetId = s.NetId and c.CRN = e.CRN          and c.Department = \"CS\"         GROUP BY c.CRN) inter   JOIN (SELECT e.NetId, e.CRN, s.Department, e.Score                 FROM Enrollments e, Students s                  WHERE e.NetId=s.NetId                  and s.Department <> \"CS\"             ) small  ON inter.CRN = small.CRN AND inter.hi_score = small.Score ORDER BY small.NetId asc ')\n",
      "(14, 3, \"Select NetId  from Students NATURAL JOIN Enrollments where (CRN, Score) in (Select E.CRN, max(Score) From Enrollments E, Courses C Where E.CRN = C.CRN and C.Department = 'CS' Group By E.CRN) AND Students.Department <> 'CS'\")\n",
      "(15, 4, 'SELECT DISTINCT s.NetId, FirstName, LastName FROM Students s, Enrollments e  WHERE s.NetId = e.NetId and e.CRN in     (SELECT inter.CRN FROM         (SELECT CRN, COUNT(*) as heads         FROM Enrollments         GROUP BY CRN) inter, Courses c     WHERE inter.heads >= 2 and c.CRN = inter.CRN     and c.Department=\"CS\")')\n",
      "(16, 5, \"Select distinct NetId, FirstName, LastName from Students s natural join Enrollments e where CRN in (select CRN                  from Enrollments e natural join Courses c                 where Department='CS'                 group by CRN                 having count(e.netId) >=2)\")\n",
      "(17, 6, 'SELECT BrandName, COUNT(PurchaseId) as purchase_count FROM (Products prod) LEFT JOIN (Purchases purch) ON prod.ProductId=purch.ProductId GROUP BY BrandName ORDER BY purchase_count desc, BrandName asc')\n",
      "(18, 7, 'Select p.BrandName as bn, count(pur.PurchaseId) as purc From Products p left outer join Purchases pur on p.ProductId=pur.ProductId group by p.BrandName order by purc desc, bn')\n",
      "(19, 8, 'SELECT s.FirstName, COUNT(*) as num_ECE_courses FROM (Students s) NATURAL JOIN (Enrollments e), Courses c WHERE e.CRN = c.CRN and c.Department=\"ECE\" GROUP BY s.NetId ORDER BY num_ECE_courses asc, FirstName desc')\n",
      "(20, 9, \"Select s.FirstName as nam, count(e.CRN) as cnt from Students s, Enrollments e, Courses c Where s.netId=e.netId and e.CRN=c.CRN and c.Department='ECE' group by s.FirstName order by cnt, nam desc\")\n",
      "(21, 10, \"Select S.FirstName as fn, count(temp.crn) as cnt from (Select S.NetID as net, E.CRN as crn from Students S, Enrollments E, Courses C where S.NetID = E.NetId and E.CRN=C.CRN and C.Department = 'ECE') as temp, Students S where S.NetId=temp.net group by temp.net order by cnt, fn DESC;\")\n",
      "(22, 11, 'UPDATE Enrollments SET Credits = 4 WHERE CRN = 301;  UPDATE Courses  SET Instructor = \"Bell Anderson\" WHERE CRN = 301;  INSERT INTO Students (NetId, FirstName, LastName, Department) VALUES (\"afro2\", \"Archer\", \"Frost\", \"Music\");  INSERT INTO Enrollments (NetId, CRN, Credits, Score) VALUES (\"afro2\", 301, 4, 96.0);  SELECT e.CRN, c.Title, AVG(score) as avg_score FROM Enrollments e NATURAL JOIN Courses c GROUP BY CRN, Title ORDER BY avg_score desc;')\n",
      "(23, 12, 'UPDATE Enrollments SET Credits = 4 WHERE CRN=301;   UPDATE Courses SET Instructor = \"Anderson Bell\" WHERE CRN=301;   INSERT INTO Students VALUES (\"afro2\", \"Archer\", \"Frost\",\"Music\");   INSERT INTO Enrollments VALUES (\"afro2\", 301, 4, 96.0);  Select C.CRN, C.Title, avg(E.Score) as av from Enrollments E, Courses C Where E.CRN=C.CRN group by C.CRN order by av desc')\n",
      "(24, 13, ' SELECT P.ProductName, COUNT(P2.ProductId) as num_products FROM (Products P) LEFT OUTER JOIN (Products P2) ON P.BrandName <> P2.BrandName AND      P.YearReleased = P2.YearReleased GROUP BY P.ProductId, P.ProductName ORDER BY P.ProductName asc')\n",
      "(25, 14, 'Select p1.ProductName as pz, count(p2.ProductName) From Products p1 left outer join Products p2 on p1.YearReleased = p2.YearReleased AND p1.BrandName <> p2.BrandName  Group by p1.ProductName Order by pz')\n",
      "(26, 15, 'SELECT inter.FirstName, inter.LastName FROM( SELECT DISTINCT FirstName, LastName, c.CustomerId FROM Customers c, Purchases p,     (SELECT ProductId, AVG(Price) as avg_price     FROM Purchases GROUP BY ProductId) temp  WHERE p.ProductId = temp.ProductId      AND c.CustomerId = p.CustomerId     AND p.Price > avg_price ORDER BY c.CustomerId desc) inter ')\n",
      "(27, 16, 'Select fname, lname from (select distinct  CustomerId as cust, FirstName as fname, LastName as lname from Customers c natural join Purchases p, (select ProductId, avg(Price) as av from Purchases group by ProductId) t1 Where p.productId = t1.productId AND p.Price>t1.av order by CustomerId desc) t2')\n",
      "(28, 17, 'select haha.fn, haha.ln from (select distinct c.FirstName as fn, c.LastName as ln, c.CustomerId as cid     from  Customers c,      Purchases pur,          (select p.ProductId as id, avg(p.Price) as price         from Purchases p          group by p.productId) as temp where c.customerId = pur.customerId and pur.ProductId = temp.id and pur.Price>temp.price order by c.CustomerId desc) haha;  ')\n",
      "(29, 18, 'CREATE TRIGGER RepeatPurchase  BEFORE INSERT ON Purchases  FOR EACH ROW  BEGIN     IF (NEW.CustomerId, NEW.ProductId) in (SELECT CustomerId, ProductId FROM Purchases) THEN     SET NEW.Price = NEW.Price*.70;     END IF; END;  INSERT INTO Purchases (PurchaseId, CustomerId, ProductId, Price) VALUES (500, 20, 5, 500);')\n",
      "(30, 19, 'CREATE TRIGGER before_purchases_insert  BEFORE INSERT  ON Purchases FOR EACH ROW  BEGIN  IF (new.CustomerId, new.ProductId) in (select CustomerId, ProductId from Purchases) THEN  Set new.Price = new.Price - 0.3*new.Price;  END IF;   END;     INSERT into Purchases  Values(500,20,5,500);')\n",
      "(31, 0, 'SELECT s.FirstName FROM Students s  WHERE s.LastName LIKE \"A%\"  AND s.Department=\"Statistics\" ORDER BY s.FirstName desc')\n",
      "(32, 1, 'SELECT Firstname FROM Students WHERE Department=\"Statistics\" AND LastName LIKE \\'A%\\' ORDER BY FirstName DESC')\n",
      "(33, 2, 'SELECT small.NetId FROM ( SELECT c.CRN, MAX(e.Score) as hi_score         FROM Enrollments e, Courses c, Students s         WHERE e.NetId = s.NetId and c.CRN = e.CRN          and c.Department = \"CS\"         GROUP BY c.CRN) inter   JOIN (SELECT e.NetId, e.CRN, s.Department, e.Score                 FROM Enrollments e, Students s                  WHERE e.NetId=s.NetId                  and s.Department <> \"CS\"             ) small  ON inter.CRN = small.CRN AND inter.hi_score = small.Score ORDER BY small.NetId asc ')\n",
      "(34, 3, \"Select NetId  from Students NATURAL JOIN Enrollments where (CRN, Score) in (Select E.CRN, max(Score) From Enrollments E, Courses C Where E.CRN = C.CRN and C.Department = 'CS' Group By E.CRN) AND Students.Department <> 'CS'\")\n",
      "(35, 4, 'SELECT DISTINCT s.NetId, FirstName, LastName FROM Students s, Enrollments e  WHERE s.NetId = e.NetId and e.CRN in     (SELECT inter.CRN FROM         (SELECT CRN, COUNT(*) as heads         FROM Enrollments         GROUP BY CRN) inter, Courses c     WHERE inter.heads >= 2 and c.CRN = inter.CRN     and c.Department=\"CS\")')\n",
      "(36, 5, \"Select distinct NetId, FirstName, LastName from Students s natural join Enrollments e where CRN in (select CRN                  from Enrollments e natural join Courses c                 where Department='CS'                 group by CRN                 having count(e.netId) >=2)\")\n",
      "(37, 6, 'SELECT BrandName, COUNT(PurchaseId) as purchase_count FROM (Products prod) LEFT JOIN (Purchases purch) ON prod.ProductId=purch.ProductId GROUP BY BrandName ORDER BY purchase_count desc, BrandName asc')\n",
      "(38, 7, 'Select p.BrandName as bn, count(pur.PurchaseId) as purc From Products p left outer join Purchases pur on p.ProductId=pur.ProductId group by p.BrandName order by purc desc, bn')\n",
      "(39, 8, 'SELECT s.FirstName, COUNT(*) as num_ECE_courses FROM (Students s) NATURAL JOIN (Enrollments e), Courses c WHERE e.CRN = c.CRN and c.Department=\"ECE\" GROUP BY s.NetId ORDER BY num_ECE_courses asc, FirstName desc')\n",
      "(40, 9, \"Select s.FirstName as nam, count(e.CRN) as cnt from Students s, Enrollments e, Courses c Where s.netId=e.netId and e.CRN=c.CRN and c.Department='ECE' group by s.FirstName order by cnt, nam desc\")\n",
      "(41, 10, \"Select S.FirstName as fn, count(temp.crn) as cnt from (Select S.NetID as net, E.CRN as crn from Students S, Enrollments E, Courses C where S.NetID = E.NetId and E.CRN=C.CRN and C.Department = 'ECE') as temp, Students S where S.NetId=temp.net group by temp.net order by cnt, fn DESC;\")\n",
      "(42, 11, 'UPDATE Enrollments SET Credits = 4 WHERE CRN = 301;  UPDATE Courses  SET Instructor = \"Bell Anderson\" WHERE CRN = 301;  INSERT INTO Students (NetId, FirstName, LastName, Department) VALUES (\"afro2\", \"Archer\", \"Frost\", \"Music\");  INSERT INTO Enrollments (NetId, CRN, Credits, Score) VALUES (\"afro2\", 301, 4, 96.0);  SELECT e.CRN, c.Title, AVG(score) as avg_score FROM Enrollments e NATURAL JOIN Courses c GROUP BY CRN, Title ORDER BY avg_score desc;')\n",
      "(43, 12, 'UPDATE Enrollments SET Credits = 4 WHERE CRN=301;   UPDATE Courses SET Instructor = \"Anderson Bell\" WHERE CRN=301;   INSERT INTO Students VALUES (\"afro2\", \"Archer\", \"Frost\",\"Music\");   INSERT INTO Enrollments VALUES (\"afro2\", 301, 4, 96.0);  Select C.CRN, C.Title, avg(E.Score) as av from Enrollments E, Courses C Where E.CRN=C.CRN group by C.CRN order by av desc')\n",
      "(44, 13, ' SELECT P.ProductName, COUNT(P2.ProductId) as num_products FROM (Products P) LEFT OUTER JOIN (Products P2) ON P.BrandName <> P2.BrandName AND      P.YearReleased = P2.YearReleased GROUP BY P.ProductId, P.ProductName ORDER BY P.ProductName asc')\n",
      "(45, 14, 'Select p1.ProductName as pz, count(p2.ProductName) From Products p1 left outer join Products p2 on p1.YearReleased = p2.YearReleased AND p1.BrandName <> p2.BrandName  Group by p1.ProductName Order by pz')\n",
      "(46, 15, 'SELECT inter.FirstName, inter.LastName FROM( SELECT DISTINCT FirstName, LastName, c.CustomerId FROM Customers c, Purchases p,     (SELECT ProductId, AVG(Price) as avg_price     FROM Purchases GROUP BY ProductId) temp  WHERE p.ProductId = temp.ProductId      AND c.CustomerId = p.CustomerId     AND p.Price > avg_price ORDER BY c.CustomerId desc) inter ')\n",
      "(47, 16, 'Select fname, lname from (select distinct  CustomerId as cust, FirstName as fname, LastName as lname from Customers c natural join Purchases p, (select ProductId, avg(Price) as av from Purchases group by ProductId) t1 Where p.productId = t1.productId AND p.Price>t1.av order by CustomerId desc) t2')\n",
      "(48, 17, 'select haha.fn, haha.ln from (select distinct c.FirstName as fn, c.LastName as ln, c.CustomerId as cid     from  Customers c,      Purchases pur,          (select p.ProductId as id, avg(p.Price) as price         from Purchases p          group by p.productId) as temp where c.customerId = pur.customerId and pur.ProductId = temp.id and pur.Price>temp.price order by c.CustomerId desc) haha;  ')\n",
      "(49, 18, 'CREATE TRIGGER RepeatPurchase  BEFORE INSERT ON Purchases  FOR EACH ROW  BEGIN     IF (NEW.CustomerId, NEW.ProductId) in (SELECT CustomerId, ProductId FROM Purchases) THEN     SET NEW.Price = NEW.Price*.70;     END IF; END;  INSERT INTO Purchases (PurchaseId, CustomerId, ProductId, Price) VALUES (500, 20, 5, 500);')\n",
      "(50, 19, 'CREATE TRIGGER before_purchases_insert  BEFORE INSERT  ON Purchases FOR EACH ROW  BEGIN  IF (new.CustomerId, new.ProductId) in (select CustomerId, ProductId from Purchases) THEN  Set new.Price = new.Price - 0.3*new.Price;  END IF;   END;     INSERT into Purchases  Values(500,20,5,500);')\n",
      "(51, 0, 'SELECT s.FirstName FROM Students s  WHERE s.LastName LIKE \"A%\"  AND s.Department=\"Statistics\" ORDER BY s.FirstName desc')\n",
      "(52, 1, 'SELECT Firstname FROM Students WHERE Department=\"Statistics\" AND LastName LIKE \\'A%\\' ORDER BY FirstName DESC')\n",
      "(53, 2, 'SELECT small.NetId FROM ( SELECT c.CRN, MAX(e.Score) as hi_score         FROM Enrollments e, Courses c, Students s         WHERE e.NetId = s.NetId and c.CRN = e.CRN          and c.Department = \"CS\"         GROUP BY c.CRN) inter   JOIN (SELECT e.NetId, e.CRN, s.Department, e.Score                 FROM Enrollments e, Students s                  WHERE e.NetId=s.NetId                  and s.Department <> \"CS\"             ) small  ON inter.CRN = small.CRN AND inter.hi_score = small.Score ORDER BY small.NetId asc ')\n",
      "(54, 3, \"Select NetId  from Students NATURAL JOIN Enrollments where (CRN, Score) in (Select E.CRN, max(Score) From Enrollments E, Courses C Where E.CRN = C.CRN and C.Department = 'CS' Group By E.CRN) AND Students.Department <> 'CS'\")\n",
      "(55, 4, 'SELECT DISTINCT s.NetId, FirstName, LastName FROM Students s, Enrollments e  WHERE s.NetId = e.NetId and e.CRN in     (SELECT inter.CRN FROM         (SELECT CRN, COUNT(*) as heads         FROM Enrollments         GROUP BY CRN) inter, Courses c     WHERE inter.heads >= 2 and c.CRN = inter.CRN     and c.Department=\"CS\")')\n",
      "(56, 5, \"Select distinct NetId, FirstName, LastName from Students s natural join Enrollments e where CRN in (select CRN                  from Enrollments e natural join Courses c                 where Department='CS'                 group by CRN                 having count(e.netId) >=2)\")\n",
      "(57, 6, 'SELECT BrandName, COUNT(PurchaseId) as purchase_count FROM (Products prod) LEFT JOIN (Purchases purch) ON prod.ProductId=purch.ProductId GROUP BY BrandName ORDER BY purchase_count desc, BrandName asc')\n",
      "(58, 7, 'Select p.BrandName as bn, count(pur.PurchaseId) as purc From Products p left outer join Purchases pur on p.ProductId=pur.ProductId group by p.BrandName order by purc desc, bn')\n",
      "(59, 8, 'SELECT s.FirstName, COUNT(*) as num_ECE_courses FROM (Students s) NATURAL JOIN (Enrollments e), Courses c WHERE e.CRN = c.CRN and c.Department=\"ECE\" GROUP BY s.NetId ORDER BY num_ECE_courses asc, FirstName desc')\n",
      "(60, 9, \"Select s.FirstName as nam, count(e.CRN) as cnt from Students s, Enrollments e, Courses c Where s.netId=e.netId and e.CRN=c.CRN and c.Department='ECE' group by s.FirstName order by cnt, nam desc\")\n",
      "(61, 10, \"Select S.FirstName as fn, count(temp.crn) as cnt from (Select S.NetID as net, E.CRN as crn from Students S, Enrollments E, Courses C where S.NetID = E.NetId and E.CRN=C.CRN and C.Department = 'ECE') as temp, Students S where S.NetId=temp.net group by temp.net order by cnt, fn DESC;\")\n",
      "(62, 11, 'UPDATE Enrollments SET Credits = 4 WHERE CRN = 301;  UPDATE Courses  SET Instructor = \"Bell Anderson\" WHERE CRN = 301;  INSERT INTO Students (NetId, FirstName, LastName, Department) VALUES (\"afro2\", \"Archer\", \"Frost\", \"Music\");  INSERT INTO Enrollments (NetId, CRN, Credits, Score) VALUES (\"afro2\", 301, 4, 96.0);  SELECT e.CRN, c.Title, AVG(score) as avg_score FROM Enrollments e NATURAL JOIN Courses c GROUP BY CRN, Title ORDER BY avg_score desc;')\n",
      "(63, 12, 'UPDATE Enrollments SET Credits = 4 WHERE CRN=301;   UPDATE Courses SET Instructor = \"Anderson Bell\" WHERE CRN=301;   INSERT INTO Students VALUES (\"afro2\", \"Archer\", \"Frost\",\"Music\");   INSERT INTO Enrollments VALUES (\"afro2\", 301, 4, 96.0);  Select C.CRN, C.Title, avg(E.Score) as av from Enrollments E, Courses C Where E.CRN=C.CRN group by C.CRN order by av desc')\n",
      "(64, 13, ' SELECT P.ProductName, COUNT(P2.ProductId) as num_products FROM (Products P) LEFT OUTER JOIN (Products P2) ON P.BrandName <> P2.BrandName AND      P.YearReleased = P2.YearReleased GROUP BY P.ProductId, P.ProductName ORDER BY P.ProductName asc')\n",
      "(65, 14, 'Select p1.ProductName as pz, count(p2.ProductName) From Products p1 left outer join Products p2 on p1.YearReleased = p2.YearReleased AND p1.BrandName <> p2.BrandName  Group by p1.ProductName Order by pz')\n",
      "(66, 15, 'SELECT inter.FirstName, inter.LastName FROM( SELECT DISTINCT FirstName, LastName, c.CustomerId FROM Customers c, Purchases p,     (SELECT ProductId, AVG(Price) as avg_price     FROM Purchases GROUP BY ProductId) temp  WHERE p.ProductId = temp.ProductId      AND c.CustomerId = p.CustomerId     AND p.Price > avg_price ORDER BY c.CustomerId desc) inter ')\n",
      "(67, 16, 'Select fname, lname from (select distinct  CustomerId as cust, FirstName as fname, LastName as lname from Customers c natural join Purchases p, (select ProductId, avg(Price) as av from Purchases group by ProductId) t1 Where p.productId = t1.productId AND p.Price>t1.av order by CustomerId desc) t2')\n",
      "(68, 17, 'select haha.fn, haha.ln from (select distinct c.FirstName as fn, c.LastName as ln, c.CustomerId as cid     from  Customers c,      Purchases pur,          (select p.ProductId as id, avg(p.Price) as price         from Purchases p          group by p.productId) as temp where c.customerId = pur.customerId and pur.ProductId = temp.id and pur.Price>temp.price order by c.CustomerId desc) haha;  ')\n",
      "(69, 18, 'CREATE TRIGGER RepeatPurchase  BEFORE INSERT ON Purchases  FOR EACH ROW  BEGIN     IF (NEW.CustomerId, NEW.ProductId) in (SELECT CustomerId, ProductId FROM Purchases) THEN     SET NEW.Price = NEW.Price*.70;     END IF; END;  INSERT INTO Purchases (PurchaseId, CustomerId, ProductId, Price) VALUES (500, 20, 5, 500);')\n",
      "(70, 19, 'CREATE TRIGGER before_purchases_insert  BEFORE INSERT  ON Purchases FOR EACH ROW  BEGIN  IF (new.CustomerId, new.ProductId) in (select CustomerId, ProductId from Purchases) THEN  Set new.Price = new.Price - 0.3*new.Price;  END IF;   END;     INSERT into Purchases  Values(500,20,5,500);')\n",
      "(71, 0, 'SELECT s.FirstName FROM Students s  WHERE s.LastName LIKE \"A%\"  AND s.Department=\"Statistics\" ORDER BY s.FirstName desc')\n",
      "(72, 1, 'SELECT Firstname FROM Students WHERE Department=\"Statistics\" AND LastName LIKE \\'A%\\' ORDER BY FirstName DESC')\n",
      "(73, 2, 'SELECT small.NetId FROM ( SELECT c.CRN, MAX(e.Score) as hi_score         FROM Enrollments e, Courses c, Students s         WHERE e.NetId = s.NetId and c.CRN = e.CRN          and c.Department = \"CS\"         GROUP BY c.CRN) inter   JOIN (SELECT e.NetId, e.CRN, s.Department, e.Score                 FROM Enrollments e, Students s                  WHERE e.NetId=s.NetId                  and s.Department <> \"CS\"             ) small  ON inter.CRN = small.CRN AND inter.hi_score = small.Score ORDER BY small.NetId asc ')\n",
      "(74, 3, \"Select NetId  from Students NATURAL JOIN Enrollments where (CRN, Score) in (Select E.CRN, max(Score) From Enrollments E, Courses C Where E.CRN = C.CRN and C.Department = 'CS' Group By E.CRN) AND Students.Department <> 'CS'\")\n",
      "(75, 4, 'SELECT DISTINCT s.NetId, FirstName, LastName FROM Students s, Enrollments e  WHERE s.NetId = e.NetId and e.CRN in     (SELECT inter.CRN FROM         (SELECT CRN, COUNT(*) as heads         FROM Enrollments         GROUP BY CRN) inter, Courses c     WHERE inter.heads >= 2 and c.CRN = inter.CRN     and c.Department=\"CS\")')\n",
      "(76, 5, \"Select distinct NetId, FirstName, LastName from Students s natural join Enrollments e where CRN in (select CRN                  from Enrollments e natural join Courses c                 where Department='CS'                 group by CRN                 having count(e.netId) >=2)\")\n",
      "(77, 6, 'SELECT BrandName, COUNT(PurchaseId) as purchase_count FROM (Products prod) LEFT JOIN (Purchases purch) ON prod.ProductId=purch.ProductId GROUP BY BrandName ORDER BY purchase_count desc, BrandName asc')\n",
      "(78, 7, 'Select p.BrandName as bn, count(pur.PurchaseId) as purc From Products p left outer join Purchases pur on p.ProductId=pur.ProductId group by p.BrandName order by purc desc, bn')\n",
      "(79, 8, 'SELECT s.FirstName, COUNT(*) as num_ECE_courses FROM (Students s) NATURAL JOIN (Enrollments e), Courses c WHERE e.CRN = c.CRN and c.Department=\"ECE\" GROUP BY s.NetId ORDER BY num_ECE_courses asc, FirstName desc')\n",
      "(80, 9, \"Select s.FirstName as nam, count(e.CRN) as cnt from Students s, Enrollments e, Courses c Where s.netId=e.netId and e.CRN=c.CRN and c.Department='ECE' group by s.FirstName order by cnt, nam desc\")\n",
      "(81, 10, \"Select S.FirstName as fn, count(temp.crn) as cnt from (Select S.NetID as net, E.CRN as crn from Students S, Enrollments E, Courses C where S.NetID = E.NetId and E.CRN=C.CRN and C.Department = 'ECE') as temp, Students S where S.NetId=temp.net group by temp.net order by cnt, fn DESC;\")\n",
      "(82, 11, 'UPDATE Enrollments SET Credits = 4 WHERE CRN = 301;  UPDATE Courses  SET Instructor = \"Bell Anderson\" WHERE CRN = 301;  INSERT INTO Students (NetId, FirstName, LastName, Department) VALUES (\"afro2\", \"Archer\", \"Frost\", \"Music\");  INSERT INTO Enrollments (NetId, CRN, Credits, Score) VALUES (\"afro2\", 301, 4, 96.0);  SELECT e.CRN, c.Title, AVG(score) as avg_score FROM Enrollments e NATURAL JOIN Courses c GROUP BY CRN, Title ORDER BY avg_score desc;')\n",
      "(83, 12, 'UPDATE Enrollments SET Credits = 4 WHERE CRN=301;   UPDATE Courses SET Instructor = \"Anderson Bell\" WHERE CRN=301;   INSERT INTO Students VALUES (\"afro2\", \"Archer\", \"Frost\",\"Music\");   INSERT INTO Enrollments VALUES (\"afro2\", 301, 4, 96.0);  Select C.CRN, C.Title, avg(E.Score) as av from Enrollments E, Courses C Where E.CRN=C.CRN group by C.CRN order by av desc')\n",
      "(84, 13, ' SELECT P.ProductName, COUNT(P2.ProductId) as num_products FROM (Products P) LEFT OUTER JOIN (Products P2) ON P.BrandName <> P2.BrandName AND      P.YearReleased = P2.YearReleased GROUP BY P.ProductId, P.ProductName ORDER BY P.ProductName asc')\n",
      "(85, 14, 'Select p1.ProductName as pz, count(p2.ProductName) From Products p1 left outer join Products p2 on p1.YearReleased = p2.YearReleased AND p1.BrandName <> p2.BrandName  Group by p1.ProductName Order by pz')\n",
      "(86, 15, 'SELECT inter.FirstName, inter.LastName FROM( SELECT DISTINCT FirstName, LastName, c.CustomerId FROM Customers c, Purchases p,     (SELECT ProductId, AVG(Price) as avg_price     FROM Purchases GROUP BY ProductId) temp  WHERE p.ProductId = temp.ProductId      AND c.CustomerId = p.CustomerId     AND p.Price > avg_price ORDER BY c.CustomerId desc) inter ')\n",
      "(87, 16, 'Select fname, lname from (select distinct  CustomerId as cust, FirstName as fname, LastName as lname from Customers c natural join Purchases p, (select ProductId, avg(Price) as av from Purchases group by ProductId) t1 Where p.productId = t1.productId AND p.Price>t1.av order by CustomerId desc) t2')\n",
      "(88, 17, 'select haha.fn, haha.ln from (select distinct c.FirstName as fn, c.LastName as ln, c.CustomerId as cid     from  Customers c,      Purchases pur,          (select p.ProductId as id, avg(p.Price) as price         from Purchases p          group by p.productId) as temp where c.customerId = pur.customerId and pur.ProductId = temp.id and pur.Price>temp.price order by c.CustomerId desc) haha;  ')\n",
      "(89, 18, 'CREATE TRIGGER RepeatPurchase  BEFORE INSERT ON Purchases  FOR EACH ROW  BEGIN     IF (NEW.CustomerId, NEW.ProductId) in (SELECT CustomerId, ProductId FROM Purchases) THEN     SET NEW.Price = NEW.Price*.70;     END IF; END;  INSERT INTO Purchases (PurchaseId, CustomerId, ProductId, Price) VALUES (500, 20, 5, 500);')\n",
      "(90, 19, 'CREATE TRIGGER before_purchases_insert  BEFORE INSERT  ON Purchases FOR EACH ROW  BEGIN  IF (new.CustomerId, new.ProductId) in (select CustomerId, ProductId from Purchases) THEN  Set new.Price = new.Price - 0.3*new.Price;  END IF;   END;     INSERT into Purchases  Values(500,20,5,500);')\n",
      "(91, 20, '  CREATE PROCEDURE Result()      BEGIN          DECLARE done int default 0;     DECLARE currNetId VARCHAR(10);     DECLARE currFirst VARCHAR(255);     DECLARE currLast VARCHAR(255);     DECLARE currAvg REAL;          DECLARE final_res VARCHAR(5);      DECLARE studcur CURSOR FOR SELECT DISTINCT NetId, FirstName, LastName, AVG(Score) as average_score FROM Students S NATURAL JOIN Enrollments E GROUP BY (NetId);          DECLARE CONTINUE HANDLER FOR NOT FOUND SET done = 1;               DROP TABLE IF EXISTS NewTable;          CREATE TABLE NewTable (         NetId VARCHAR(10),         FirstName VARCHAR(255),         LastName VARCHAR (255),         FinalResult VARCHAR(5)     );          OPEN studcur;               loopLabel: LOOP         FETCH studcur INTO currNetId, currFirst, currLast, currAvg;         IF done = 1 THEN              LEAVE loopLabel;      END IF;               IF currAvg >= 60 THEN SET final_res = \"Pass\";         ELSE SET final_res = \"Fail\";         END IF;                  INSERT INTO NewTable          VALUES (currNetId, currFirst, currLast, final_res);     END LOOP loopLabel;       CLOSE studcur;          SELECT * FROM NewTable;      END;    ')\n",
      "(92, 21, \"CREATE PROCEDURE Result()  BEGIN  DECLARE done int default 0;  DECLARE netid VARCHAR(10);  DECLARE fname VARCHAR(255);  DECLARE lname VARCHAR(255);  DECLARE finres VARCHAR(4);  DECLARE avgscore REAL;  DECLARE rescur CURSOR FOR SELECT S.NetID, S.FirstName, S.LastName, avg(E.Score) as avgsc from Students S, Enrollments E where S.NetId=E.NetId group by S.NetId;  DECLARE CONTINUE HANDLER FOR NOT FOUND SET done=1;     DROP TABLE IF EXISTS NewTable;      CREATE TABLE NewTable (  NetId VARCHAR(10),  FirstName VARCHAR(255),  LastName VARCHAR(255),  FinalResult VARCHAR(4)  );     OPEN rescur;     bloop: LOOP  FETCH rescur INTO netid, fname, lname, avgscore;  IF done=1 then  LEAVE bloop;  END IF;  IF avgscore >= 60 THEN   SET finres = 'Pass';  ELSE SET finres = 'Fail';  END IF;  INSERT INTO NewTable VALUES(netid, fname, lname, finres);  END LOOP bloop;     CLOSE rescur;     SELECT * FROM NewTable;  END;\")\n",
      "(93, 0, 'SELECT s.FirstName FROM Students s  WHERE s.LastName LIKE \"A%\"  AND s.Department=\"Statistics\" ORDER BY s.FirstName desc')\n",
      "(94, 1, 'SELECT Firstname FROM Students WHERE Department=\"Statistics\" AND LastName LIKE \\'A%\\' ORDER BY FirstName DESC')\n",
      "(95, 2, 'SELECT small.NetId FROM ( SELECT c.CRN, MAX(e.Score) as hi_score         FROM Enrollments e, Courses c, Students s         WHERE e.NetId = s.NetId and c.CRN = e.CRN          and c.Department = \"CS\"         GROUP BY c.CRN) inter   JOIN (SELECT e.NetId, e.CRN, s.Department, e.Score                 FROM Enrollments e, Students s                  WHERE e.NetId=s.NetId                  and s.Department <> \"CS\"             ) small  ON inter.CRN = small.CRN AND inter.hi_score = small.Score ORDER BY small.NetId asc ')\n",
      "(96, 3, \"Select NetId  from Students NATURAL JOIN Enrollments where (CRN, Score) in (Select E.CRN, max(Score) From Enrollments E, Courses C Where E.CRN = C.CRN and C.Department = 'CS' Group By E.CRN) AND Students.Department <> 'CS'\")\n",
      "(97, 4, 'SELECT DISTINCT s.NetId, FirstName, LastName FROM Students s, Enrollments e  WHERE s.NetId = e.NetId and e.CRN in     (SELECT inter.CRN FROM         (SELECT CRN, COUNT(*) as heads         FROM Enrollments         GROUP BY CRN) inter, Courses c     WHERE inter.heads >= 2 and c.CRN = inter.CRN     and c.Department=\"CS\")')\n",
      "(98, 5, \"Select distinct NetId, FirstName, LastName from Students s natural join Enrollments e where CRN in (select CRN                  from Enrollments e natural join Courses c                 where Department='CS'                 group by CRN                 having count(e.netId) >=2)\")\n",
      "(99, 6, 'SELECT BrandName, COUNT(PurchaseId) as purchase_count FROM (Products prod) LEFT JOIN (Purchases purch) ON prod.ProductId=purch.ProductId GROUP BY BrandName ORDER BY purchase_count desc, BrandName asc')\n",
      "(100, 7, 'Select p.BrandName as bn, count(pur.PurchaseId) as purc From Products p left outer join Purchases pur on p.ProductId=pur.ProductId group by p.BrandName order by purc desc, bn')\n",
      "(101, 8, 'SELECT s.FirstName, COUNT(*) as num_ECE_courses FROM (Students s) NATURAL JOIN (Enrollments e), Courses c WHERE e.CRN = c.CRN and c.Department=\"ECE\" GROUP BY s.NetId ORDER BY num_ECE_courses asc, FirstName desc')\n",
      "(102, 9, \"Select s.FirstName as nam, count(e.CRN) as cnt from Students s, Enrollments e, Courses c Where s.netId=e.netId and e.CRN=c.CRN and c.Department='ECE' group by s.FirstName order by cnt, nam desc\")\n",
      "(103, 10, \"Select S.FirstName as fn, count(temp.crn) as cnt from (Select S.NetID as net, E.CRN as crn from Students S, Enrollments E, Courses C where S.NetID = E.NetId and E.CRN=C.CRN and C.Department = 'ECE') as temp, Students S where S.NetId=temp.net group by temp.net order by cnt, fn DESC;\")\n",
      "(104, 11, 'UPDATE Enrollments SET Credits = 4 WHERE CRN = 301;  UPDATE Courses  SET Instructor = \"Bell Anderson\" WHERE CRN = 301;  INSERT INTO Students (NetId, FirstName, LastName, Department) VALUES (\"afro2\", \"Archer\", \"Frost\", \"Music\");  INSERT INTO Enrollments (NetId, CRN, Credits, Score) VALUES (\"afro2\", 301, 4, 96.0);  SELECT e.CRN, c.Title, AVG(score) as avg_score FROM Enrollments e NATURAL JOIN Courses c GROUP BY CRN, Title ORDER BY avg_score desc;')\n",
      "(105, 12, 'UPDATE Enrollments SET Credits = 4 WHERE CRN=301;   UPDATE Courses SET Instructor = \"Anderson Bell\" WHERE CRN=301;   INSERT INTO Students VALUES (\"afro2\", \"Archer\", \"Frost\",\"Music\");   INSERT INTO Enrollments VALUES (\"afro2\", 301, 4, 96.0);  Select C.CRN, C.Title, avg(E.Score) as av from Enrollments E, Courses C Where E.CRN=C.CRN group by C.CRN order by av desc')\n",
      "(106, 13, ' SELECT P.ProductName, COUNT(P2.ProductId) as num_products FROM (Products P) LEFT OUTER JOIN (Products P2) ON P.BrandName <> P2.BrandName AND      P.YearReleased = P2.YearReleased GROUP BY P.ProductId, P.ProductName ORDER BY P.ProductName asc')\n",
      "(107, 14, 'Select p1.ProductName as pz, count(p2.ProductName) From Products p1 left outer join Products p2 on p1.YearReleased = p2.YearReleased AND p1.BrandName <> p2.BrandName  Group by p1.ProductName Order by pz')\n",
      "(108, 15, 'SELECT inter.FirstName, inter.LastName FROM( SELECT DISTINCT FirstName, LastName, c.CustomerId FROM Customers c, Purchases p,     (SELECT ProductId, AVG(Price) as avg_price     FROM Purchases GROUP BY ProductId) temp  WHERE p.ProductId = temp.ProductId      AND c.CustomerId = p.CustomerId     AND p.Price > avg_price ORDER BY c.CustomerId desc) inter ')\n",
      "(109, 16, 'Select fname, lname from (select distinct  CustomerId as cust, FirstName as fname, LastName as lname from Customers c natural join Purchases p, (select ProductId, avg(Price) as av from Purchases group by ProductId) t1 Where p.productId = t1.productId AND p.Price>t1.av order by CustomerId desc) t2')\n",
      "(110, 17, 'select haha.fn, haha.ln from (select distinct c.FirstName as fn, c.LastName as ln, c.CustomerId as cid     from  Customers c,      Purchases pur,          (select p.ProductId as id, avg(p.Price) as price         from Purchases p          group by p.productId) as temp where c.customerId = pur.customerId and pur.ProductId = temp.id and pur.Price>temp.price order by c.CustomerId desc) haha;  ')\n",
      "(111, 18, 'CREATE TRIGGER RepeatPurchase  BEFORE INSERT ON Purchases  FOR EACH ROW  BEGIN     IF (NEW.CustomerId, NEW.ProductId) in (SELECT CustomerId, ProductId FROM Purchases) THEN     SET NEW.Price = NEW.Price*.70;     END IF; END;  INSERT INTO Purchases (PurchaseId, CustomerId, ProductId, Price) VALUES (500, 20, 5, 500);')\n",
      "(112, 19, 'CREATE TRIGGER before_purchases_insert  BEFORE INSERT  ON Purchases FOR EACH ROW  BEGIN  IF (new.CustomerId, new.ProductId) in (select CustomerId, ProductId from Purchases) THEN  Set new.Price = new.Price - 0.3*new.Price;  END IF;   END;     INSERT into Purchases  Values(500,20,5,500);')\n",
      "(113, 20, '  CREATE PROCEDURE Result()      BEGIN          DECLARE done int default 0;     DECLARE currNetId VARCHAR(10);     DECLARE currFirst VARCHAR(255);     DECLARE currLast VARCHAR(255);     DECLARE currAvg REAL;          DECLARE final_res VARCHAR(5);      DECLARE studcur CURSOR FOR SELECT DISTINCT NetId, FirstName, LastName, AVG(Score) as average_score FROM Students S NATURAL JOIN Enrollments E GROUP BY (NetId);          DECLARE CONTINUE HANDLER FOR NOT FOUND SET done = 1;               DROP TABLE IF EXISTS NewTable;          CREATE TABLE NewTable (         NetId VARCHAR(10),         FirstName VARCHAR(255),         LastName VARCHAR (255),         FinalResult VARCHAR(5)     );          OPEN studcur;               loopLabel: LOOP         FETCH studcur INTO currNetId, currFirst, currLast, currAvg;         IF done = 1 THEN              LEAVE loopLabel;      END IF;               IF currAvg >= 60 THEN SET final_res = \"Pass\";         ELSE SET final_res = \"Fail\";         END IF;                  INSERT INTO NewTable          VALUES (currNetId, currFirst, currLast, final_res);     END LOOP loopLabel;       CLOSE studcur;          SELECT * FROM NewTable;      END;    ')\n",
      "(114, 21, \"CREATE PROCEDURE Result()  BEGIN  DECLARE done int default 0;  DECLARE netid VARCHAR(10);  DECLARE fname VARCHAR(255);  DECLARE lname VARCHAR(255);  DECLARE finres VARCHAR(4);  DECLARE avgscore REAL;  DECLARE rescur CURSOR FOR SELECT S.NetID, S.FirstName, S.LastName, avg(E.Score) as avgsc from Students S, Enrollments E where S.NetId=E.NetId group by S.NetId;  DECLARE CONTINUE HANDLER FOR NOT FOUND SET done=1;     DROP TABLE IF EXISTS NewTable;      CREATE TABLE NewTable (  NetId VARCHAR(10),  FirstName VARCHAR(255),  LastName VARCHAR(255),  FinalResult VARCHAR(4)  );     OPEN rescur;     bloop: LOOP  FETCH rescur INTO netid, fname, lname, avgscore;  IF done=1 then  LEAVE bloop;  END IF;  IF avgscore >= 60 THEN   SET finres = 'Pass';  ELSE SET finres = 'Fail';  END IF;  INSERT INTO NewTable VALUES(netid, fname, lname, finres);  END LOOP bloop;     CLOSE rescur;     SELECT * FROM NewTable;  END;\")\n"
     ]
    }
   ],
   "source": [
    "# Read current database queries\n",
    "print(\"This is reading the Queries in our DB:\")\n",
    "all_queries = db.read_all_queries()\n",
    "for entry in all_queries:\n",
    "    print(entry)"
   ]
  },
  {
   "cell_type": "code",
   "execution_count": 16,
   "metadata": {},
   "outputs": [
    {
     "name": "stdout",
     "output_type": "stream",
     "text": [
      "Number of queries: 114\n"
     ]
    }
   ],
   "source": [
    "print(\"Number of queries:\", len(all_queries))"
   ]
  },
  {
   "cell_type": "markdown",
   "metadata": {},
   "source": [
    "We can also insert into the database by creating another question or query."
   ]
  },
  {
   "cell_type": "code",
   "execution_count": 17,
   "metadata": {},
   "outputs": [
    {
     "name": "stdout",
     "output_type": "stream",
     "text": [
      "This is inserting a new Question\n",
      "Inserted the question: What is our professors name?\n"
     ]
    }
   ],
   "source": [
    "print(\"This is inserting a new Question\")\n",
    "db.create_question(\"What is our professors name?\")"
   ]
  },
  {
   "cell_type": "code",
   "execution_count": 18,
   "metadata": {},
   "outputs": [
    {
     "name": "stdout",
     "output_type": "stream",
     "text": [
      "(1, 'Popular Name')\n",
      "(2, 'Best Performer')\n",
      "(3, 'Course Enrollment')\n",
      "(4, 'test question insert')\n",
      "(5, 'test question insert')\n",
      "(6, 'test question insert')\n",
      "(7, 'test question insert')\n",
      "(8, 'test question insert')\n",
      "(9, 'test question insert')\n",
      "(10, 'test question insert')\n",
      "(11, 'test question insert')\n",
      "(12, 'test question insert')\n",
      "(14, 'What is our professors name?')\n"
     ]
    }
   ],
   "source": [
    "# We can check by using our read functionality\n",
    "for entry in db.read_all_questions():\n",
    "    print(entry)"
   ]
  },
  {
   "cell_type": "code",
   "execution_count": 20,
   "metadata": {},
   "outputs": [
    {
     "name": "stdout",
     "output_type": "stream",
     "text": [
      "Inserted \"SELECT teacherName FROM teachers WHERE teacherName = 'Abdu'\" for question 1\n"
     ]
    }
   ],
   "source": [
    "# If we do the same for queries, we can see we get an additional query in the DB\n",
    "db.create_query(1, \"SELECT teacherName FROM teachers WHERE teacherName = 'Abdu'\") # adds query for question 1"
   ]
  },
  {
   "cell_type": "code",
   "execution_count": 21,
   "metadata": {},
   "outputs": [
    {
     "name": "stdout",
     "output_type": "stream",
     "text": [
      "Number of queries: 115\n"
     ]
    }
   ],
   "source": [
    "new_all_queries = db.read_all_queries()\n",
    "print(\"Number of queries:\", len(new_all_queries)) # Should be 1 more than last time we looked"
   ]
  },
  {
   "cell_type": "code",
   "execution_count": null,
   "metadata": {},
   "outputs": [],
   "source": []
  }
 ],
 "metadata": {
  "kernelspec": {
   "display_name": "Python 3",
   "language": "python",
   "name": "python3"
  },
  "language_info": {
   "codemirror_mode": {
    "name": "ipython",
    "version": 3
   },
   "file_extension": ".py",
   "mimetype": "text/x-python",
   "name": "python",
   "nbconvert_exporter": "python",
   "pygments_lexer": "ipython3",
   "version": "3.7.5"
  }
 },
 "nbformat": 4,
 "nbformat_minor": 2
}
